{
  "nbformat": 4,
  "nbformat_minor": 0,
  "metadata": {
    "colab": {
      "name": "Data_Exploration.ipynb",
      "provenance": [],
      "collapsed_sections": [],
      "authorship_tag": "ABX9TyOiFb+eplZkqMb3roiF19Vq",
      "include_colab_link": true
    },
    "kernelspec": {
      "name": "python3",
      "display_name": "Python 3"
    },
    "language_info": {
      "name": "python"
    }
  },
  "cells": [
    {
      "cell_type": "markdown",
      "metadata": {
        "id": "view-in-github",
        "colab_type": "text"
      },
      "source": [
        "<a href=\"https://colab.research.google.com/github/mrchapagain/ConsumerDataAnalytics/blob/main/Data_Exploration.ipynb\" target=\"_parent\"><img src=\"https://colab.research.google.com/assets/colab-badge.svg\" alt=\"Open In Colab\"/></a>"
      ]
    },
    {
      "cell_type": "markdown",
      "source": [
        "**Here i try to explore different dataset to look if they can be connected, linked or somehow can talk to eachother.**\n",
        "*   *Data by Frederik*\n",
        "*   *Frida dataset of Nutrient content of food items*\n",
        "*   *Reciept from my personal Storebox account*\n",
        "*   *link from TradeSync data from GS1*\n",
        "*   *Climate Data from Concito*"
      ],
      "metadata": {
        "id": "IWr_8-ODRq4t"
      }
    },
    {
      "cell_type": "code",
      "source": [
        "#!pip install PyPDF2"
      ],
      "metadata": {
        "id": "V7qfUeQCXWV0"
      },
      "execution_count": null,
      "outputs": []
    },
    {
      "cell_type": "code",
      "source": [
        "# Necessary libaries\n",
        "import pandas as pd\n",
        "import os\n",
        "#import PyPDF2"
      ],
      "metadata": {
        "id": "Jll6mDv_8jWe"
      },
      "execution_count": 2,
      "outputs": []
    },
    {
      "cell_type": "markdown",
      "source": [
        "# Data by Frederik\n",
        "\n",
        "***Columns description***\n",
        "\n",
        "*   **itemname:** name provided by the merchant. It often, but not always, contains a enough information to ID the product.  Sometimes weight, or other information is also provided here.\n",
        "*   **itemnumber:** the product itemnumber. It can be a standardized GTIN 13 number ( 12-13 digits) supported by GS1 or a non standard number created by the retailer to identify i.e. Bananas\n",
        "*   **category:** a category code not sure how to interpret and often missing\n",
        "*   **percent_purchases:** Percent off all receipt lines in the dataset where each line is a purchas"
      ],
      "metadata": {
        "id": "GNbikMt8QiaM"
      }
    },
    {
      "cell_type": "code",
      "source": [
        "# Import data\n",
        "path_iss_data=\"https://github.com/mrchapagain/ConsumerDataAnalytics/raw/main/cpd_summary.csv\"\n",
        "\n",
        "# Open data as csv file\n",
        "data_iss= pd.read_csv(path_iss_data, sep= \";\", index_col=False, encoding='latin-1')\n",
        "\n",
        "# lets see frist 3 and last 3 rows od the dataset\n",
        "data_iss.head(3).append(data_iss.tail(5))"
      ],
      "metadata": {
        "colab": {
          "base_uri": "https://localhost:8080/",
          "height": 300
        },
        "id": "SG3NKZPF8cGd",
        "outputId": "089ac45f-540e-4bc5-8dc5-ca3d7d92ff4a"
      },
      "execution_count": 3,
      "outputs": [
        {
          "output_type": "execute_result",
          "data": {
            "text/plain": [
              "                    itemname     itemnumber category percent_purchases\n",
              "0                       PANT        8880171      845             3,369\n",
              "1                       PANT        8880171      NaN             2,055\n",
              "2                       PANT        8880172      845             1,497\n",
              "112761  PINOTEX SUPERDEC SOR    61009053404     6100            -0,002\n",
              "112762       QUICK GEVINSTER         214196      926            -0,002\n",
              "112763   UKRUDTSDUG BASIC 1X    42139019916     4213            -0,002\n",
              "112764           TRAPPEVANGE  5708832546219      600            -0,004\n",
              "112765       BR MÆRKER RETUR  5766183013538       21            -0,005"
            ],
            "text/html": [
              "\n",
              "  <div id=\"df-6f9a78f2-b6fb-4a10-a6de-e010375955e0\">\n",
              "    <div class=\"colab-df-container\">\n",
              "      <div>\n",
              "<style scoped>\n",
              "    .dataframe tbody tr th:only-of-type {\n",
              "        vertical-align: middle;\n",
              "    }\n",
              "\n",
              "    .dataframe tbody tr th {\n",
              "        vertical-align: top;\n",
              "    }\n",
              "\n",
              "    .dataframe thead th {\n",
              "        text-align: right;\n",
              "    }\n",
              "</style>\n",
              "<table border=\"1\" class=\"dataframe\">\n",
              "  <thead>\n",
              "    <tr style=\"text-align: right;\">\n",
              "      <th></th>\n",
              "      <th>itemname</th>\n",
              "      <th>itemnumber</th>\n",
              "      <th>category</th>\n",
              "      <th>percent_purchases</th>\n",
              "    </tr>\n",
              "  </thead>\n",
              "  <tbody>\n",
              "    <tr>\n",
              "      <th>0</th>\n",
              "      <td>PANT</td>\n",
              "      <td>8880171</td>\n",
              "      <td>845</td>\n",
              "      <td>3,369</td>\n",
              "    </tr>\n",
              "    <tr>\n",
              "      <th>1</th>\n",
              "      <td>PANT</td>\n",
              "      <td>8880171</td>\n",
              "      <td>NaN</td>\n",
              "      <td>2,055</td>\n",
              "    </tr>\n",
              "    <tr>\n",
              "      <th>2</th>\n",
              "      <td>PANT</td>\n",
              "      <td>8880172</td>\n",
              "      <td>845</td>\n",
              "      <td>1,497</td>\n",
              "    </tr>\n",
              "    <tr>\n",
              "      <th>112761</th>\n",
              "      <td>PINOTEX SUPERDEC SOR</td>\n",
              "      <td>61009053404</td>\n",
              "      <td>6100</td>\n",
              "      <td>-0,002</td>\n",
              "    </tr>\n",
              "    <tr>\n",
              "      <th>112762</th>\n",
              "      <td>QUICK GEVINSTER</td>\n",
              "      <td>214196</td>\n",
              "      <td>926</td>\n",
              "      <td>-0,002</td>\n",
              "    </tr>\n",
              "    <tr>\n",
              "      <th>112763</th>\n",
              "      <td>UKRUDTSDUG BASIC 1X</td>\n",
              "      <td>42139019916</td>\n",
              "      <td>4213</td>\n",
              "      <td>-0,002</td>\n",
              "    </tr>\n",
              "    <tr>\n",
              "      <th>112764</th>\n",
              "      <td>TRAPPEVANGE</td>\n",
              "      <td>5708832546219</td>\n",
              "      <td>600</td>\n",
              "      <td>-0,004</td>\n",
              "    </tr>\n",
              "    <tr>\n",
              "      <th>112765</th>\n",
              "      <td>BR MÆRKER RETUR</td>\n",
              "      <td>5766183013538</td>\n",
              "      <td>21</td>\n",
              "      <td>-0,005</td>\n",
              "    </tr>\n",
              "  </tbody>\n",
              "</table>\n",
              "</div>\n",
              "      <button class=\"colab-df-convert\" onclick=\"convertToInteractive('df-6f9a78f2-b6fb-4a10-a6de-e010375955e0')\"\n",
              "              title=\"Convert this dataframe to an interactive table.\"\n",
              "              style=\"display:none;\">\n",
              "        \n",
              "  <svg xmlns=\"http://www.w3.org/2000/svg\" height=\"24px\"viewBox=\"0 0 24 24\"\n",
              "       width=\"24px\">\n",
              "    <path d=\"M0 0h24v24H0V0z\" fill=\"none\"/>\n",
              "    <path d=\"M18.56 5.44l.94 2.06.94-2.06 2.06-.94-2.06-.94-.94-2.06-.94 2.06-2.06.94zm-11 1L8.5 8.5l.94-2.06 2.06-.94-2.06-.94L8.5 2.5l-.94 2.06-2.06.94zm10 10l.94 2.06.94-2.06 2.06-.94-2.06-.94-.94-2.06-.94 2.06-2.06.94z\"/><path d=\"M17.41 7.96l-1.37-1.37c-.4-.4-.92-.59-1.43-.59-.52 0-1.04.2-1.43.59L10.3 9.45l-7.72 7.72c-.78.78-.78 2.05 0 2.83L4 21.41c.39.39.9.59 1.41.59.51 0 1.02-.2 1.41-.59l7.78-7.78 2.81-2.81c.8-.78.8-2.07 0-2.86zM5.41 20L4 18.59l7.72-7.72 1.47 1.35L5.41 20z\"/>\n",
              "  </svg>\n",
              "      </button>\n",
              "      \n",
              "  <style>\n",
              "    .colab-df-container {\n",
              "      display:flex;\n",
              "      flex-wrap:wrap;\n",
              "      gap: 12px;\n",
              "    }\n",
              "\n",
              "    .colab-df-convert {\n",
              "      background-color: #E8F0FE;\n",
              "      border: none;\n",
              "      border-radius: 50%;\n",
              "      cursor: pointer;\n",
              "      display: none;\n",
              "      fill: #1967D2;\n",
              "      height: 32px;\n",
              "      padding: 0 0 0 0;\n",
              "      width: 32px;\n",
              "    }\n",
              "\n",
              "    .colab-df-convert:hover {\n",
              "      background-color: #E2EBFA;\n",
              "      box-shadow: 0px 1px 2px rgba(60, 64, 67, 0.3), 0px 1px 3px 1px rgba(60, 64, 67, 0.15);\n",
              "      fill: #174EA6;\n",
              "    }\n",
              "\n",
              "    [theme=dark] .colab-df-convert {\n",
              "      background-color: #3B4455;\n",
              "      fill: #D2E3FC;\n",
              "    }\n",
              "\n",
              "    [theme=dark] .colab-df-convert:hover {\n",
              "      background-color: #434B5C;\n",
              "      box-shadow: 0px 1px 3px 1px rgba(0, 0, 0, 0.15);\n",
              "      filter: drop-shadow(0px 1px 2px rgba(0, 0, 0, 0.3));\n",
              "      fill: #FFFFFF;\n",
              "    }\n",
              "  </style>\n",
              "\n",
              "      <script>\n",
              "        const buttonEl =\n",
              "          document.querySelector('#df-6f9a78f2-b6fb-4a10-a6de-e010375955e0 button.colab-df-convert');\n",
              "        buttonEl.style.display =\n",
              "          google.colab.kernel.accessAllowed ? 'block' : 'none';\n",
              "\n",
              "        async function convertToInteractive(key) {\n",
              "          const element = document.querySelector('#df-6f9a78f2-b6fb-4a10-a6de-e010375955e0');\n",
              "          const dataTable =\n",
              "            await google.colab.kernel.invokeFunction('convertToInteractive',\n",
              "                                                     [key], {});\n",
              "          if (!dataTable) return;\n",
              "\n",
              "          const docLinkHtml = 'Like what you see? Visit the ' +\n",
              "            '<a target=\"_blank\" href=https://colab.research.google.com/notebooks/data_table.ipynb>data table notebook</a>'\n",
              "            + ' to learn more about interactive tables.';\n",
              "          element.innerHTML = '';\n",
              "          dataTable['output_type'] = 'display_data';\n",
              "          await google.colab.output.renderOutput(dataTable, element);\n",
              "          const docLink = document.createElement('div');\n",
              "          docLink.innerHTML = docLinkHtml;\n",
              "          element.appendChild(docLink);\n",
              "        }\n",
              "      </script>\n",
              "    </div>\n",
              "  </div>\n",
              "  "
            ]
          },
          "metadata": {},
          "execution_count": 3
        }
      ]
    },
    {
      "cell_type": "code",
      "source": [
        "# Only print one selective row of interest to deep deeper\n",
        "#data_iss[data_iss.itemname == \"BANANER, LØSE\" or \"ØKO BANANER OR LØSE\" or \"BANANER\"] # or \"ØKO BANANER, LØSE\", HAVFRISK LAK, APPELSINER 2 KG,Agurk\n",
        "\n",
        "# only some of the rows of different kinds of the banana\n",
        "data_iss.iloc[[11, 12, 14, 18], :]   "
      ],
      "metadata": {
        "colab": {
          "base_uri": "https://localhost:8080/",
          "height": 175
        },
        "id": "bYBb2mlr_esC",
        "outputId": "50eabb21-ede6-4386-ea9a-f3772d63f18c"
      },
      "execution_count": 4,
      "outputs": [
        {
          "output_type": "execute_result",
          "data": {
            "text/plain": [
              "             itemname     itemnumber    category percent_purchases\n",
              "11  ØKO BANANER, LØSE  5712873336944          89             0,567\n",
              "12       BANANER,LØSE  5711044628659         NaN             0,565\n",
              "14            BANANER            406  0000000030             0,419\n",
              "18       BANANER,LØSE  5711044628659          89             0,266"
            ],
            "text/html": [
              "\n",
              "  <div id=\"df-9786c4c1-dea2-44a1-9720-b03267d6e503\">\n",
              "    <div class=\"colab-df-container\">\n",
              "      <div>\n",
              "<style scoped>\n",
              "    .dataframe tbody tr th:only-of-type {\n",
              "        vertical-align: middle;\n",
              "    }\n",
              "\n",
              "    .dataframe tbody tr th {\n",
              "        vertical-align: top;\n",
              "    }\n",
              "\n",
              "    .dataframe thead th {\n",
              "        text-align: right;\n",
              "    }\n",
              "</style>\n",
              "<table border=\"1\" class=\"dataframe\">\n",
              "  <thead>\n",
              "    <tr style=\"text-align: right;\">\n",
              "      <th></th>\n",
              "      <th>itemname</th>\n",
              "      <th>itemnumber</th>\n",
              "      <th>category</th>\n",
              "      <th>percent_purchases</th>\n",
              "    </tr>\n",
              "  </thead>\n",
              "  <tbody>\n",
              "    <tr>\n",
              "      <th>11</th>\n",
              "      <td>ØKO BANANER, LØSE</td>\n",
              "      <td>5712873336944</td>\n",
              "      <td>89</td>\n",
              "      <td>0,567</td>\n",
              "    </tr>\n",
              "    <tr>\n",
              "      <th>12</th>\n",
              "      <td>BANANER,LØSE</td>\n",
              "      <td>5711044628659</td>\n",
              "      <td>NaN</td>\n",
              "      <td>0,565</td>\n",
              "    </tr>\n",
              "    <tr>\n",
              "      <th>14</th>\n",
              "      <td>BANANER</td>\n",
              "      <td>406</td>\n",
              "      <td>0000000030</td>\n",
              "      <td>0,419</td>\n",
              "    </tr>\n",
              "    <tr>\n",
              "      <th>18</th>\n",
              "      <td>BANANER,LØSE</td>\n",
              "      <td>5711044628659</td>\n",
              "      <td>89</td>\n",
              "      <td>0,266</td>\n",
              "    </tr>\n",
              "  </tbody>\n",
              "</table>\n",
              "</div>\n",
              "      <button class=\"colab-df-convert\" onclick=\"convertToInteractive('df-9786c4c1-dea2-44a1-9720-b03267d6e503')\"\n",
              "              title=\"Convert this dataframe to an interactive table.\"\n",
              "              style=\"display:none;\">\n",
              "        \n",
              "  <svg xmlns=\"http://www.w3.org/2000/svg\" height=\"24px\"viewBox=\"0 0 24 24\"\n",
              "       width=\"24px\">\n",
              "    <path d=\"M0 0h24v24H0V0z\" fill=\"none\"/>\n",
              "    <path d=\"M18.56 5.44l.94 2.06.94-2.06 2.06-.94-2.06-.94-.94-2.06-.94 2.06-2.06.94zm-11 1L8.5 8.5l.94-2.06 2.06-.94-2.06-.94L8.5 2.5l-.94 2.06-2.06.94zm10 10l.94 2.06.94-2.06 2.06-.94-2.06-.94-.94-2.06-.94 2.06-2.06.94z\"/><path d=\"M17.41 7.96l-1.37-1.37c-.4-.4-.92-.59-1.43-.59-.52 0-1.04.2-1.43.59L10.3 9.45l-7.72 7.72c-.78.78-.78 2.05 0 2.83L4 21.41c.39.39.9.59 1.41.59.51 0 1.02-.2 1.41-.59l7.78-7.78 2.81-2.81c.8-.78.8-2.07 0-2.86zM5.41 20L4 18.59l7.72-7.72 1.47 1.35L5.41 20z\"/>\n",
              "  </svg>\n",
              "      </button>\n",
              "      \n",
              "  <style>\n",
              "    .colab-df-container {\n",
              "      display:flex;\n",
              "      flex-wrap:wrap;\n",
              "      gap: 12px;\n",
              "    }\n",
              "\n",
              "    .colab-df-convert {\n",
              "      background-color: #E8F0FE;\n",
              "      border: none;\n",
              "      border-radius: 50%;\n",
              "      cursor: pointer;\n",
              "      display: none;\n",
              "      fill: #1967D2;\n",
              "      height: 32px;\n",
              "      padding: 0 0 0 0;\n",
              "      width: 32px;\n",
              "    }\n",
              "\n",
              "    .colab-df-convert:hover {\n",
              "      background-color: #E2EBFA;\n",
              "      box-shadow: 0px 1px 2px rgba(60, 64, 67, 0.3), 0px 1px 3px 1px rgba(60, 64, 67, 0.15);\n",
              "      fill: #174EA6;\n",
              "    }\n",
              "\n",
              "    [theme=dark] .colab-df-convert {\n",
              "      background-color: #3B4455;\n",
              "      fill: #D2E3FC;\n",
              "    }\n",
              "\n",
              "    [theme=dark] .colab-df-convert:hover {\n",
              "      background-color: #434B5C;\n",
              "      box-shadow: 0px 1px 3px 1px rgba(0, 0, 0, 0.15);\n",
              "      filter: drop-shadow(0px 1px 2px rgba(0, 0, 0, 0.3));\n",
              "      fill: #FFFFFF;\n",
              "    }\n",
              "  </style>\n",
              "\n",
              "      <script>\n",
              "        const buttonEl =\n",
              "          document.querySelector('#df-9786c4c1-dea2-44a1-9720-b03267d6e503 button.colab-df-convert');\n",
              "        buttonEl.style.display =\n",
              "          google.colab.kernel.accessAllowed ? 'block' : 'none';\n",
              "\n",
              "        async function convertToInteractive(key) {\n",
              "          const element = document.querySelector('#df-9786c4c1-dea2-44a1-9720-b03267d6e503');\n",
              "          const dataTable =\n",
              "            await google.colab.kernel.invokeFunction('convertToInteractive',\n",
              "                                                     [key], {});\n",
              "          if (!dataTable) return;\n",
              "\n",
              "          const docLinkHtml = 'Like what you see? Visit the ' +\n",
              "            '<a target=\"_blank\" href=https://colab.research.google.com/notebooks/data_table.ipynb>data table notebook</a>'\n",
              "            + ' to learn more about interactive tables.';\n",
              "          element.innerHTML = '';\n",
              "          dataTable['output_type'] = 'display_data';\n",
              "          await google.colab.output.renderOutput(dataTable, element);\n",
              "          const docLink = document.createElement('div');\n",
              "          docLink.innerHTML = docLinkHtml;\n",
              "          element.appendChild(docLink);\n",
              "        }\n",
              "      </script>\n",
              "    </div>\n",
              "  </div>\n",
              "  "
            ]
          },
          "metadata": {},
          "execution_count": 4
        }
      ]
    },
    {
      "cell_type": "markdown",
      "source": [
        "***In above ddataset, only one food itemname (fx `\"ØKO BANANER, LØSE\"`) is appear in different rows with;***\n",
        "*   Many different itemnumber, even some are 13 digits and other are 8 digits\n",
        "*   NULL percent purchage"
      ],
      "metadata": {
        "id": "tQfUbWhMCK0R"
      }
    },
    {
      "cell_type": "markdown",
      "source": [
        "***Here i like to use NLP to find split itemname to name and other entity***"
      ],
      "metadata": {
        "id": "y4e7DEwbcvov"
      }
    },
    {
      "cell_type": "code",
      "source": [
        "#!pip install nltk"
      ],
      "metadata": {
        "id": "n3PPjsh1I6c3"
      },
      "execution_count": 5,
      "outputs": []
    },
    {
      "cell_type": "code",
      "source": [
        "# Liaries for NLP\n",
        "from nltk.tokenize import word_tokenize\n",
        "\n",
        "import nltk\n",
        "nltk.download(\"popular\")\n",
        "nltk.download(\"stopwords\")\n",
        "from nltk.corpus import stopwords\n",
        "\n",
        "from nltk.stem import PorterStemmer\n",
        "from nltk.stem.wordnet import WordNetLemmatizer\n",
        "nltk.download(\"omw-1.4\")\n",
        "\n",
        "stop_words= set(stopwords.words(\"danish\"))\n",
        "print(stop_words)\n",
        "\n",
        "# for regular expression\n",
        "import re"
      ],
      "metadata": {
        "id": "IGjhtTAijiUy",
        "outputId": "b4cd2122-ece2-4a11-bb60-b4974f3b8fb7",
        "colab": {
          "base_uri": "https://localhost:8080/"
        }
      },
      "execution_count": 6,
      "outputs": [
        {
          "output_type": "stream",
          "name": "stderr",
          "text": [
            "[nltk_data] Downloading collection 'popular'\n",
            "[nltk_data]    | \n",
            "[nltk_data]    | Downloading package cmudict to /root/nltk_data...\n",
            "[nltk_data]    |   Unzipping corpora/cmudict.zip.\n",
            "[nltk_data]    | Downloading package gazetteers to /root/nltk_data...\n",
            "[nltk_data]    |   Unzipping corpora/gazetteers.zip.\n",
            "[nltk_data]    | Downloading package genesis to /root/nltk_data...\n",
            "[nltk_data]    |   Unzipping corpora/genesis.zip.\n",
            "[nltk_data]    | Downloading package gutenberg to /root/nltk_data...\n",
            "[nltk_data]    |   Unzipping corpora/gutenberg.zip.\n",
            "[nltk_data]    | Downloading package inaugural to /root/nltk_data...\n",
            "[nltk_data]    |   Unzipping corpora/inaugural.zip.\n",
            "[nltk_data]    | Downloading package movie_reviews to\n",
            "[nltk_data]    |     /root/nltk_data...\n",
            "[nltk_data]    |   Unzipping corpora/movie_reviews.zip.\n",
            "[nltk_data]    | Downloading package names to /root/nltk_data...\n",
            "[nltk_data]    |   Unzipping corpora/names.zip.\n",
            "[nltk_data]    | Downloading package shakespeare to /root/nltk_data...\n",
            "[nltk_data]    |   Unzipping corpora/shakespeare.zip.\n",
            "[nltk_data]    | Downloading package stopwords to /root/nltk_data...\n",
            "[nltk_data]    |   Unzipping corpora/stopwords.zip.\n",
            "[nltk_data]    | Downloading package treebank to /root/nltk_data...\n",
            "[nltk_data]    |   Unzipping corpora/treebank.zip.\n",
            "[nltk_data]    | Downloading package twitter_samples to\n",
            "[nltk_data]    |     /root/nltk_data...\n",
            "[nltk_data]    |   Unzipping corpora/twitter_samples.zip.\n",
            "[nltk_data]    | Downloading package omw to /root/nltk_data...\n",
            "[nltk_data]    | Downloading package omw-1.4 to /root/nltk_data...\n",
            "[nltk_data]    | Downloading package wordnet to /root/nltk_data...\n",
            "[nltk_data]    | Downloading package wordnet2021 to /root/nltk_data...\n",
            "[nltk_data]    | Downloading package wordnet31 to /root/nltk_data...\n",
            "[nltk_data]    | Downloading package wordnet_ic to /root/nltk_data...\n",
            "[nltk_data]    |   Unzipping corpora/wordnet_ic.zip.\n",
            "[nltk_data]    | Downloading package words to /root/nltk_data...\n",
            "[nltk_data]    |   Unzipping corpora/words.zip.\n",
            "[nltk_data]    | Downloading package maxent_ne_chunker to\n",
            "[nltk_data]    |     /root/nltk_data...\n",
            "[nltk_data]    |   Unzipping chunkers/maxent_ne_chunker.zip.\n",
            "[nltk_data]    | Downloading package punkt to /root/nltk_data...\n",
            "[nltk_data]    |   Unzipping tokenizers/punkt.zip.\n",
            "[nltk_data]    | Downloading package snowball_data to\n",
            "[nltk_data]    |     /root/nltk_data...\n",
            "[nltk_data]    | Downloading package averaged_perceptron_tagger to\n",
            "[nltk_data]    |     /root/nltk_data...\n",
            "[nltk_data]    |   Unzipping taggers/averaged_perceptron_tagger.zip.\n"
          ]
        },
        {
          "output_type": "stream",
          "name": "stdout",
          "text": [
            "{'denne', 'nogle', 'man', 'mange', 'af', 'skulle', 'til', 'være', 'er', 'mig', 'have', 'thi', 'ikke', 'selv', 'sit', 'der', 'under', 'jeg', 'min', 'han', 'dem', 'ville', 'for', 'vi', 'hvis', 'over', 'hans', 'sin', 'om', 'op', 'skal', 'et', 'var', 'efter', 'ud', 'noget', 'det', 'dig', 'bliver', 'her', 'kunne', 'deres', 'meget', 'hvor', 'de', 'anden', 'ham', 'hos', 'hendes', 'hun', 'alle', 'eller', 'men', 'hvad', 'vil', 'ad', 'din', 'med', 'jo', 'sig', 'også', 'at', 'som', 'end', 'sådan', 'da', 'blive', 'når', 'ned', 'vor', 'jer', 'nu', 'du', 'ind', 'sine', 'alt', 'fra', 'mit', 'været', 'i', 'dette', 'mod', 'og', 'har', 'os', 'blev', 'disse', 'en', 'mine', 'den', 'på', 'havde', 'dog', 'hende'}\n"
          ]
        },
        {
          "output_type": "stream",
          "name": "stderr",
          "text": [
            "[nltk_data]    | \n",
            "[nltk_data]  Done downloading collection popular\n",
            "[nltk_data] Downloading package stopwords to /root/nltk_data...\n",
            "[nltk_data]   Package stopwords is already up-to-date!\n",
            "[nltk_data] Downloading package omw-1.4 to /root/nltk_data...\n",
            "[nltk_data]   Package omw-1.4 is already up-to-date!\n"
          ]
        }
      ]
    },
    {
      "cell_type": "code",
      "source": [
        "# here i am going to use Regular Express (RegEx) for turning sentance to each word (Word Tokenization)\n",
        "def remove_delimiters(sentence):\n",
        "  return re.findall(r'\\w+', sentence)\n",
        "\n",
        "sents= \" UKRUDTSDUG BASIC 1X  \" # sdujh\tØKO BANANER, LØSE jhghujw, hsdfgw\"\n",
        "\n",
        "trimmed_sent= remove_delimiters(sents)\n",
        "trimmed_sent"
      ],
      "metadata": {
        "id": "rmGF0jO3m4Vq",
        "outputId": "18e081af-ea9f-4bd2-e8e3-e0fac3cbb4fe",
        "colab": {
          "base_uri": "https://localhost:8080/"
        }
      },
      "execution_count": 7,
      "outputs": [
        {
          "output_type": "execute_result",
          "data": {
            "text/plain": [
              "['UKRUDTSDUG', 'BASIC', '1X']"
            ]
          },
          "metadata": {},
          "execution_count": 7
        }
      ]
    },
    {
      "cell_type": "code",
      "source": [
        "#WWord tagging\n",
        "words= nltk.word_tokenize(sents)\n",
        "pos_tag= nltk.pos_tag(words)\n",
        "\n",
        "words\n",
        "pos_tag"
      ],
      "metadata": {
        "id": "aF6O5cFrtz1e",
        "outputId": "600d82e1-609c-4f1f-a4d5-4ab6122fd089",
        "colab": {
          "base_uri": "https://localhost:8080/"
        }
      },
      "execution_count": 8,
      "outputs": [
        {
          "output_type": "execute_result",
          "data": {
            "text/plain": [
              "[('UKRUDTSDUG', 'NNP'), ('BASIC', 'NNP'), ('1X', 'CD')]"
            ]
          },
          "metadata": {},
          "execution_count": 8
        }
      ]
    },
    {
      "cell_type": "code",
      "source": [
        "#!pip install spacy"
      ],
      "metadata": {
        "id": "nHUj3-r0YIdP"
      },
      "execution_count": 18,
      "outputs": []
    },
    {
      "cell_type": "code",
      "source": [
        "# Dependancy parcing\n",
        "import spacy\n",
        "\n",
        "\n",
        "import spacy.cli\n",
        "spacy.cli.download(\"da_core_news_lg\")\n",
        "nlp= spacy.load('da_core_news_lg')\n",
        "from spacy import displacy\n",
        "\n",
        "temp= nlp(sents)\n",
        "displacy.serve(temp, style= 'dep')"
      ],
      "metadata": {
        "id": "hL7QZGyZWO6s",
        "outputId": "25da25cd-ddc5-4e6d-8dfe-3ccfdd998fcb",
        "colab": {
          "base_uri": "https://localhost:8080/"
        }
      },
      "execution_count": 10,
      "outputs": [
        {
          "output_type": "stream",
          "name": "stdout",
          "text": [
            "\u001b[38;5;2m✔ Download and installation successful\u001b[0m\n",
            "You can now load the package via spacy.load('da_core_news_lg')\n",
            "\n",
            "Using the 'dep' visualizer\n",
            "Serving on http://0.0.0.0:5000 ...\n",
            "\n",
            "Shutting down server on port 5000.\n"
          ]
        }
      ]
    },
    {
      "cell_type": "code",
      "source": [
        "import spacy\n",
        "from spacy.lang.da.examples import sentences \n",
        "\n",
        "nlp = spacy.load(\"da_core_news_lg\")\n",
        "doc = nlp(sentences[0])\n",
        "print(doc.text)\n",
        "for token in doc:\n",
        "    print(token.text, token.pos_, token.dep_)"
      ],
      "metadata": {
        "id": "7lnKgXpcW_V_",
        "outputId": "f09db0c3-274b-435e-afba-659ed4091ed6",
        "colab": {
          "base_uri": "https://localhost:8080/"
        }
      },
      "execution_count": 11,
      "outputs": [
        {
          "output_type": "stream",
          "name": "stdout",
          "text": [
            "Apple overvejer at købe et britisk startup for 1 milliard dollar.\n",
            "Apple PROPN nsubj\n",
            "overvejer VERB ROOT\n",
            "at PART mark\n",
            "købe VERB obj\n",
            "et DET det\n",
            "britisk ADJ amod\n",
            "startup NOUN obj\n",
            "for ADP case\n",
            "1 NUM nummod\n",
            "milliard NOUN nmod\n",
            "dollar PROPN nmod\n",
            ". PUNCT punct\n"
          ]
        }
      ]
    },
    {
      "cell_type": "markdown",
      "source": [
        "# FRIDA Food Composition Database\n",
        "***FRIDA Food Composition Database  contain mainly Nutrition value of the each food items***\n",
        "\n",
        "*   ***Category list:*** https://frida.fooddata.dk/food/lists/grouped?lang=en\n",
        "*   ***Data display inspiration:*** https://foodb.ca/foods/FOOD00011\n",
        "*   ***Display on FRIDA:*** https://frida.fooddata.dk/food/754?lang=en"
      ],
      "metadata": {
        "id": "SkyZhlg2Quda"
      }
    },
    {
      "cell_type": "code",
      "source": [
        "# Import FRIDA Nutrient data\n",
        "path_frida_data=\"https://github.com/mrchapagain/ConsumerDataAnalytics/raw/main/FridaNutrientData.xlsx\"\n",
        "\n",
        "# Lets open data as they are but only 26 columns out of 201 columns\n",
        "data_frida= pd.read_excel(path_frida_data, sheet_name=1, index_col=None, header=0, skiprows=0).round(decimals = 2).iloc[:, :26]\n",
        "data_frida.head(6)"
      ],
      "metadata": {
        "id": "9Upaz_BKJoKt",
        "outputId": "7fe6f1cf-3978-4d99-a78c-195772901460",
        "colab": {
          "base_uri": "https://localhost:8080/",
          "height": 345
        }
      },
      "execution_count": 69,
      "outputs": [
        {
          "output_type": "execute_result",
          "data": {
            "text/plain": [
              "  Unnamed: 0               Unnamed: 1             Unnamed: 2 Svind Energi, kJ  \\\n",
              "0     Nummer                   gruppe                   Navn     %         kJ   \n",
              "1          1                 Bærfrugt            Jordbær, rå     4        162   \n",
              "2          2               Kernefrugt      Æble, uspec., råt    10        233   \n",
              "3          3                 Sydfrugt              Banan, rå    41        396   \n",
              "4          4  Rod- og knoldgrøntsager  Kartoffel, uspec., rå    25        326   \n",
              "5          5                 Bærfrugt            Hindbær, rå     0        215   \n",
              "\n",
              "  Energi, kcal Nitrogen-til-protein faktor Nitrogen, total  \\\n",
              "0         kcal                           -               g   \n",
              "1           38                        6.25           0.106   \n",
              "2           55                        6.25           0.043   \n",
              "3           93                        6.25           0.183   \n",
              "4           77                        6.25           0.324   \n",
              "5           51                        6.25           0.219   \n",
              "\n",
              "  Protein, videnskabelig Protein, deklaration  ...   FCF Alkohol Aske Tørstof  \\\n",
              "0                      g                    g  ...     -       g    g       g   \n",
              "1                    0.7                  0.7  ...   0.8       0  0.4      10   \n",
              "2                    0.3                  0.3  ...   0.8       0  0.3    15.1   \n",
              "3                    1.1                  1.1  ...  0.73       0  0.7    24.6   \n",
              "4                      2                    2  ...   0.8       0  0.9    20.5   \n",
              "5                    1.4                  1.4  ...   0.8       0  0.5    13.8   \n",
              "\n",
              "   Vand A-vitamin Retinol beta-caroten D-vitamin D3-vitamin  \n",
              "0     g        RE      µg           µg        µg         µg  \n",
              "1    90      3.33       0           40         0          0  \n",
              "2  84.9      2.08       0           25         0          0  \n",
              "3  75.3      4.42       0           53         0          0  \n",
              "4  79.5     0.833       0           10         0          0  \n",
              "5  86.2       3.5       0           42         0          0  \n",
              "\n",
              "[6 rows x 26 columns]"
            ],
            "text/html": [
              "\n",
              "  <div id=\"df-50c11602-c2b2-4d07-a874-500e146baf7b\">\n",
              "    <div class=\"colab-df-container\">\n",
              "      <div>\n",
              "<style scoped>\n",
              "    .dataframe tbody tr th:only-of-type {\n",
              "        vertical-align: middle;\n",
              "    }\n",
              "\n",
              "    .dataframe tbody tr th {\n",
              "        vertical-align: top;\n",
              "    }\n",
              "\n",
              "    .dataframe thead th {\n",
              "        text-align: right;\n",
              "    }\n",
              "</style>\n",
              "<table border=\"1\" class=\"dataframe\">\n",
              "  <thead>\n",
              "    <tr style=\"text-align: right;\">\n",
              "      <th></th>\n",
              "      <th>Unnamed: 0</th>\n",
              "      <th>Unnamed: 1</th>\n",
              "      <th>Unnamed: 2</th>\n",
              "      <th>Svind</th>\n",
              "      <th>Energi, kJ</th>\n",
              "      <th>Energi, kcal</th>\n",
              "      <th>Nitrogen-til-protein faktor</th>\n",
              "      <th>Nitrogen, total</th>\n",
              "      <th>Protein, videnskabelig</th>\n",
              "      <th>Protein, deklaration</th>\n",
              "      <th>...</th>\n",
              "      <th>FCF</th>\n",
              "      <th>Alkohol</th>\n",
              "      <th>Aske</th>\n",
              "      <th>Tørstof</th>\n",
              "      <th>Vand</th>\n",
              "      <th>A-vitamin</th>\n",
              "      <th>Retinol</th>\n",
              "      <th>beta-caroten</th>\n",
              "      <th>D-vitamin</th>\n",
              "      <th>D3-vitamin</th>\n",
              "    </tr>\n",
              "  </thead>\n",
              "  <tbody>\n",
              "    <tr>\n",
              "      <th>0</th>\n",
              "      <td>Nummer</td>\n",
              "      <td>gruppe</td>\n",
              "      <td>Navn</td>\n",
              "      <td>%</td>\n",
              "      <td>kJ</td>\n",
              "      <td>kcal</td>\n",
              "      <td>-</td>\n",
              "      <td>g</td>\n",
              "      <td>g</td>\n",
              "      <td>g</td>\n",
              "      <td>...</td>\n",
              "      <td>-</td>\n",
              "      <td>g</td>\n",
              "      <td>g</td>\n",
              "      <td>g</td>\n",
              "      <td>g</td>\n",
              "      <td>RE</td>\n",
              "      <td>µg</td>\n",
              "      <td>µg</td>\n",
              "      <td>µg</td>\n",
              "      <td>µg</td>\n",
              "    </tr>\n",
              "    <tr>\n",
              "      <th>1</th>\n",
              "      <td>1</td>\n",
              "      <td>Bærfrugt</td>\n",
              "      <td>Jordbær, rå</td>\n",
              "      <td>4</td>\n",
              "      <td>162</td>\n",
              "      <td>38</td>\n",
              "      <td>6.25</td>\n",
              "      <td>0.106</td>\n",
              "      <td>0.7</td>\n",
              "      <td>0.7</td>\n",
              "      <td>...</td>\n",
              "      <td>0.8</td>\n",
              "      <td>0</td>\n",
              "      <td>0.4</td>\n",
              "      <td>10</td>\n",
              "      <td>90</td>\n",
              "      <td>3.33</td>\n",
              "      <td>0</td>\n",
              "      <td>40</td>\n",
              "      <td>0</td>\n",
              "      <td>0</td>\n",
              "    </tr>\n",
              "    <tr>\n",
              "      <th>2</th>\n",
              "      <td>2</td>\n",
              "      <td>Kernefrugt</td>\n",
              "      <td>Æble, uspec., råt</td>\n",
              "      <td>10</td>\n",
              "      <td>233</td>\n",
              "      <td>55</td>\n",
              "      <td>6.25</td>\n",
              "      <td>0.043</td>\n",
              "      <td>0.3</td>\n",
              "      <td>0.3</td>\n",
              "      <td>...</td>\n",
              "      <td>0.8</td>\n",
              "      <td>0</td>\n",
              "      <td>0.3</td>\n",
              "      <td>15.1</td>\n",
              "      <td>84.9</td>\n",
              "      <td>2.08</td>\n",
              "      <td>0</td>\n",
              "      <td>25</td>\n",
              "      <td>0</td>\n",
              "      <td>0</td>\n",
              "    </tr>\n",
              "    <tr>\n",
              "      <th>3</th>\n",
              "      <td>3</td>\n",
              "      <td>Sydfrugt</td>\n",
              "      <td>Banan, rå</td>\n",
              "      <td>41</td>\n",
              "      <td>396</td>\n",
              "      <td>93</td>\n",
              "      <td>6.25</td>\n",
              "      <td>0.183</td>\n",
              "      <td>1.1</td>\n",
              "      <td>1.1</td>\n",
              "      <td>...</td>\n",
              "      <td>0.73</td>\n",
              "      <td>0</td>\n",
              "      <td>0.7</td>\n",
              "      <td>24.6</td>\n",
              "      <td>75.3</td>\n",
              "      <td>4.42</td>\n",
              "      <td>0</td>\n",
              "      <td>53</td>\n",
              "      <td>0</td>\n",
              "      <td>0</td>\n",
              "    </tr>\n",
              "    <tr>\n",
              "      <th>4</th>\n",
              "      <td>4</td>\n",
              "      <td>Rod- og knoldgrøntsager</td>\n",
              "      <td>Kartoffel, uspec., rå</td>\n",
              "      <td>25</td>\n",
              "      <td>326</td>\n",
              "      <td>77</td>\n",
              "      <td>6.25</td>\n",
              "      <td>0.324</td>\n",
              "      <td>2</td>\n",
              "      <td>2</td>\n",
              "      <td>...</td>\n",
              "      <td>0.8</td>\n",
              "      <td>0</td>\n",
              "      <td>0.9</td>\n",
              "      <td>20.5</td>\n",
              "      <td>79.5</td>\n",
              "      <td>0.833</td>\n",
              "      <td>0</td>\n",
              "      <td>10</td>\n",
              "      <td>0</td>\n",
              "      <td>0</td>\n",
              "    </tr>\n",
              "    <tr>\n",
              "      <th>5</th>\n",
              "      <td>5</td>\n",
              "      <td>Bærfrugt</td>\n",
              "      <td>Hindbær, rå</td>\n",
              "      <td>0</td>\n",
              "      <td>215</td>\n",
              "      <td>51</td>\n",
              "      <td>6.25</td>\n",
              "      <td>0.219</td>\n",
              "      <td>1.4</td>\n",
              "      <td>1.4</td>\n",
              "      <td>...</td>\n",
              "      <td>0.8</td>\n",
              "      <td>0</td>\n",
              "      <td>0.5</td>\n",
              "      <td>13.8</td>\n",
              "      <td>86.2</td>\n",
              "      <td>3.5</td>\n",
              "      <td>0</td>\n",
              "      <td>42</td>\n",
              "      <td>0</td>\n",
              "      <td>0</td>\n",
              "    </tr>\n",
              "  </tbody>\n",
              "</table>\n",
              "<p>6 rows × 26 columns</p>\n",
              "</div>\n",
              "      <button class=\"colab-df-convert\" onclick=\"convertToInteractive('df-50c11602-c2b2-4d07-a874-500e146baf7b')\"\n",
              "              title=\"Convert this dataframe to an interactive table.\"\n",
              "              style=\"display:none;\">\n",
              "        \n",
              "  <svg xmlns=\"http://www.w3.org/2000/svg\" height=\"24px\"viewBox=\"0 0 24 24\"\n",
              "       width=\"24px\">\n",
              "    <path d=\"M0 0h24v24H0V0z\" fill=\"none\"/>\n",
              "    <path d=\"M18.56 5.44l.94 2.06.94-2.06 2.06-.94-2.06-.94-.94-2.06-.94 2.06-2.06.94zm-11 1L8.5 8.5l.94-2.06 2.06-.94-2.06-.94L8.5 2.5l-.94 2.06-2.06.94zm10 10l.94 2.06.94-2.06 2.06-.94-2.06-.94-.94-2.06-.94 2.06-2.06.94z\"/><path d=\"M17.41 7.96l-1.37-1.37c-.4-.4-.92-.59-1.43-.59-.52 0-1.04.2-1.43.59L10.3 9.45l-7.72 7.72c-.78.78-.78 2.05 0 2.83L4 21.41c.39.39.9.59 1.41.59.51 0 1.02-.2 1.41-.59l7.78-7.78 2.81-2.81c.8-.78.8-2.07 0-2.86zM5.41 20L4 18.59l7.72-7.72 1.47 1.35L5.41 20z\"/>\n",
              "  </svg>\n",
              "      </button>\n",
              "      \n",
              "  <style>\n",
              "    .colab-df-container {\n",
              "      display:flex;\n",
              "      flex-wrap:wrap;\n",
              "      gap: 12px;\n",
              "    }\n",
              "\n",
              "    .colab-df-convert {\n",
              "      background-color: #E8F0FE;\n",
              "      border: none;\n",
              "      border-radius: 50%;\n",
              "      cursor: pointer;\n",
              "      display: none;\n",
              "      fill: #1967D2;\n",
              "      height: 32px;\n",
              "      padding: 0 0 0 0;\n",
              "      width: 32px;\n",
              "    }\n",
              "\n",
              "    .colab-df-convert:hover {\n",
              "      background-color: #E2EBFA;\n",
              "      box-shadow: 0px 1px 2px rgba(60, 64, 67, 0.3), 0px 1px 3px 1px rgba(60, 64, 67, 0.15);\n",
              "      fill: #174EA6;\n",
              "    }\n",
              "\n",
              "    [theme=dark] .colab-df-convert {\n",
              "      background-color: #3B4455;\n",
              "      fill: #D2E3FC;\n",
              "    }\n",
              "\n",
              "    [theme=dark] .colab-df-convert:hover {\n",
              "      background-color: #434B5C;\n",
              "      box-shadow: 0px 1px 3px 1px rgba(0, 0, 0, 0.15);\n",
              "      filter: drop-shadow(0px 1px 2px rgba(0, 0, 0, 0.3));\n",
              "      fill: #FFFFFF;\n",
              "    }\n",
              "  </style>\n",
              "\n",
              "      <script>\n",
              "        const buttonEl =\n",
              "          document.querySelector('#df-50c11602-c2b2-4d07-a874-500e146baf7b button.colab-df-convert');\n",
              "        buttonEl.style.display =\n",
              "          google.colab.kernel.accessAllowed ? 'block' : 'none';\n",
              "\n",
              "        async function convertToInteractive(key) {\n",
              "          const element = document.querySelector('#df-50c11602-c2b2-4d07-a874-500e146baf7b');\n",
              "          const dataTable =\n",
              "            await google.colab.kernel.invokeFunction('convertToInteractive',\n",
              "                                                     [key], {});\n",
              "          if (!dataTable) return;\n",
              "\n",
              "          const docLinkHtml = 'Like what you see? Visit the ' +\n",
              "            '<a target=\"_blank\" href=https://colab.research.google.com/notebooks/data_table.ipynb>data table notebook</a>'\n",
              "            + ' to learn more about interactive tables.';\n",
              "          element.innerHTML = '';\n",
              "          dataTable['output_type'] = 'display_data';\n",
              "          await google.colab.output.renderOutput(dataTable, element);\n",
              "          const docLink = document.createElement('div');\n",
              "          docLink.innerHTML = docLinkHtml;\n",
              "          element.appendChild(docLink);\n",
              "        }\n",
              "      </script>\n",
              "    </div>\n",
              "  </div>\n",
              "  "
            ]
          },
          "metadata": {},
          "execution_count": 69
        }
      ]
    },
    {
      "cell_type": "code",
      "source": [
        "# Lets define columns name that are readeable\n",
        "column_names= [\"FoodId\", 'Gruppe', 'Navn', 'Svind_%', 'Energy_kj', 'Energy_kcal', 'Nitrogen_til_protein_faktor', 'Nitrogen_total_g', 'Protein_videnskabelign_g', 'Protein_deklaration_g', 'Kulhydrat_difference_g', 'Kulhydrat_tilgængelig_g', 'Kulhydrat_deklaration_g', 'Tilsat_sukker_g', 'Kostfibre_g', 'Fedt_total_g', 'FCF', 'Alkohol_g', 'Aske_g', 'Tørstof_g', 'Vand_g', 'A_vitamin_RE', 'Retinol_µg', 'beta_caroten_µg', 'D_vitamin_µg', 'D3_vitamin_µg']\n",
        "\n",
        "# Lets open with little modificaton so easy to read and understand\n",
        "data_frida= pd.read_excel(path_frida_data, sheet_name=1, index_col=None, header=None, skiprows=2).round(decimals = 2).iloc[:, :26]\n",
        "# Assign columns name that defined just above\n",
        "data_frida.columns= column_names\n",
        "\n",
        "# lets see first 3 and last 3 rows od the dataset\n",
        "data_frida.head(3).append(data_frida.tail(3))\n",
        "#data_frida[data_frida.Gruppe == 'Sydfrugt'] #\"Frugt\"-grøntsager, Sydfrugt, Bærfrugt\n",
        "data_frida[data_frida.Navn == \"Banan, rå\"]\n"
      ],
      "metadata": {
        "id": "LRfCNCdyd3Gy",
        "outputId": "25dd3014-3a37-4018-aec8-b0e4f6a7675f",
        "colab": {
          "base_uri": "https://localhost:8080/",
          "height": 191
        }
      },
      "execution_count": 72,
      "outputs": [
        {
          "output_type": "execute_result",
          "data": {
            "text/plain": [
              "   FoodId    Gruppe       Navn Svind_% Energy_kj Energy_kcal  \\\n",
              "2       3  Sydfrugt  Banan, rå      41       396          93   \n",
              "\n",
              "  Nitrogen_til_protein_faktor Nitrogen_total_g Protein_videnskabelign_g  \\\n",
              "2                        6.25            0.183                      1.1   \n",
              "\n",
              "  Protein_deklaration_g  ...   FCF Alkohol_g Aske_g Tørstof_g Vand_g  \\\n",
              "2                   1.1  ...  0.73         0    0.7      24.6   75.3   \n",
              "\n",
              "  A_vitamin_RE Retinol_µg beta_caroten_µg D_vitamin_µg D3_vitamin_µg  \n",
              "2         4.42          0              53            0             0  \n",
              "\n",
              "[1 rows x 26 columns]"
            ],
            "text/html": [
              "\n",
              "  <div id=\"df-a349e78f-346a-45fe-8039-2e39fac8fb80\">\n",
              "    <div class=\"colab-df-container\">\n",
              "      <div>\n",
              "<style scoped>\n",
              "    .dataframe tbody tr th:only-of-type {\n",
              "        vertical-align: middle;\n",
              "    }\n",
              "\n",
              "    .dataframe tbody tr th {\n",
              "        vertical-align: top;\n",
              "    }\n",
              "\n",
              "    .dataframe thead th {\n",
              "        text-align: right;\n",
              "    }\n",
              "</style>\n",
              "<table border=\"1\" class=\"dataframe\">\n",
              "  <thead>\n",
              "    <tr style=\"text-align: right;\">\n",
              "      <th></th>\n",
              "      <th>FoodId</th>\n",
              "      <th>Gruppe</th>\n",
              "      <th>Navn</th>\n",
              "      <th>Svind_%</th>\n",
              "      <th>Energy_kj</th>\n",
              "      <th>Energy_kcal</th>\n",
              "      <th>Nitrogen_til_protein_faktor</th>\n",
              "      <th>Nitrogen_total_g</th>\n",
              "      <th>Protein_videnskabelign_g</th>\n",
              "      <th>Protein_deklaration_g</th>\n",
              "      <th>...</th>\n",
              "      <th>FCF</th>\n",
              "      <th>Alkohol_g</th>\n",
              "      <th>Aske_g</th>\n",
              "      <th>Tørstof_g</th>\n",
              "      <th>Vand_g</th>\n",
              "      <th>A_vitamin_RE</th>\n",
              "      <th>Retinol_µg</th>\n",
              "      <th>beta_caroten_µg</th>\n",
              "      <th>D_vitamin_µg</th>\n",
              "      <th>D3_vitamin_µg</th>\n",
              "    </tr>\n",
              "  </thead>\n",
              "  <tbody>\n",
              "    <tr>\n",
              "      <th>2</th>\n",
              "      <td>3</td>\n",
              "      <td>Sydfrugt</td>\n",
              "      <td>Banan, rå</td>\n",
              "      <td>41</td>\n",
              "      <td>396</td>\n",
              "      <td>93</td>\n",
              "      <td>6.25</td>\n",
              "      <td>0.183</td>\n",
              "      <td>1.1</td>\n",
              "      <td>1.1</td>\n",
              "      <td>...</td>\n",
              "      <td>0.73</td>\n",
              "      <td>0</td>\n",
              "      <td>0.7</td>\n",
              "      <td>24.6</td>\n",
              "      <td>75.3</td>\n",
              "      <td>4.42</td>\n",
              "      <td>0</td>\n",
              "      <td>53</td>\n",
              "      <td>0</td>\n",
              "      <td>0</td>\n",
              "    </tr>\n",
              "  </tbody>\n",
              "</table>\n",
              "<p>1 rows × 26 columns</p>\n",
              "</div>\n",
              "      <button class=\"colab-df-convert\" onclick=\"convertToInteractive('df-a349e78f-346a-45fe-8039-2e39fac8fb80')\"\n",
              "              title=\"Convert this dataframe to an interactive table.\"\n",
              "              style=\"display:none;\">\n",
              "        \n",
              "  <svg xmlns=\"http://www.w3.org/2000/svg\" height=\"24px\"viewBox=\"0 0 24 24\"\n",
              "       width=\"24px\">\n",
              "    <path d=\"M0 0h24v24H0V0z\" fill=\"none\"/>\n",
              "    <path d=\"M18.56 5.44l.94 2.06.94-2.06 2.06-.94-2.06-.94-.94-2.06-.94 2.06-2.06.94zm-11 1L8.5 8.5l.94-2.06 2.06-.94-2.06-.94L8.5 2.5l-.94 2.06-2.06.94zm10 10l.94 2.06.94-2.06 2.06-.94-2.06-.94-.94-2.06-.94 2.06-2.06.94z\"/><path d=\"M17.41 7.96l-1.37-1.37c-.4-.4-.92-.59-1.43-.59-.52 0-1.04.2-1.43.59L10.3 9.45l-7.72 7.72c-.78.78-.78 2.05 0 2.83L4 21.41c.39.39.9.59 1.41.59.51 0 1.02-.2 1.41-.59l7.78-7.78 2.81-2.81c.8-.78.8-2.07 0-2.86zM5.41 20L4 18.59l7.72-7.72 1.47 1.35L5.41 20z\"/>\n",
              "  </svg>\n",
              "      </button>\n",
              "      \n",
              "  <style>\n",
              "    .colab-df-container {\n",
              "      display:flex;\n",
              "      flex-wrap:wrap;\n",
              "      gap: 12px;\n",
              "    }\n",
              "\n",
              "    .colab-df-convert {\n",
              "      background-color: #E8F0FE;\n",
              "      border: none;\n",
              "      border-radius: 50%;\n",
              "      cursor: pointer;\n",
              "      display: none;\n",
              "      fill: #1967D2;\n",
              "      height: 32px;\n",
              "      padding: 0 0 0 0;\n",
              "      width: 32px;\n",
              "    }\n",
              "\n",
              "    .colab-df-convert:hover {\n",
              "      background-color: #E2EBFA;\n",
              "      box-shadow: 0px 1px 2px rgba(60, 64, 67, 0.3), 0px 1px 3px 1px rgba(60, 64, 67, 0.15);\n",
              "      fill: #174EA6;\n",
              "    }\n",
              "\n",
              "    [theme=dark] .colab-df-convert {\n",
              "      background-color: #3B4455;\n",
              "      fill: #D2E3FC;\n",
              "    }\n",
              "\n",
              "    [theme=dark] .colab-df-convert:hover {\n",
              "      background-color: #434B5C;\n",
              "      box-shadow: 0px 1px 3px 1px rgba(0, 0, 0, 0.15);\n",
              "      filter: drop-shadow(0px 1px 2px rgba(0, 0, 0, 0.3));\n",
              "      fill: #FFFFFF;\n",
              "    }\n",
              "  </style>\n",
              "\n",
              "      <script>\n",
              "        const buttonEl =\n",
              "          document.querySelector('#df-a349e78f-346a-45fe-8039-2e39fac8fb80 button.colab-df-convert');\n",
              "        buttonEl.style.display =\n",
              "          google.colab.kernel.accessAllowed ? 'block' : 'none';\n",
              "\n",
              "        async function convertToInteractive(key) {\n",
              "          const element = document.querySelector('#df-a349e78f-346a-45fe-8039-2e39fac8fb80');\n",
              "          const dataTable =\n",
              "            await google.colab.kernel.invokeFunction('convertToInteractive',\n",
              "                                                     [key], {});\n",
              "          if (!dataTable) return;\n",
              "\n",
              "          const docLinkHtml = 'Like what you see? Visit the ' +\n",
              "            '<a target=\"_blank\" href=https://colab.research.google.com/notebooks/data_table.ipynb>data table notebook</a>'\n",
              "            + ' to learn more about interactive tables.';\n",
              "          element.innerHTML = '';\n",
              "          dataTable['output_type'] = 'display_data';\n",
              "          await google.colab.output.renderOutput(dataTable, element);\n",
              "          const docLink = document.createElement('div');\n",
              "          docLink.innerHTML = docLinkHtml;\n",
              "          element.appendChild(docLink);\n",
              "        }\n",
              "      </script>\n",
              "    </div>\n",
              "  </div>\n",
              "  "
            ]
          },
          "metadata": {},
          "execution_count": 72
        }
      ]
    },
    {
      "cell_type": "markdown",
      "source": [
        "***Lets read the data from another sheet of the Excel file of FRIDA data***"
      ],
      "metadata": {
        "id": "CoM9fdqUTdCY"
      }
    },
    {
      "cell_type": "code",
      "source": [
        "# Import FRIDA Nutrient data\n",
        "path_frida_data=\"https://github.com/mrchapagain/ConsumerDataAnalytics/raw/main/FridaNutrientData.xlsx\"\n",
        "\n",
        "# Lets open data as pandas dataframe with adjusted column name\n",
        "data_frida_groups= pd.read_excel(path_frida_data, sheet_name=3, index_col=None, header=0, skiprows=0)[[\"FoodGroupID\",\t\"GroupID\",\t\"GroupNameDK\",\t\"GroupNameUK\",\t\"Hieraky\",\t\"ID\", \"ParantFoodGroupId\"]]\n",
        "data_frida_groups.head(3)"
      ],
      "metadata": {
        "id": "2fmoGoCMTbxp",
        "outputId": "5bcfc5aa-155d-4067-aa87-52a780f27b49",
        "colab": {
          "base_uri": "https://localhost:8080/",
          "height": 227
        }
      },
      "execution_count": 1,
      "outputs": [
        {
          "output_type": "error",
          "ename": "NameError",
          "evalue": "ignored",
          "traceback": [
            "\u001b[0;31m---------------------------------------------------------------------------\u001b[0m",
            "\u001b[0;31mNameError\u001b[0m                                 Traceback (most recent call last)",
            "\u001b[0;32m<ipython-input-1-3dccaaa686fc>\u001b[0m in \u001b[0;36m<module>\u001b[0;34m\u001b[0m\n\u001b[1;32m      3\u001b[0m \u001b[0;34m\u001b[0m\u001b[0m\n\u001b[1;32m      4\u001b[0m \u001b[0;31m# Lets open data as pandas dataframe with adjusted column name\u001b[0m\u001b[0;34m\u001b[0m\u001b[0;34m\u001b[0m\u001b[0;34m\u001b[0m\u001b[0m\n\u001b[0;32m----> 5\u001b[0;31m \u001b[0mdata_frida_groups\u001b[0m\u001b[0;34m=\u001b[0m \u001b[0mpd\u001b[0m\u001b[0;34m.\u001b[0m\u001b[0mread_excel\u001b[0m\u001b[0;34m(\u001b[0m\u001b[0mpath_frida_data\u001b[0m\u001b[0;34m,\u001b[0m \u001b[0msheet_name\u001b[0m\u001b[0;34m=\u001b[0m\u001b[0;36m3\u001b[0m\u001b[0;34m,\u001b[0m \u001b[0mindex_col\u001b[0m\u001b[0;34m=\u001b[0m\u001b[0;32mNone\u001b[0m\u001b[0;34m,\u001b[0m \u001b[0mheader\u001b[0m\u001b[0;34m=\u001b[0m\u001b[0;36m0\u001b[0m\u001b[0;34m,\u001b[0m \u001b[0mskiprows\u001b[0m\u001b[0;34m=\u001b[0m\u001b[0;36m0\u001b[0m\u001b[0;34m)\u001b[0m\u001b[0;34m[\u001b[0m\u001b[0;34m[\u001b[0m\u001b[0;34m\"FoodGroupID\"\u001b[0m\u001b[0;34m,\u001b[0m   \u001b[0;34m\"GroupID\"\u001b[0m\u001b[0;34m,\u001b[0m      \u001b[0;34m\"GroupNameDK\"\u001b[0m\u001b[0;34m,\u001b[0m  \u001b[0;34m\"GroupNameUK\"\u001b[0m\u001b[0;34m,\u001b[0m  \u001b[0;34m\"Hieraky\"\u001b[0m\u001b[0;34m,\u001b[0m      \u001b[0;34m\"ID\"\u001b[0m\u001b[0;34m,\u001b[0m \u001b[0;34m\"ParantFoodGroupId\"\u001b[0m\u001b[0;34m]\u001b[0m\u001b[0;34m]\u001b[0m\u001b[0;34m\u001b[0m\u001b[0;34m\u001b[0m\u001b[0m\n\u001b[0m\u001b[1;32m      6\u001b[0m \u001b[0mdata_frida_groups\u001b[0m\u001b[0;34m.\u001b[0m\u001b[0mhead\u001b[0m\u001b[0;34m(\u001b[0m\u001b[0;36m3\u001b[0m\u001b[0;34m)\u001b[0m\u001b[0;34m\u001b[0m\u001b[0;34m\u001b[0m\u001b[0m\n",
            "\u001b[0;31mNameError\u001b[0m: name 'pd' is not defined"
          ]
        }
      ]
    },
    {
      "cell_type": "code",
      "source": [
        "# lets have a look row with  \"Banan, rå\" to have understanding of the rows\n",
        "data_frida_groups[data_frida_groups.GroupNameDK == \"Sydfrugt\"]"
      ],
      "metadata": {
        "id": "ivcsQv-3Vw5i",
        "outputId": "bcc5f9b9-5070-4a1b-eea6-ef326b504b06",
        "colab": {
          "base_uri": "https://localhost:8080/",
          "height": 81
        }
      },
      "execution_count": 57,
      "outputs": [
        {
          "output_type": "execute_result",
          "data": {
            "text/plain": [
              "    FoodGroupID  GroupID GroupNameDK                    GroupNameUK  Hieraky  \\\n",
              "43           52        1    Sydfrugt  Tropical or subtropical fruit        3   \n",
              "\n",
              "     ID  ParantFoodGroupId  \n",
              "43  106                 47  "
            ],
            "text/html": [
              "\n",
              "  <div id=\"df-9ef8dc18-ebdb-4973-a65a-400f9d9b343e\">\n",
              "    <div class=\"colab-df-container\">\n",
              "      <div>\n",
              "<style scoped>\n",
              "    .dataframe tbody tr th:only-of-type {\n",
              "        vertical-align: middle;\n",
              "    }\n",
              "\n",
              "    .dataframe tbody tr th {\n",
              "        vertical-align: top;\n",
              "    }\n",
              "\n",
              "    .dataframe thead th {\n",
              "        text-align: right;\n",
              "    }\n",
              "</style>\n",
              "<table border=\"1\" class=\"dataframe\">\n",
              "  <thead>\n",
              "    <tr style=\"text-align: right;\">\n",
              "      <th></th>\n",
              "      <th>FoodGroupID</th>\n",
              "      <th>GroupID</th>\n",
              "      <th>GroupNameDK</th>\n",
              "      <th>GroupNameUK</th>\n",
              "      <th>Hieraky</th>\n",
              "      <th>ID</th>\n",
              "      <th>ParantFoodGroupId</th>\n",
              "    </tr>\n",
              "  </thead>\n",
              "  <tbody>\n",
              "    <tr>\n",
              "      <th>43</th>\n",
              "      <td>52</td>\n",
              "      <td>1</td>\n",
              "      <td>Sydfrugt</td>\n",
              "      <td>Tropical or subtropical fruit</td>\n",
              "      <td>3</td>\n",
              "      <td>106</td>\n",
              "      <td>47</td>\n",
              "    </tr>\n",
              "  </tbody>\n",
              "</table>\n",
              "</div>\n",
              "      <button class=\"colab-df-convert\" onclick=\"convertToInteractive('df-9ef8dc18-ebdb-4973-a65a-400f9d9b343e')\"\n",
              "              title=\"Convert this dataframe to an interactive table.\"\n",
              "              style=\"display:none;\">\n",
              "        \n",
              "  <svg xmlns=\"http://www.w3.org/2000/svg\" height=\"24px\"viewBox=\"0 0 24 24\"\n",
              "       width=\"24px\">\n",
              "    <path d=\"M0 0h24v24H0V0z\" fill=\"none\"/>\n",
              "    <path d=\"M18.56 5.44l.94 2.06.94-2.06 2.06-.94-2.06-.94-.94-2.06-.94 2.06-2.06.94zm-11 1L8.5 8.5l.94-2.06 2.06-.94-2.06-.94L8.5 2.5l-.94 2.06-2.06.94zm10 10l.94 2.06.94-2.06 2.06-.94-2.06-.94-.94-2.06-.94 2.06-2.06.94z\"/><path d=\"M17.41 7.96l-1.37-1.37c-.4-.4-.92-.59-1.43-.59-.52 0-1.04.2-1.43.59L10.3 9.45l-7.72 7.72c-.78.78-.78 2.05 0 2.83L4 21.41c.39.39.9.59 1.41.59.51 0 1.02-.2 1.41-.59l7.78-7.78 2.81-2.81c.8-.78.8-2.07 0-2.86zM5.41 20L4 18.59l7.72-7.72 1.47 1.35L5.41 20z\"/>\n",
              "  </svg>\n",
              "      </button>\n",
              "      \n",
              "  <style>\n",
              "    .colab-df-container {\n",
              "      display:flex;\n",
              "      flex-wrap:wrap;\n",
              "      gap: 12px;\n",
              "    }\n",
              "\n",
              "    .colab-df-convert {\n",
              "      background-color: #E8F0FE;\n",
              "      border: none;\n",
              "      border-radius: 50%;\n",
              "      cursor: pointer;\n",
              "      display: none;\n",
              "      fill: #1967D2;\n",
              "      height: 32px;\n",
              "      padding: 0 0 0 0;\n",
              "      width: 32px;\n",
              "    }\n",
              "\n",
              "    .colab-df-convert:hover {\n",
              "      background-color: #E2EBFA;\n",
              "      box-shadow: 0px 1px 2px rgba(60, 64, 67, 0.3), 0px 1px 3px 1px rgba(60, 64, 67, 0.15);\n",
              "      fill: #174EA6;\n",
              "    }\n",
              "\n",
              "    [theme=dark] .colab-df-convert {\n",
              "      background-color: #3B4455;\n",
              "      fill: #D2E3FC;\n",
              "    }\n",
              "\n",
              "    [theme=dark] .colab-df-convert:hover {\n",
              "      background-color: #434B5C;\n",
              "      box-shadow: 0px 1px 3px 1px rgba(0, 0, 0, 0.15);\n",
              "      filter: drop-shadow(0px 1px 2px rgba(0, 0, 0, 0.3));\n",
              "      fill: #FFFFFF;\n",
              "    }\n",
              "  </style>\n",
              "\n",
              "      <script>\n",
              "        const buttonEl =\n",
              "          document.querySelector('#df-9ef8dc18-ebdb-4973-a65a-400f9d9b343e button.colab-df-convert');\n",
              "        buttonEl.style.display =\n",
              "          google.colab.kernel.accessAllowed ? 'block' : 'none';\n",
              "\n",
              "        async function convertToInteractive(key) {\n",
              "          const element = document.querySelector('#df-9ef8dc18-ebdb-4973-a65a-400f9d9b343e');\n",
              "          const dataTable =\n",
              "            await google.colab.kernel.invokeFunction('convertToInteractive',\n",
              "                                                     [key], {});\n",
              "          if (!dataTable) return;\n",
              "\n",
              "          const docLinkHtml = 'Like what you see? Visit the ' +\n",
              "            '<a target=\"_blank\" href=https://colab.research.google.com/notebooks/data_table.ipynb>data table notebook</a>'\n",
              "            + ' to learn more about interactive tables.';\n",
              "          element.innerHTML = '';\n",
              "          dataTable['output_type'] = 'display_data';\n",
              "          await google.colab.output.renderOutput(dataTable, element);\n",
              "          const docLink = document.createElement('div');\n",
              "          docLink.innerHTML = docLinkHtml;\n",
              "          element.appendChild(docLink);\n",
              "        }\n",
              "      </script>\n",
              "    </div>\n",
              "  </div>\n",
              "  "
            ]
          },
          "metadata": {},
          "execution_count": 57
        }
      ]
    },
    {
      "cell_type": "markdown",
      "source": [
        "***The FoodGroupId of the Sydfrugt(Tropical or subtropical fruit) category is 52.In addition, ParantFoodGroupId will give the Top category name that GroupNameDK belong to! fx.47 means \"Frugt og frugtprodukter\"***"
      ],
      "metadata": {
        "id": "9DPV3e0W9L8e"
      }
    },
    {
      "cell_type": "markdown",
      "source": [
        "# Now lets open another file of  FRIDA dataset"
      ],
      "metadata": {
        "id": "9tpe-7_QEHwW"
      }
    },
    {
      "cell_type": "code",
      "source": [
        ""
      ],
      "metadata": {
        "id": "vFeVUb5aVwpK"
      },
      "execution_count": null,
      "outputs": []
    },
    {
      "cell_type": "code",
      "source": [
        "row=data_frida[data_frida.Navn== \"Banan, rå\"]   # Kylling, bryst (filet), kogt, pålæg,  ØKO BANANER, LØSE\n",
        "print(\"Id: \", row.index[0])\n",
        "print(\"Category: \", row.Gruppe.values[0])\n",
        "print(\"Name: \", row.Navn.values[0])\n",
        "print(\"Total Energy: \", row.Energy_kj.values[0], \"Kj (\", row.Energy_kcal.values[0], \"Kacl)\")\n",
        "print(\"Total Energy: \", row.Energy_kcal.values[0])\n",
        "print(\"Total Energy: \", row.Energy_kj.values[0])"
      ],
      "metadata": {
        "id": "tZWSNdW7GH1A",
        "outputId": "52ab6a0b-0739-4e70-a934-e9b6ac27049f",
        "colab": {
          "base_uri": "https://localhost:8080/"
        }
      },
      "execution_count": 14,
      "outputs": [
        {
          "output_type": "stream",
          "name": "stdout",
          "text": [
            "Id:  2\n",
            "Category:  Sydfrugt\n",
            "Name:  Banan, rå\n",
            "Total Energy:  396 Kj ( 93 Kacl)\n",
            "Total Energy:  93\n",
            "Total Energy:  396\n"
          ]
        }
      ]
    },
    {
      "cell_type": "code",
      "source": [
        "# To see NAN value and data types of each columns\n",
        "#data_frida.info()"
      ],
      "metadata": {
        "id": "-jEo-rf3TG8x"
      },
      "execution_count": 15,
      "outputs": []
    },
    {
      "cell_type": "markdown",
      "source": [
        "***Above dataset do not contain NAN value and all of the columns are object type, so some of the columns need to be changed to interger or float data type to work as numbers value***"
      ],
      "metadata": {
        "id": "7XLSXEhGvd2w"
      }
    },
    {
      "cell_type": "code",
      "source": [
        ""
      ],
      "metadata": {
        "id": "vxTNSVj7etHj"
      },
      "execution_count": 15,
      "outputs": []
    },
    {
      "cell_type": "markdown",
      "source": [
        "# Recipt from my personal Storebox account\n",
        "- This data set i download from my own storebox account. Lets see what kind of information we can extract from storebox account\n",
        "\n",
        "***The Store-box dataset contain one dataset of recieptand another dataset of the actual list of itemspurchaged each time***"
      ],
      "metadata": {
        "id": "ovo_8I1bRkGU"
      }
    },
    {
      "cell_type": "code",
      "source": [
        "#Import data\n",
        "path_storebox_data= \"https://github.com/mrchapagain/ConsumerDataAnalytics/raw/main/storbox_recipts.json\"\n",
        "\n",
        "#Loading dat in dataframe \n",
        "data_storebox= pd.read_json(path_storebox_data)\n",
        "# ['id', 'type', 'receiptId', 'purchaseDate', 'purchaseDateTimeString', 'orderNumber', 'price', 'merchant', 'receiptLines', 'terminalId', 'payments', 'cards', \n",
        "#     'barcode', 'headerTexts', 'footerTexts', 'userIds', 'imageId', 'receiptImage', 'note', 'tags', 'headerText', 'footerText', 'purchaseDateTimeZoneOffset', 'legalReceipt']\n",
        "\n",
        "# Lets open only columns that make sence\n",
        "data_storebox= data_storebox[[\"id\", \"receiptId\", \"purchaseDate\", \"orderNumber\", \"price\", \"merchant\",'barcode']]\n",
        "data_storebox.head(3)"
      ],
      "metadata": {
        "id": "Y2Cd6QEERkxB",
        "outputId": "ef6627bd-039f-48df-fb26-56620524e833",
        "colab": {
          "base_uri": "https://localhost:8080/",
          "height": 143
        }
      },
      "execution_count": 16,
      "outputs": [
        {
          "output_type": "execute_result",
          "data": {
            "text/plain": [
              "          id                         receiptId   purchaseDate orderNumber  \\\n",
              "0  236769820  05jrqpia3ofdzsbq773yme4on0ko1f87  1520106179000  5320020898   \n",
              "1  323704901  0dtsbqbwkirnyxfjqwdaogf5bli877yi  1546781345000  8190010157   \n",
              "2  230788984  0of79b19he9g7g5wazomg1tdoc3yh0xk  1518030461000  5080021069   \n",
              "\n",
              "                                               price  \\\n",
              "0  {'amount': 229.29, 'vat': 45.86, 'currency': '...   \n",
              "1  {'amount': 19.15, 'vat': 3.83, 'currency': 'DK...   \n",
              "2  {'amount': 115.22, 'vat': 23.04, 'currency': '...   \n",
              "\n",
              "                                            merchant  \\\n",
              "0  {'merchantId': 'netto', 'storeId': None, 'name...   \n",
              "1  {'merchantId': 'netto', 'storeId': '7345', 'na...   \n",
              "2  {'merchantId': 'netto', 'storeId': None, 'name...   \n",
              "\n",
              "                                             barcode  \n",
              "0  {'type': 'interleaved2of5', 'value': '07344180...  \n",
              "1  {'type': 'interleaved2of5', 'value': '07345190...  \n",
              "2  {'type': 'interleaved2of5', 'value': '07344180...  "
            ],
            "text/html": [
              "\n",
              "  <div id=\"df-776158a2-6f97-4228-a119-e4d044d57b54\">\n",
              "    <div class=\"colab-df-container\">\n",
              "      <div>\n",
              "<style scoped>\n",
              "    .dataframe tbody tr th:only-of-type {\n",
              "        vertical-align: middle;\n",
              "    }\n",
              "\n",
              "    .dataframe tbody tr th {\n",
              "        vertical-align: top;\n",
              "    }\n",
              "\n",
              "    .dataframe thead th {\n",
              "        text-align: right;\n",
              "    }\n",
              "</style>\n",
              "<table border=\"1\" class=\"dataframe\">\n",
              "  <thead>\n",
              "    <tr style=\"text-align: right;\">\n",
              "      <th></th>\n",
              "      <th>id</th>\n",
              "      <th>receiptId</th>\n",
              "      <th>purchaseDate</th>\n",
              "      <th>orderNumber</th>\n",
              "      <th>price</th>\n",
              "      <th>merchant</th>\n",
              "      <th>barcode</th>\n",
              "    </tr>\n",
              "  </thead>\n",
              "  <tbody>\n",
              "    <tr>\n",
              "      <th>0</th>\n",
              "      <td>236769820</td>\n",
              "      <td>05jrqpia3ofdzsbq773yme4on0ko1f87</td>\n",
              "      <td>1520106179000</td>\n",
              "      <td>5320020898</td>\n",
              "      <td>{'amount': 229.29, 'vat': 45.86, 'currency': '...</td>\n",
              "      <td>{'merchantId': 'netto', 'storeId': None, 'name...</td>\n",
              "      <td>{'type': 'interleaved2of5', 'value': '07344180...</td>\n",
              "    </tr>\n",
              "    <tr>\n",
              "      <th>1</th>\n",
              "      <td>323704901</td>\n",
              "      <td>0dtsbqbwkirnyxfjqwdaogf5bli877yi</td>\n",
              "      <td>1546781345000</td>\n",
              "      <td>8190010157</td>\n",
              "      <td>{'amount': 19.15, 'vat': 3.83, 'currency': 'DK...</td>\n",
              "      <td>{'merchantId': 'netto', 'storeId': '7345', 'na...</td>\n",
              "      <td>{'type': 'interleaved2of5', 'value': '07345190...</td>\n",
              "    </tr>\n",
              "    <tr>\n",
              "      <th>2</th>\n",
              "      <td>230788984</td>\n",
              "      <td>0of79b19he9g7g5wazomg1tdoc3yh0xk</td>\n",
              "      <td>1518030461000</td>\n",
              "      <td>5080021069</td>\n",
              "      <td>{'amount': 115.22, 'vat': 23.04, 'currency': '...</td>\n",
              "      <td>{'merchantId': 'netto', 'storeId': None, 'name...</td>\n",
              "      <td>{'type': 'interleaved2of5', 'value': '07344180...</td>\n",
              "    </tr>\n",
              "  </tbody>\n",
              "</table>\n",
              "</div>\n",
              "      <button class=\"colab-df-convert\" onclick=\"convertToInteractive('df-776158a2-6f97-4228-a119-e4d044d57b54')\"\n",
              "              title=\"Convert this dataframe to an interactive table.\"\n",
              "              style=\"display:none;\">\n",
              "        \n",
              "  <svg xmlns=\"http://www.w3.org/2000/svg\" height=\"24px\"viewBox=\"0 0 24 24\"\n",
              "       width=\"24px\">\n",
              "    <path d=\"M0 0h24v24H0V0z\" fill=\"none\"/>\n",
              "    <path d=\"M18.56 5.44l.94 2.06.94-2.06 2.06-.94-2.06-.94-.94-2.06-.94 2.06-2.06.94zm-11 1L8.5 8.5l.94-2.06 2.06-.94-2.06-.94L8.5 2.5l-.94 2.06-2.06.94zm10 10l.94 2.06.94-2.06 2.06-.94-2.06-.94-.94-2.06-.94 2.06-2.06.94z\"/><path d=\"M17.41 7.96l-1.37-1.37c-.4-.4-.92-.59-1.43-.59-.52 0-1.04.2-1.43.59L10.3 9.45l-7.72 7.72c-.78.78-.78 2.05 0 2.83L4 21.41c.39.39.9.59 1.41.59.51 0 1.02-.2 1.41-.59l7.78-7.78 2.81-2.81c.8-.78.8-2.07 0-2.86zM5.41 20L4 18.59l7.72-7.72 1.47 1.35L5.41 20z\"/>\n",
              "  </svg>\n",
              "      </button>\n",
              "      \n",
              "  <style>\n",
              "    .colab-df-container {\n",
              "      display:flex;\n",
              "      flex-wrap:wrap;\n",
              "      gap: 12px;\n",
              "    }\n",
              "\n",
              "    .colab-df-convert {\n",
              "      background-color: #E8F0FE;\n",
              "      border: none;\n",
              "      border-radius: 50%;\n",
              "      cursor: pointer;\n",
              "      display: none;\n",
              "      fill: #1967D2;\n",
              "      height: 32px;\n",
              "      padding: 0 0 0 0;\n",
              "      width: 32px;\n",
              "    }\n",
              "\n",
              "    .colab-df-convert:hover {\n",
              "      background-color: #E2EBFA;\n",
              "      box-shadow: 0px 1px 2px rgba(60, 64, 67, 0.3), 0px 1px 3px 1px rgba(60, 64, 67, 0.15);\n",
              "      fill: #174EA6;\n",
              "    }\n",
              "\n",
              "    [theme=dark] .colab-df-convert {\n",
              "      background-color: #3B4455;\n",
              "      fill: #D2E3FC;\n",
              "    }\n",
              "\n",
              "    [theme=dark] .colab-df-convert:hover {\n",
              "      background-color: #434B5C;\n",
              "      box-shadow: 0px 1px 3px 1px rgba(0, 0, 0, 0.15);\n",
              "      filter: drop-shadow(0px 1px 2px rgba(0, 0, 0, 0.3));\n",
              "      fill: #FFFFFF;\n",
              "    }\n",
              "  </style>\n",
              "\n",
              "      <script>\n",
              "        const buttonEl =\n",
              "          document.querySelector('#df-776158a2-6f97-4228-a119-e4d044d57b54 button.colab-df-convert');\n",
              "        buttonEl.style.display =\n",
              "          google.colab.kernel.accessAllowed ? 'block' : 'none';\n",
              "\n",
              "        async function convertToInteractive(key) {\n",
              "          const element = document.querySelector('#df-776158a2-6f97-4228-a119-e4d044d57b54');\n",
              "          const dataTable =\n",
              "            await google.colab.kernel.invokeFunction('convertToInteractive',\n",
              "                                                     [key], {});\n",
              "          if (!dataTable) return;\n",
              "\n",
              "          const docLinkHtml = 'Like what you see? Visit the ' +\n",
              "            '<a target=\"_blank\" href=https://colab.research.google.com/notebooks/data_table.ipynb>data table notebook</a>'\n",
              "            + ' to learn more about interactive tables.';\n",
              "          element.innerHTML = '';\n",
              "          dataTable['output_type'] = 'display_data';\n",
              "          await google.colab.output.renderOutput(dataTable, element);\n",
              "          const docLink = document.createElement('div');\n",
              "          docLink.innerHTML = docLinkHtml;\n",
              "          element.appendChild(docLink);\n",
              "        }\n",
              "      </script>\n",
              "    </div>\n",
              "  </div>\n",
              "  "
            ]
          },
          "metadata": {},
          "execution_count": 16
        }
      ]
    },
    {
      "cell_type": "markdown",
      "source": [
        "***With the receiptId i can go to indiviisual reciept and extract list of purchage items. However the reciept is in PDF so need little advance RegEx code so i have not done it yet but will update soon.***"
      ],
      "metadata": {
        "id": "lIJ-Sa_-6SKN"
      }
    },
    {
      "cell_type": "markdown",
      "source": [
        "\n",
        "**Now lets  open reciept of  of the very first column (receiptId= \"05jrqpia3ofdzsbq773yme4on0ko1f87\") of above data**"
      ],
      "metadata": {
        "id": "EyHf0fzlVVGp"
      }
    },
    {
      "cell_type": "code",
      "source": [
        "# Lets open reciept of very first columns (receiptId= \"05jrqpia3ofdzsbq773yme4on0ko1f87\") of above dataset (data_storbox)\n",
        "data_storbox_reciept= \"/content/05jrqpia3ofdzsbq773yme4on0ko1f87-14736470631022876123.pdf\" # \"https://github.com/mrchapagain/food_ontology/raw/main/storbox_recipt_pdf.pdf\"\n",
        "\n",
        "# read information from PDF file (open it in read binary mode)\n",
        "pdfFileObj = open(data_storbox_reciept, 'rb')\n",
        "\n",
        "# call and store PdfFileReader\n",
        "# object in pdfReader\n",
        "pdfReader = PyPDF2.PdfFileReader(pdfFileObj)\n",
        "\n",
        "# to access first page if the PDF file have multiple pages, pass 0\n",
        "pageObj = pdfReader.getPage(0)\n",
        "\n",
        "# extract the page object by extractText() function\n",
        "texts = pageObj.extractText()\n",
        "\n",
        "# print the extracted texts\n",
        "print(texts)"
      ],
      "metadata": {
        "id": "67U1XSezT_eI",
        "outputId": "825592fb-9c8b-45a6-e9f3-c31c3fd85dae",
        "colab": {
          "base_uri": "https://localhost:8080/",
          "height": 246
        }
      },
      "execution_count": 17,
      "outputs": [
        {
          "output_type": "error",
          "ename": "FileNotFoundError",
          "evalue": "ignored",
          "traceback": [
            "\u001b[0;31m---------------------------------------------------------------------------\u001b[0m",
            "\u001b[0;31mFileNotFoundError\u001b[0m                         Traceback (most recent call last)",
            "\u001b[0;32m<ipython-input-17-fedf029450bc>\u001b[0m in \u001b[0;36m<module>\u001b[0;34m\u001b[0m\n\u001b[1;32m      3\u001b[0m \u001b[0;34m\u001b[0m\u001b[0m\n\u001b[1;32m      4\u001b[0m \u001b[0;31m# read information from PDF file (open it in read binary mode)\u001b[0m\u001b[0;34m\u001b[0m\u001b[0;34m\u001b[0m\u001b[0;34m\u001b[0m\u001b[0m\n\u001b[0;32m----> 5\u001b[0;31m \u001b[0mpdfFileObj\u001b[0m \u001b[0;34m=\u001b[0m \u001b[0mopen\u001b[0m\u001b[0;34m(\u001b[0m\u001b[0mdata_storbox_reciept\u001b[0m\u001b[0;34m,\u001b[0m \u001b[0;34m'rb'\u001b[0m\u001b[0;34m)\u001b[0m\u001b[0;34m\u001b[0m\u001b[0;34m\u001b[0m\u001b[0m\n\u001b[0m\u001b[1;32m      6\u001b[0m \u001b[0;34m\u001b[0m\u001b[0m\n\u001b[1;32m      7\u001b[0m \u001b[0;31m# call and store PdfFileReader\u001b[0m\u001b[0;34m\u001b[0m\u001b[0;34m\u001b[0m\u001b[0;34m\u001b[0m\u001b[0m\n",
            "\u001b[0;31mFileNotFoundError\u001b[0m: [Errno 2] No such file or directory: '/content/05jrqpia3ofdzsbq773yme4on0ko1f87-14736470631022876123.pdf'"
          ]
        }
      ]
    },
    {
      "cell_type": "markdown",
      "source": [
        "***I have extracted data from PDF file now first need to turn it to dictionary and then DataFrame.***"
      ],
      "metadata": {
        "id": "crvky8OYbuwk"
      }
    },
    {
      "cell_type": "code",
      "source": [
        "lines= texts.rstrip(\"\\n\")\n",
        "lines"
      ],
      "metadata": {
        "id": "nDMTQxqPhLJK"
      },
      "execution_count": null,
      "outputs": []
    },
    {
      "cell_type": "markdown",
      "source": [
        "# Climate Data from Concito"
      ],
      "metadata": {
        "id": "s0ZhiLarTyRZ"
      }
    },
    {
      "cell_type": "code",
      "source": [
        "#Import data\n",
        "path_climate_data=\"https://github.com/mrchapagain/ConsumerDataAnalytics/raw/main/ClimateData.xlsx\"\n",
        "\n",
        "# Loading the data into the data-frame\n",
        "col_names= [\"id\", \"Product_dk\", \"Category_dk\", \"Product_en\", \"Category_en\", \"Unit\", \"Agriculture\", \"iLUC\", \"Processing\", \"Packaging\", \"Transport\", \"Retail\", \"Total_CO2_eq/kg\", \"Energy_KJ\", \"Fat_g\", \"Carb_g\", \"Protein_g\", \"Data_Source\", \"Comments\", \"GPC_Level4_en\", \"ID_Food\", \"ID_Pack\", \"ID_Retail\", \"GPC_Category_en\", \"GPC_Category_dk\", \"GPC_Level4_dk\", \"product_type\", \"GPC_level1\", \"Food_group\", \"GPC_level2\", \"Un/Processed\", \"GPC_Level3\", \"Extra_category\"]\n",
        "\n",
        "# Original columns name are replaced with ralavant names (col_names)\n",
        "data_climate= pd.read_excel(path_climate_data, sheet_name=1, index_col=False, header=None, skiprows=1, names= col_names).round(decimals = 2)\n",
        "data_climate.head(3)"
      ],
      "metadata": {
        "id": "lGbi_RinwtrU"
      },
      "execution_count": null,
      "outputs": []
    },
    {
      "cell_type": "markdown",
      "source": [
        "***The reason to open this climate dataset is to see if it is possible link other dataset with column name \"GPC_Level\" which is releted to GS1 Trade Sync code.***"
      ],
      "metadata": {
        "id": "D4cI2aCjx_R5"
      }
    },
    {
      "cell_type": "markdown",
      "source": [
        "**Let´s have a look dataset with only selected columns that might make sense\\**"
      ],
      "metadata": {
        "id": "SUqnDbqvyzHL"
      }
    },
    {
      "cell_type": "code",
      "source": [
        "cols_to_use= [\"Product_en\", \"Category_en\", \"ID_Food\", \"ID_Pack\", \"ID_Retail\", \"GPC_level1\", \"GPC_level2\", \"GPC_Level3\", \"GPC_Level4_dk\", \"Fat_g\", \"Carb_g\", \"Protein_g\", \"Energy_KJ\", \"Agriculture\", \"iLUC\", \"Processing\", \"Packaging\", \"Transport\", \"Retail\", \"Total_CO2_eq/kg\"]\n",
        "\n",
        "data_climate_selected= data_climate.loc[:, cols_to_use].round(decimals = 2)\n",
        "data_climate_selected.head()"
      ],
      "metadata": {
        "id": "83dq2-gHyeoz"
      },
      "execution_count": null,
      "outputs": []
    },
    {
      "cell_type": "markdown",
      "source": [
        "# Data from COOP store (store data)"
      ],
      "metadata": {
        "id": "C-_TxNg0QyiB"
      }
    },
    {
      "cell_type": "code",
      "source": [
        "path_coop_data= \"https://raw.githubusercontent.com/mrchapagain/ConsumerDataAnalytics/main/storedata/storedata_csv.csv\"\n",
        "#data_coop= pd.read_excel(path_coop_data, sheet_name=1, header=0, skiprows=0).round(decimals = 2)\n",
        "\n",
        "data_coop= pd.read_csv(path_coop_data, index_col=0, sep= \";\", on_bad_lines='skip', engine='python')\n",
        "\n",
        "data_coop.head()"
      ],
      "metadata": {
        "id": "pPbpjHGCQ11S"
      },
      "execution_count": null,
      "outputs": []
    },
    {
      "cell_type": "markdown",
      "source": [
        "***These information are saved wrong way; all the columns of csv in one column so it open like one column***\n",
        "\n",
        "So i am going to open with string split method with comma \" ,\""
      ],
      "metadata": {
        "id": "9b0pSdv28y6C"
      }
    },
    {
      "cell_type": "markdown",
      "source": [
        "# TradeSync data from GS1 "
      ],
      "metadata": {
        "id": "l8Titj-1RNty"
      }
    },
    {
      "cell_type": "code",
      "source": [
        "import os\n",
        "import xml.etree.ElementTree as ET\n",
        "from bs4 import BeautifulSoup"
      ],
      "metadata": {
        "id": "Xu9g3dMz8IvB"
      },
      "execution_count": null,
      "outputs": []
    },
    {
      "cell_type": "code",
      "source": [
        "#Import data\n",
        "path_tradesync_data= \"/content/testdata_gs1.xml\" # \"https://github.com/mrchapagain/food_ontology/blob/main/gs1_data/testdata.xml\""
      ],
      "metadata": {
        "id": "bYVqtP-Z8JhE"
      },
      "execution_count": null,
      "outputs": []
    },
    {
      "cell_type": "code",
      "source": [
        "tree = ET.parse(path_tradesync_data)\n",
        "root = tree.getroot()\n",
        "print(\"Roots:\", root.tag)\n",
        "print(\"Attrib:\", root.attrib)\n",
        "print(\"Childerns: \", list(root))\n"
      ],
      "metadata": {
        "id": "Wi0hm7mgBH6B"
      },
      "execution_count": null,
      "outputs": []
    },
    {
      "cell_type": "markdown",
      "source": [
        "***This part is hidden because the datast is very big and  take somany lines***"
      ],
      "metadata": {
        "id": "c-82yeP6S0Rk"
      }
    },
    {
      "cell_type": "code",
      "source": [
        "# Code to have a look whole data\n",
        "\"\"\"# Reading the data inside the xml file to a variable under the name  data\n",
        "with open(path_tradesync_data, 'r') as f:\n",
        "    for line in f.readlines():\n",
        "      print(line)\n",
        "\"\"\"\n",
        "\n",
        "# Code to explore tags\n",
        "\"\"\"# The xml file has a LOT of tags!\n",
        "list_of_items= []\n",
        "stopAt = 200\n",
        "for elem in root.iter():\n",
        "    print(elem.tag)\n",
        "    list_of_items.append(elem.tag)\n",
        "    #print(elem.attrib)\n",
        "    if stopAt==0:\n",
        "        break\n",
        "    stopAt -= 1\"\"\""
      ],
      "metadata": {
        "id": "wVEjbHEJ-4f8"
      },
      "execution_count": null,
      "outputs": []
    },
    {
      "cell_type": "code",
      "source": [
        "#print(ET.tostring(root, encoding='utf8').decode('utf8'))\n",
        "list_of_items_to_find= [\"entityIdentification\", \"brandName\", \"functionalName\", \"gln\", \"gtin\", \"creationDateTime\", \"dataRecipient\", \"contactDescription\", \"partyAddress\", \"gpcCategoryCode\", \"grossWeight\", \"descriptionShort\", \"allergenSpecificationName\", \"ingredientStatement\", \"tradeItemTemperatureConditionTypeCode\", \"uniformResourceIdentifier\"]\n",
        "#  \"additionalTradeItemIdentification\", \"partyName\",\n",
        "\n",
        "#Lets start the dictionary to collecct items\n",
        "dict_item_text = {}\n",
        "\n",
        "# Loop over the tags that make sense (from list above)\n",
        "for list_item in list_of_items_to_find:\n",
        "  \n",
        "  # Again  looping to get the text value\n",
        "  for item in root.iter(list_item):\n",
        "    dict_item_text[list_item] = item.text\n",
        "\n",
        "# Lets see what we have c collected from the loop\n",
        "dict_item_text"
      ],
      "metadata": {
        "id": "mjG6vhzwEeZO"
      },
      "execution_count": null,
      "outputs": []
    },
    {
      "cell_type": "markdown",
      "source": [
        "***Above dictinary are the information extracted from GS1 xml file associated with each item from the purchage list***\n",
        "\n",
        "*We can grasp a lot of infoation about the item*"
      ],
      "metadata": {
        "id": "SbSNajOqYdjk"
      }
    },
    {
      "cell_type": "code",
      "source": [
        ""
      ],
      "metadata": {
        "id": "jrMR2f0nYfAJ"
      },
      "execution_count": null,
      "outputs": []
    },
    {
      "cell_type": "code",
      "source": [
        ""
      ],
      "metadata": {
        "id": "krgmlxhV-92_"
      },
      "execution_count": null,
      "outputs": []
    }
  ]
}