{
  "nbformat": 4,
  "nbformat_minor": 0,
  "metadata": {
    "colab": {
      "name": "Data_Exploration.ipynb",
      "provenance": [],
      "authorship_tag": "ABX9TyN118gfKHKt35T52EUipBi6",
      "include_colab_link": true
    },
    "kernelspec": {
      "name": "python3",
      "display_name": "Python 3"
    },
    "language_info": {
      "name": "python"
    }
  },
  "cells": [
    {
      "cell_type": "markdown",
      "metadata": {
        "id": "view-in-github",
        "colab_type": "text"
      },
      "source": [
        "<a href=\"https://colab.research.google.com/github/mrchapagain/food_ontology/blob/main/Data_Exploration.ipynb\" target=\"_parent\"><img src=\"https://colab.research.google.com/assets/colab-badge.svg\" alt=\"Open In Colab\"/></a>"
      ]
    },
    {
      "cell_type": "markdown",
      "source": [
        "**Here i try to explore different dataset to look if they can be connected, linked or somehow can talk to eachother.**\n",
        "*   *Data by Frederik*\n",
        "*   *Frida dataset of Nutrient content of food items*\n",
        "*   *Reciept from COOP store*\n",
        "*   *Reciept from my personal Storebox account*\n",
        "*   *link from TradeSync data from GS1*\n",
        "\n"
      ],
      "metadata": {
        "id": "IWr_8-ODRq4t"
      }
    },
    {
      "cell_type": "code",
      "source": [
        "import pandas as pd\n",
        "import os"
      ],
      "metadata": {
        "id": "Jll6mDv_8jWe"
      },
      "execution_count": 24,
      "outputs": []
    },
    {
      "cell_type": "markdown",
      "source": [
        "# Data by Frederik"
      ],
      "metadata": {
        "id": "GNbikMt8QiaM"
      }
    },
    {
      "cell_type": "code",
      "source": [
        "path=\"https://github.com/mrchapagain/food_ontology/raw/main/cpd_summary.csv\"\n",
        "\n",
        "data= pd.read_csv(path, sep= \";\", index_col=0, encoding='latin-1')\n",
        "data.index.unique()"
      ],
      "metadata": {
        "colab": {
          "base_uri": "https://localhost:8080/"
        },
        "id": "SG3NKZPF8cGd",
        "outputId": "3feecf6d-b78a-46b7-a9cd-1472565b228a"
      },
      "execution_count": 54,
      "outputs": [
        {
          "output_type": "execute_result",
          "data": {
            "text/plain": [
              "Index([                'PANT',               'Diesel',        'FISKEAFDELING',\n",
              "                  'Blyfri 95',    'ØKO BANANER, LØSE',         'BANANER,LØSE',\n",
              "              'Blyfri 95 E10',              'BANANER',           'FLASKEPANT',\n",
              "            'BETJENT FISK KG',\n",
              "       ...\n",
              "       'AAS MUNDBIND TYPE II',      '3F-HYLDEKNÆGT M',       'SKAGERAK BØJLE',\n",
              "           'SMÅUDB. U/100 KR', 'SODASTREAM OMBYTNING',  'TECHNIC 42073 BASH!',\n",
              "             'TEKSTILLEDNING', 'PINOTEX SUPERDEC SOR',  'UKRUDTSDUG BASIC 1X',\n",
              "            'BR MÆRKER RETUR'],\n",
              "      dtype='object', name='itemname', length=65449)"
            ]
          },
          "metadata": {},
          "execution_count": 54
        }
      ]
    },
    {
      "cell_type": "markdown",
      "source": [
        "# Frida dataset"
      ],
      "metadata": {
        "id": "SkyZhlg2Quda"
      }
    },
    {
      "cell_type": "code",
      "source": [
        "path=\"https://github.com/mrchapagain/food_ontology/raw/main/FridaNutrientData.xlsx\"\n",
        "\n",
        "data= pd.read_csv(path, sep= \";\", index_col=0, encoding='latin-1')\n",
        "data.index.unique()"
      ],
      "metadata": {
        "id": "9Upaz_BKJoKt"
      },
      "execution_count": null,
      "outputs": []
    },
    {
      "cell_type": "markdown",
      "source": [
        "# Reciept from COOP store"
      ],
      "metadata": {
        "id": "C-_TxNg0QyiB"
      }
    },
    {
      "cell_type": "code",
      "source": [
        "path=\"https://github.com/mrchapagain/food_ontology/raw/main/cpd_summary.csv\"\n",
        "\n",
        "data= pd.read_csv(path, sep= \";\", index_col=0, encoding='latin-1')\n",
        "data.index.unique()"
      ],
      "metadata": {
        "id": "pPbpjHGCQ11S"
      },
      "execution_count": null,
      "outputs": []
    },
    {
      "cell_type": "markdown",
      "source": [
        "# TradeSync data from GS1 "
      ],
      "metadata": {
        "id": "l8Titj-1RNty"
      }
    },
    {
      "cell_type": "code",
      "source": [
        ""
      ],
      "metadata": {
        "id": "ArhlgQk8RjgS"
      },
      "execution_count": null,
      "outputs": []
    },
    {
      "cell_type": "markdown",
      "source": [
        "# Recipt from my personal Storebox account"
      ],
      "metadata": {
        "id": "ovo_8I1bRkGU"
      }
    },
    {
      "cell_type": "code",
      "source": [
        ""
      ],
      "metadata": {
        "id": "Y2Cd6QEERkxB"
      },
      "execution_count": null,
      "outputs": []
    }
  ]
}