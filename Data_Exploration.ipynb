{
  "nbformat": 4,
  "nbformat_minor": 0,
  "metadata": {
    "colab": {
      "name": "Data_Exploration.ipynb",
      "provenance": [],
      "collapsed_sections": [],
      "authorship_tag": "ABX9TyPWyEHuyVF6ZoQLFfq2uQ5q",
      "include_colab_link": true
    },
    "kernelspec": {
      "name": "python3",
      "display_name": "Python 3"
    },
    "language_info": {
      "name": "python"
    }
  },
  "cells": [
    {
      "cell_type": "markdown",
      "metadata": {
        "id": "view-in-github",
        "colab_type": "text"
      },
      "source": [
        "<a href=\"https://colab.research.google.com/github/mrchapagain/ConsumerDataAnalytics/blob/main/Data_Exploration.ipynb\" target=\"_parent\"><img src=\"https://colab.research.google.com/assets/colab-badge.svg\" alt=\"Open In Colab\"/></a>"
      ]
    },
    {
      "cell_type": "markdown",
      "source": [
        "**Here i try to explore different dataset to look if they can be connected, linked or somehow can talk to eachother.**\n",
        "*   *Data by Frederik*\n",
        "*   *Frida dataset of Nutrient content of food items*\n",
        "*   *Reciept from my personal Storebox account*\n",
        "*   *link from TradeSync data from GS1*\n",
        "*   *Climate Data from Concito*"
      ],
      "metadata": {
        "id": "IWr_8-ODRq4t"
      }
    },
    {
      "cell_type": "code",
      "source": [
        "!pip install PyPDF2"
      ],
      "metadata": {
        "id": "V7qfUeQCXWV0",
        "outputId": "d94b4720-f765-41af-adfa-0e2745c4aac2",
        "colab": {
          "base_uri": "https://localhost:8080/"
        }
      },
      "execution_count": 1,
      "outputs": [
        {
          "output_type": "stream",
          "name": "stdout",
          "text": [
            "Looking in indexes: https://pypi.org/simple, https://us-python.pkg.dev/colab-wheels/public/simple/\n",
            "Collecting PyPDF2\n",
            "  Downloading PyPDF2-2.10.2-py3-none-any.whl (214 kB)\n",
            "\u001b[K     |████████████████████████████████| 214 kB 21.1 MB/s \n",
            "\u001b[?25hRequirement already satisfied: typing-extensions in /usr/local/lib/python3.7/dist-packages (from PyPDF2) (4.1.1)\n",
            "Installing collected packages: PyPDF2\n",
            "Successfully installed PyPDF2-2.10.2\n"
          ]
        }
      ]
    },
    {
      "cell_type": "code",
      "source": [
        "# Necessary libaries\n",
        "import pandas as pd\n",
        "import os\n",
        "#import PyPDF2"
      ],
      "metadata": {
        "id": "Jll6mDv_8jWe"
      },
      "execution_count": 2,
      "outputs": []
    },
    {
      "cell_type": "markdown",
      "source": [
        "# Data by Frederik\n",
        "\n",
        "***Columns description***\n",
        "\n",
        "*   **itemname:** name provided by the merchant. It often, but not always, contains a enough information to ID the product.  Sometimes weight, or other information is also provided here.\n",
        "*   **itemnumber:** the product itemnumber. It can be a standardized GTIN 13 number ( 12-13 digits) supported by GS1 or a non standard number created by the retailer to identify i.e. Bananas\n",
        "*   **category:** a category code not sure how to interpret and often missing\n",
        "*   **percent_purchases:** Percent off all receipt lines in the dataset where each line is a purchas"
      ],
      "metadata": {
        "id": "GNbikMt8QiaM"
      }
    },
    {
      "cell_type": "code",
      "source": [
        "# Import data\n",
        "path_iss_data=\"https://github.com/mrchapagain/ConsumerDataAnalytics/raw/main/cpd_summary.csv\"\n",
        "\n",
        "# Open data as csv file\n",
        "data_iss= pd.read_csv(path_iss_data, sep= \";\", index_col=False, encoding='latin-1')\n",
        "\n",
        "# lets see frist 3 and last 3 rows od the dataset\n",
        "data_iss.head(3).append(data_iss.tail(5))"
      ],
      "metadata": {
        "colab": {
          "base_uri": "https://localhost:8080/",
          "height": 301
        },
        "id": "SG3NKZPF8cGd",
        "outputId": "ff03e6d4-ab3c-454a-9ba6-8412b44df982"
      },
      "execution_count": 3,
      "outputs": [
        {
          "output_type": "execute_result",
          "data": {
            "text/plain": [
              "                    itemname     itemnumber category percent_purchases\n",
              "0                       PANT        8880171      845             3,369\n",
              "1                       PANT        8880171      NaN             2,055\n",
              "2                       PANT        8880172      845             1,497\n",
              "112761  PINOTEX SUPERDEC SOR    61009053404     6100            -0,002\n",
              "112762       QUICK GEVINSTER         214196      926            -0,002\n",
              "112763   UKRUDTSDUG BASIC 1X    42139019916     4213            -0,002\n",
              "112764           TRAPPEVANGE  5708832546219      600            -0,004\n",
              "112765       BR MÆRKER RETUR  5766183013538       21            -0,005"
            ],
            "text/html": [
              "\n",
              "  <div id=\"df-d2db55e1-8512-454a-b7f5-731abbcaed2e\">\n",
              "    <div class=\"colab-df-container\">\n",
              "      <div>\n",
              "<style scoped>\n",
              "    .dataframe tbody tr th:only-of-type {\n",
              "        vertical-align: middle;\n",
              "    }\n",
              "\n",
              "    .dataframe tbody tr th {\n",
              "        vertical-align: top;\n",
              "    }\n",
              "\n",
              "    .dataframe thead th {\n",
              "        text-align: right;\n",
              "    }\n",
              "</style>\n",
              "<table border=\"1\" class=\"dataframe\">\n",
              "  <thead>\n",
              "    <tr style=\"text-align: right;\">\n",
              "      <th></th>\n",
              "      <th>itemname</th>\n",
              "      <th>itemnumber</th>\n",
              "      <th>category</th>\n",
              "      <th>percent_purchases</th>\n",
              "    </tr>\n",
              "  </thead>\n",
              "  <tbody>\n",
              "    <tr>\n",
              "      <th>0</th>\n",
              "      <td>PANT</td>\n",
              "      <td>8880171</td>\n",
              "      <td>845</td>\n",
              "      <td>3,369</td>\n",
              "    </tr>\n",
              "    <tr>\n",
              "      <th>1</th>\n",
              "      <td>PANT</td>\n",
              "      <td>8880171</td>\n",
              "      <td>NaN</td>\n",
              "      <td>2,055</td>\n",
              "    </tr>\n",
              "    <tr>\n",
              "      <th>2</th>\n",
              "      <td>PANT</td>\n",
              "      <td>8880172</td>\n",
              "      <td>845</td>\n",
              "      <td>1,497</td>\n",
              "    </tr>\n",
              "    <tr>\n",
              "      <th>112761</th>\n",
              "      <td>PINOTEX SUPERDEC SOR</td>\n",
              "      <td>61009053404</td>\n",
              "      <td>6100</td>\n",
              "      <td>-0,002</td>\n",
              "    </tr>\n",
              "    <tr>\n",
              "      <th>112762</th>\n",
              "      <td>QUICK GEVINSTER</td>\n",
              "      <td>214196</td>\n",
              "      <td>926</td>\n",
              "      <td>-0,002</td>\n",
              "    </tr>\n",
              "    <tr>\n",
              "      <th>112763</th>\n",
              "      <td>UKRUDTSDUG BASIC 1X</td>\n",
              "      <td>42139019916</td>\n",
              "      <td>4213</td>\n",
              "      <td>-0,002</td>\n",
              "    </tr>\n",
              "    <tr>\n",
              "      <th>112764</th>\n",
              "      <td>TRAPPEVANGE</td>\n",
              "      <td>5708832546219</td>\n",
              "      <td>600</td>\n",
              "      <td>-0,004</td>\n",
              "    </tr>\n",
              "    <tr>\n",
              "      <th>112765</th>\n",
              "      <td>BR MÆRKER RETUR</td>\n",
              "      <td>5766183013538</td>\n",
              "      <td>21</td>\n",
              "      <td>-0,005</td>\n",
              "    </tr>\n",
              "  </tbody>\n",
              "</table>\n",
              "</div>\n",
              "      <button class=\"colab-df-convert\" onclick=\"convertToInteractive('df-d2db55e1-8512-454a-b7f5-731abbcaed2e')\"\n",
              "              title=\"Convert this dataframe to an interactive table.\"\n",
              "              style=\"display:none;\">\n",
              "        \n",
              "  <svg xmlns=\"http://www.w3.org/2000/svg\" height=\"24px\"viewBox=\"0 0 24 24\"\n",
              "       width=\"24px\">\n",
              "    <path d=\"M0 0h24v24H0V0z\" fill=\"none\"/>\n",
              "    <path d=\"M18.56 5.44l.94 2.06.94-2.06 2.06-.94-2.06-.94-.94-2.06-.94 2.06-2.06.94zm-11 1L8.5 8.5l.94-2.06 2.06-.94-2.06-.94L8.5 2.5l-.94 2.06-2.06.94zm10 10l.94 2.06.94-2.06 2.06-.94-2.06-.94-.94-2.06-.94 2.06-2.06.94z\"/><path d=\"M17.41 7.96l-1.37-1.37c-.4-.4-.92-.59-1.43-.59-.52 0-1.04.2-1.43.59L10.3 9.45l-7.72 7.72c-.78.78-.78 2.05 0 2.83L4 21.41c.39.39.9.59 1.41.59.51 0 1.02-.2 1.41-.59l7.78-7.78 2.81-2.81c.8-.78.8-2.07 0-2.86zM5.41 20L4 18.59l7.72-7.72 1.47 1.35L5.41 20z\"/>\n",
              "  </svg>\n",
              "      </button>\n",
              "      \n",
              "  <style>\n",
              "    .colab-df-container {\n",
              "      display:flex;\n",
              "      flex-wrap:wrap;\n",
              "      gap: 12px;\n",
              "    }\n",
              "\n",
              "    .colab-df-convert {\n",
              "      background-color: #E8F0FE;\n",
              "      border: none;\n",
              "      border-radius: 50%;\n",
              "      cursor: pointer;\n",
              "      display: none;\n",
              "      fill: #1967D2;\n",
              "      height: 32px;\n",
              "      padding: 0 0 0 0;\n",
              "      width: 32px;\n",
              "    }\n",
              "\n",
              "    .colab-df-convert:hover {\n",
              "      background-color: #E2EBFA;\n",
              "      box-shadow: 0px 1px 2px rgba(60, 64, 67, 0.3), 0px 1px 3px 1px rgba(60, 64, 67, 0.15);\n",
              "      fill: #174EA6;\n",
              "    }\n",
              "\n",
              "    [theme=dark] .colab-df-convert {\n",
              "      background-color: #3B4455;\n",
              "      fill: #D2E3FC;\n",
              "    }\n",
              "\n",
              "    [theme=dark] .colab-df-convert:hover {\n",
              "      background-color: #434B5C;\n",
              "      box-shadow: 0px 1px 3px 1px rgba(0, 0, 0, 0.15);\n",
              "      filter: drop-shadow(0px 1px 2px rgba(0, 0, 0, 0.3));\n",
              "      fill: #FFFFFF;\n",
              "    }\n",
              "  </style>\n",
              "\n",
              "      <script>\n",
              "        const buttonEl =\n",
              "          document.querySelector('#df-d2db55e1-8512-454a-b7f5-731abbcaed2e button.colab-df-convert');\n",
              "        buttonEl.style.display =\n",
              "          google.colab.kernel.accessAllowed ? 'block' : 'none';\n",
              "\n",
              "        async function convertToInteractive(key) {\n",
              "          const element = document.querySelector('#df-d2db55e1-8512-454a-b7f5-731abbcaed2e');\n",
              "          const dataTable =\n",
              "            await google.colab.kernel.invokeFunction('convertToInteractive',\n",
              "                                                     [key], {});\n",
              "          if (!dataTable) return;\n",
              "\n",
              "          const docLinkHtml = 'Like what you see? Visit the ' +\n",
              "            '<a target=\"_blank\" href=https://colab.research.google.com/notebooks/data_table.ipynb>data table notebook</a>'\n",
              "            + ' to learn more about interactive tables.';\n",
              "          element.innerHTML = '';\n",
              "          dataTable['output_type'] = 'display_data';\n",
              "          await google.colab.output.renderOutput(dataTable, element);\n",
              "          const docLink = document.createElement('div');\n",
              "          docLink.innerHTML = docLinkHtml;\n",
              "          element.appendChild(docLink);\n",
              "        }\n",
              "      </script>\n",
              "    </div>\n",
              "  </div>\n",
              "  "
            ]
          },
          "metadata": {},
          "execution_count": 3
        }
      ]
    },
    {
      "cell_type": "code",
      "source": [
        "# Only print one selective row of interest to deep deeper\n",
        "#data_iss[data_iss.itemname == \"BANANER, LØSE\" or \"ØKO BANANER OR LØSE\" or \"BANANER\"] # or \"ØKO BANANER, LØSE\", HAVFRISK LAK, APPELSINER 2 KG,Agurk\n",
        "\n",
        "# only some of the rows of different kinds of the banana\n",
        "data_iss.iloc[[11, 12, 14, 18], :]   "
      ],
      "metadata": {
        "colab": {
          "base_uri": "https://localhost:8080/",
          "height": 175
        },
        "id": "bYBb2mlr_esC",
        "outputId": "5f7ed5f9-e121-49e1-9e07-ef3126de8cec"
      },
      "execution_count": 4,
      "outputs": [
        {
          "output_type": "execute_result",
          "data": {
            "text/plain": [
              "             itemname     itemnumber    category percent_purchases\n",
              "11  ØKO BANANER, LØSE  5712873336944          89             0,567\n",
              "12       BANANER,LØSE  5711044628659         NaN             0,565\n",
              "14            BANANER            406  0000000030             0,419\n",
              "18       BANANER,LØSE  5711044628659          89             0,266"
            ],
            "text/html": [
              "\n",
              "  <div id=\"df-f7a6c0a1-97a3-479f-b027-96c0769f46c8\">\n",
              "    <div class=\"colab-df-container\">\n",
              "      <div>\n",
              "<style scoped>\n",
              "    .dataframe tbody tr th:only-of-type {\n",
              "        vertical-align: middle;\n",
              "    }\n",
              "\n",
              "    .dataframe tbody tr th {\n",
              "        vertical-align: top;\n",
              "    }\n",
              "\n",
              "    .dataframe thead th {\n",
              "        text-align: right;\n",
              "    }\n",
              "</style>\n",
              "<table border=\"1\" class=\"dataframe\">\n",
              "  <thead>\n",
              "    <tr style=\"text-align: right;\">\n",
              "      <th></th>\n",
              "      <th>itemname</th>\n",
              "      <th>itemnumber</th>\n",
              "      <th>category</th>\n",
              "      <th>percent_purchases</th>\n",
              "    </tr>\n",
              "  </thead>\n",
              "  <tbody>\n",
              "    <tr>\n",
              "      <th>11</th>\n",
              "      <td>ØKO BANANER, LØSE</td>\n",
              "      <td>5712873336944</td>\n",
              "      <td>89</td>\n",
              "      <td>0,567</td>\n",
              "    </tr>\n",
              "    <tr>\n",
              "      <th>12</th>\n",
              "      <td>BANANER,LØSE</td>\n",
              "      <td>5711044628659</td>\n",
              "      <td>NaN</td>\n",
              "      <td>0,565</td>\n",
              "    </tr>\n",
              "    <tr>\n",
              "      <th>14</th>\n",
              "      <td>BANANER</td>\n",
              "      <td>406</td>\n",
              "      <td>0000000030</td>\n",
              "      <td>0,419</td>\n",
              "    </tr>\n",
              "    <tr>\n",
              "      <th>18</th>\n",
              "      <td>BANANER,LØSE</td>\n",
              "      <td>5711044628659</td>\n",
              "      <td>89</td>\n",
              "      <td>0,266</td>\n",
              "    </tr>\n",
              "  </tbody>\n",
              "</table>\n",
              "</div>\n",
              "      <button class=\"colab-df-convert\" onclick=\"convertToInteractive('df-f7a6c0a1-97a3-479f-b027-96c0769f46c8')\"\n",
              "              title=\"Convert this dataframe to an interactive table.\"\n",
              "              style=\"display:none;\">\n",
              "        \n",
              "  <svg xmlns=\"http://www.w3.org/2000/svg\" height=\"24px\"viewBox=\"0 0 24 24\"\n",
              "       width=\"24px\">\n",
              "    <path d=\"M0 0h24v24H0V0z\" fill=\"none\"/>\n",
              "    <path d=\"M18.56 5.44l.94 2.06.94-2.06 2.06-.94-2.06-.94-.94-2.06-.94 2.06-2.06.94zm-11 1L8.5 8.5l.94-2.06 2.06-.94-2.06-.94L8.5 2.5l-.94 2.06-2.06.94zm10 10l.94 2.06.94-2.06 2.06-.94-2.06-.94-.94-2.06-.94 2.06-2.06.94z\"/><path d=\"M17.41 7.96l-1.37-1.37c-.4-.4-.92-.59-1.43-.59-.52 0-1.04.2-1.43.59L10.3 9.45l-7.72 7.72c-.78.78-.78 2.05 0 2.83L4 21.41c.39.39.9.59 1.41.59.51 0 1.02-.2 1.41-.59l7.78-7.78 2.81-2.81c.8-.78.8-2.07 0-2.86zM5.41 20L4 18.59l7.72-7.72 1.47 1.35L5.41 20z\"/>\n",
              "  </svg>\n",
              "      </button>\n",
              "      \n",
              "  <style>\n",
              "    .colab-df-container {\n",
              "      display:flex;\n",
              "      flex-wrap:wrap;\n",
              "      gap: 12px;\n",
              "    }\n",
              "\n",
              "    .colab-df-convert {\n",
              "      background-color: #E8F0FE;\n",
              "      border: none;\n",
              "      border-radius: 50%;\n",
              "      cursor: pointer;\n",
              "      display: none;\n",
              "      fill: #1967D2;\n",
              "      height: 32px;\n",
              "      padding: 0 0 0 0;\n",
              "      width: 32px;\n",
              "    }\n",
              "\n",
              "    .colab-df-convert:hover {\n",
              "      background-color: #E2EBFA;\n",
              "      box-shadow: 0px 1px 2px rgba(60, 64, 67, 0.3), 0px 1px 3px 1px rgba(60, 64, 67, 0.15);\n",
              "      fill: #174EA6;\n",
              "    }\n",
              "\n",
              "    [theme=dark] .colab-df-convert {\n",
              "      background-color: #3B4455;\n",
              "      fill: #D2E3FC;\n",
              "    }\n",
              "\n",
              "    [theme=dark] .colab-df-convert:hover {\n",
              "      background-color: #434B5C;\n",
              "      box-shadow: 0px 1px 3px 1px rgba(0, 0, 0, 0.15);\n",
              "      filter: drop-shadow(0px 1px 2px rgba(0, 0, 0, 0.3));\n",
              "      fill: #FFFFFF;\n",
              "    }\n",
              "  </style>\n",
              "\n",
              "      <script>\n",
              "        const buttonEl =\n",
              "          document.querySelector('#df-f7a6c0a1-97a3-479f-b027-96c0769f46c8 button.colab-df-convert');\n",
              "        buttonEl.style.display =\n",
              "          google.colab.kernel.accessAllowed ? 'block' : 'none';\n",
              "\n",
              "        async function convertToInteractive(key) {\n",
              "          const element = document.querySelector('#df-f7a6c0a1-97a3-479f-b027-96c0769f46c8');\n",
              "          const dataTable =\n",
              "            await google.colab.kernel.invokeFunction('convertToInteractive',\n",
              "                                                     [key], {});\n",
              "          if (!dataTable) return;\n",
              "\n",
              "          const docLinkHtml = 'Like what you see? Visit the ' +\n",
              "            '<a target=\"_blank\" href=https://colab.research.google.com/notebooks/data_table.ipynb>data table notebook</a>'\n",
              "            + ' to learn more about interactive tables.';\n",
              "          element.innerHTML = '';\n",
              "          dataTable['output_type'] = 'display_data';\n",
              "          await google.colab.output.renderOutput(dataTable, element);\n",
              "          const docLink = document.createElement('div');\n",
              "          docLink.innerHTML = docLinkHtml;\n",
              "          element.appendChild(docLink);\n",
              "        }\n",
              "      </script>\n",
              "    </div>\n",
              "  </div>\n",
              "  "
            ]
          },
          "metadata": {},
          "execution_count": 4
        }
      ]
    },
    {
      "cell_type": "markdown",
      "source": [
        "***In above ddataset, only one food itemname (fx `\"ØKO BANANER, LØSE\"`) is appear in different rows with;***\n",
        "*   Many different itemnumber, even some are 13 digits and other are 8 digits\n",
        "*   NULL percent purchage"
      ],
      "metadata": {
        "id": "tQfUbWhMCK0R"
      }
    },
    {
      "cell_type": "markdown",
      "source": [
        "***Here i like to use NLP to find split itemname to name and other entity***"
      ],
      "metadata": {
        "id": "y4e7DEwbcvov"
      }
    },
    {
      "cell_type": "code",
      "source": [
        "#!pip install nltk"
      ],
      "metadata": {
        "id": "n3PPjsh1I6c3"
      },
      "execution_count": 5,
      "outputs": []
    },
    {
      "cell_type": "code",
      "source": [
        "# Liaries for NLP\n",
        "from nltk.tokenize import word_tokenize\n",
        "\n",
        "import nltk\n",
        "nltk.download(\"popular\")\n",
        "nltk.download(\"stopwords\")\n",
        "from nltk.corpus import stopwords\n",
        "\n",
        "from nltk.stem import PorterStemmer\n",
        "from nltk.stem.wordnet import WordNetLemmatizer\n",
        "nltk.download(\"omw-1.4\")\n",
        "\n",
        "stop_words= set(stopwords.words(\"danish\"))\n",
        "print(stop_words)\n",
        "\n",
        "# for regular expression\n",
        "import re"
      ],
      "metadata": {
        "id": "IGjhtTAijiUy",
        "outputId": "0034a87f-da0e-4e30-8df0-7e8b160d17d8",
        "colab": {
          "base_uri": "https://localhost:8080/"
        }
      },
      "execution_count": 35,
      "outputs": [
        {
          "output_type": "stream",
          "name": "stderr",
          "text": [
            "[nltk_data] Downloading collection 'popular'\n",
            "[nltk_data]    | \n",
            "[nltk_data]    | Downloading package cmudict to /root/nltk_data...\n",
            "[nltk_data]    |   Unzipping corpora/cmudict.zip.\n",
            "[nltk_data]    | Downloading package gazetteers to /root/nltk_data...\n",
            "[nltk_data]    |   Unzipping corpora/gazetteers.zip.\n",
            "[nltk_data]    | Downloading package genesis to /root/nltk_data...\n",
            "[nltk_data]    |   Unzipping corpora/genesis.zip.\n",
            "[nltk_data]    | Downloading package gutenberg to /root/nltk_data...\n",
            "[nltk_data]    |   Unzipping corpora/gutenberg.zip.\n",
            "[nltk_data]    | Downloading package inaugural to /root/nltk_data...\n",
            "[nltk_data]    |   Unzipping corpora/inaugural.zip.\n",
            "[nltk_data]    | Downloading package movie_reviews to\n",
            "[nltk_data]    |     /root/nltk_data...\n",
            "[nltk_data]    |   Unzipping corpora/movie_reviews.zip.\n",
            "[nltk_data]    | Downloading package names to /root/nltk_data...\n",
            "[nltk_data]    |   Unzipping corpora/names.zip.\n",
            "[nltk_data]    | Downloading package shakespeare to /root/nltk_data...\n",
            "[nltk_data]    |   Unzipping corpora/shakespeare.zip.\n",
            "[nltk_data]    | Downloading package stopwords to /root/nltk_data...\n",
            "[nltk_data]    |   Package stopwords is already up-to-date!\n",
            "[nltk_data]    | Downloading package treebank to /root/nltk_data...\n",
            "[nltk_data]    |   Unzipping corpora/treebank.zip.\n",
            "[nltk_data]    | Downloading package twitter_samples to\n",
            "[nltk_data]    |     /root/nltk_data...\n",
            "[nltk_data]    |   Unzipping corpora/twitter_samples.zip.\n",
            "[nltk_data]    | Downloading package omw to /root/nltk_data...\n",
            "[nltk_data]    | Downloading package omw-1.4 to /root/nltk_data...\n",
            "[nltk_data]    |   Package omw-1.4 is already up-to-date!\n",
            "[nltk_data]    | Downloading package wordnet to /root/nltk_data...\n",
            "[nltk_data]    | Downloading package wordnet2021 to /root/nltk_data...\n",
            "[nltk_data]    | Downloading package wordnet31 to /root/nltk_data...\n",
            "[nltk_data]    | Downloading package wordnet_ic to /root/nltk_data...\n",
            "[nltk_data]    |   Unzipping corpora/wordnet_ic.zip.\n",
            "[nltk_data]    | Downloading package words to /root/nltk_data...\n",
            "[nltk_data]    |   Unzipping corpora/words.zip.\n",
            "[nltk_data]    | Downloading package maxent_ne_chunker to\n",
            "[nltk_data]    |     /root/nltk_data...\n",
            "[nltk_data]    |   Unzipping chunkers/maxent_ne_chunker.zip.\n"
          ]
        },
        {
          "output_type": "stream",
          "name": "stdout",
          "text": [
            "{'han', 'mig', 'når', 'min', 'dig', 'under', 'været', 'hendes', 'hende', 'også', 'blive', 'sine', 'var', 'have', 'om', 'dem', 'men', 'thi', 'skal', 'bliver', 'over', 'en', 'til', 'fra', 'et', 'det', 'mange', 'blev', 'vor', 'kunne', 'hvis', 'da', 'nogle', 'nu', 'ikke', 'og', 'deres', 'mit', 'for', 'sin', 'disse', 'ind', 'hvor', 'af', 'sit', 'efter', 'alt', 'denne', 'op', 'er', 'hos', 'havde', 'skulle', 'hans', 'os', 'som', 'din', 'man', 'har', 'jeg', 'jo', 'anden', 'i', 'være', 'den', 'jer', 'sådan', 'mine', 'på', 'meget', 'ad', 'selv', 'du', 'at', 'mod', 'dette', 'sig', 'end', 'ned', 'de', 'her', 'hun', 'ville', 'noget', 'hvad', 'dog', 'eller', 'vi', 'vil', 'ud', 'med', 'ham', 'der', 'alle'}\n"
          ]
        },
        {
          "output_type": "stream",
          "name": "stderr",
          "text": [
            "[nltk_data]    | Downloading package punkt to /root/nltk_data...\n",
            "[nltk_data]    |   Package punkt is already up-to-date!\n",
            "[nltk_data]    | Downloading package snowball_data to\n",
            "[nltk_data]    |     /root/nltk_data...\n",
            "[nltk_data]    | Downloading package averaged_perceptron_tagger to\n",
            "[nltk_data]    |     /root/nltk_data...\n",
            "[nltk_data]    |   Unzipping taggers/averaged_perceptron_tagger.zip.\n",
            "[nltk_data]    | \n",
            "[nltk_data]  Done downloading collection popular\n",
            "[nltk_data] Downloading package stopwords to /root/nltk_data...\n",
            "[nltk_data]   Package stopwords is already up-to-date!\n",
            "[nltk_data] Downloading package omw-1.4 to /root/nltk_data...\n",
            "[nltk_data]   Package omw-1.4 is already up-to-date!\n"
          ]
        }
      ]
    },
    {
      "cell_type": "code",
      "source": [
        "# here i am going to use Regular Express (RegEx) for turning sentance to each word (Word Tokenization)\n",
        "def remove_delimiters(sentence):\n",
        "  return re.findall(r'\\w+', sentence)\n",
        "\n",
        "sents= \" UKRUDTSDUG BASIC 1X  \" # sdujh\tØKO BANANER, LØSE jhghujw, hsdfgw\"\n",
        "\n",
        "trimmed_sent= remove_delimiters(sents)\n",
        "trimmed_sent"
      ],
      "metadata": {
        "id": "rmGF0jO3m4Vq",
        "outputId": "60427bed-c66a-429f-b61b-356f712f1180",
        "colab": {
          "base_uri": "https://localhost:8080/"
        }
      },
      "execution_count": 36,
      "outputs": [
        {
          "output_type": "execute_result",
          "data": {
            "text/plain": [
              "['UKRUDTSDUG', 'BASIC', '1X']"
            ]
          },
          "metadata": {},
          "execution_count": 36
        }
      ]
    },
    {
      "cell_type": "code",
      "source": [
        "#WWord tagging\n",
        "words= nltk.word_tokenize(sents)\n",
        "pos_tag= nltk.pos_tag(words)\n",
        "\n",
        "words\n",
        "pos_tag"
      ],
      "metadata": {
        "id": "aF6O5cFrtz1e",
        "outputId": "821a0001-d7ef-488c-a48c-ac20d011f7eb",
        "colab": {
          "base_uri": "https://localhost:8080/"
        }
      },
      "execution_count": 37,
      "outputs": [
        {
          "output_type": "execute_result",
          "data": {
            "text/plain": [
              "[('UKRUDTSDUG', 'NNP'), ('BASIC', 'NNP'), ('1X', 'CD')]"
            ]
          },
          "metadata": {},
          "execution_count": 37
        }
      ]
    },
    {
      "cell_type": "code",
      "source": [
        "!pip install spacy"
      ],
      "metadata": {
        "id": "nHUj3-r0YIdP",
        "outputId": "a25ee93b-7641-4d15-a1a3-a1e692d564ef",
        "colab": {
          "base_uri": "https://localhost:8080/"
        }
      },
      "execution_count": 48,
      "outputs": [
        {
          "output_type": "stream",
          "name": "stdout",
          "text": [
            "Looking in indexes: https://pypi.org/simple, https://us-python.pkg.dev/colab-wheels/public/simple/\n",
            "Requirement already satisfied: spacy in /usr/local/lib/python3.7/dist-packages (3.4.1)\n",
            "Requirement already satisfied: pathy>=0.3.5 in /usr/local/lib/python3.7/dist-packages (from spacy) (0.6.2)\n",
            "Requirement already satisfied: srsly<3.0.0,>=2.4.3 in /usr/local/lib/python3.7/dist-packages (from spacy) (2.4.4)\n",
            "Requirement already satisfied: spacy-loggers<2.0.0,>=1.0.0 in /usr/local/lib/python3.7/dist-packages (from spacy) (1.0.3)\n",
            "Requirement already satisfied: packaging>=20.0 in /usr/local/lib/python3.7/dist-packages (from spacy) (21.3)\n",
            "Requirement already satisfied: cymem<2.1.0,>=2.0.2 in /usr/local/lib/python3.7/dist-packages (from spacy) (2.0.6)\n",
            "Requirement already satisfied: requests<3.0.0,>=2.13.0 in /usr/local/lib/python3.7/dist-packages (from spacy) (2.23.0)\n",
            "Requirement already satisfied: setuptools in /usr/local/lib/python3.7/dist-packages (from spacy) (57.4.0)\n",
            "Requirement already satisfied: pydantic!=1.8,!=1.8.1,<1.10.0,>=1.7.4 in /usr/local/lib/python3.7/dist-packages (from spacy) (1.9.1)\n",
            "Requirement already satisfied: spacy-legacy<3.1.0,>=3.0.9 in /usr/local/lib/python3.7/dist-packages (from spacy) (3.0.9)\n",
            "Requirement already satisfied: jinja2 in /usr/local/lib/python3.7/dist-packages (from spacy) (2.11.3)\n",
            "Requirement already satisfied: tqdm<5.0.0,>=4.38.0 in /usr/local/lib/python3.7/dist-packages (from spacy) (4.64.0)\n",
            "Requirement already satisfied: thinc<8.2.0,>=8.1.0 in /usr/local/lib/python3.7/dist-packages (from spacy) (8.1.0)\n",
            "Requirement already satisfied: wasabi<1.1.0,>=0.9.1 in /usr/local/lib/python3.7/dist-packages (from spacy) (0.10.1)\n",
            "Requirement already satisfied: langcodes<4.0.0,>=3.2.0 in /usr/local/lib/python3.7/dist-packages (from spacy) (3.3.0)\n",
            "Requirement already satisfied: preshed<3.1.0,>=3.0.2 in /usr/local/lib/python3.7/dist-packages (from spacy) (3.0.6)\n",
            "Requirement already satisfied: typing-extensions<4.2.0,>=3.7.4 in /usr/local/lib/python3.7/dist-packages (from spacy) (4.1.1)\n",
            "Requirement already satisfied: catalogue<2.1.0,>=2.0.6 in /usr/local/lib/python3.7/dist-packages (from spacy) (2.0.8)\n",
            "Requirement already satisfied: murmurhash<1.1.0,>=0.28.0 in /usr/local/lib/python3.7/dist-packages (from spacy) (1.0.7)\n",
            "Requirement already satisfied: typer<0.5.0,>=0.3.0 in /usr/local/lib/python3.7/dist-packages (from spacy) (0.4.2)\n",
            "Requirement already satisfied: numpy>=1.15.0 in /usr/local/lib/python3.7/dist-packages (from spacy) (1.21.6)\n",
            "Requirement already satisfied: zipp>=0.5 in /usr/local/lib/python3.7/dist-packages (from catalogue<2.1.0,>=2.0.6->spacy) (3.8.1)\n",
            "Requirement already satisfied: pyparsing!=3.0.5,>=2.0.2 in /usr/local/lib/python3.7/dist-packages (from packaging>=20.0->spacy) (3.0.9)\n",
            "Requirement already satisfied: smart-open<6.0.0,>=5.2.1 in /usr/local/lib/python3.7/dist-packages (from pathy>=0.3.5->spacy) (5.2.1)\n",
            "Requirement already satisfied: chardet<4,>=3.0.2 in /usr/local/lib/python3.7/dist-packages (from requests<3.0.0,>=2.13.0->spacy) (3.0.4)\n",
            "Requirement already satisfied: urllib3!=1.25.0,!=1.25.1,<1.26,>=1.21.1 in /usr/local/lib/python3.7/dist-packages (from requests<3.0.0,>=2.13.0->spacy) (1.24.3)\n",
            "Requirement already satisfied: certifi>=2017.4.17 in /usr/local/lib/python3.7/dist-packages (from requests<3.0.0,>=2.13.0->spacy) (2022.6.15)\n",
            "Requirement already satisfied: idna<3,>=2.5 in /usr/local/lib/python3.7/dist-packages (from requests<3.0.0,>=2.13.0->spacy) (2.10)\n",
            "Requirement already satisfied: blis<0.8.0,>=0.7.8 in /usr/local/lib/python3.7/dist-packages (from thinc<8.2.0,>=8.1.0->spacy) (0.7.8)\n",
            "Requirement already satisfied: click<9.0.0,>=7.1.1 in /usr/local/lib/python3.7/dist-packages (from typer<0.5.0,>=0.3.0->spacy) (7.1.2)\n",
            "Requirement already satisfied: MarkupSafe>=0.23 in /usr/local/lib/python3.7/dist-packages (from jinja2->spacy) (2.0.1)\n"
          ]
        }
      ]
    },
    {
      "cell_type": "code",
      "source": [
        "# Dependancy parcing\n",
        "import spacy\n",
        "\n",
        "\n",
        "import spacy.cli\n",
        "spacy.cli.download(\"da_core_news_lg\")\n",
        "nlp= spacy.load('da_core_news_lg')\n",
        "from spacy import displacy\n",
        "\n",
        "temp= nlp(sents)\n",
        "displacy.serve(temp, style= 'dep')"
      ],
      "metadata": {
        "id": "hL7QZGyZWO6s",
        "outputId": "eb32b9ee-6a2f-4451-d193-19b3edb121ba",
        "colab": {
          "base_uri": "https://localhost:8080/",
          "height": 148
        }
      },
      "execution_count": 56,
      "outputs": [
        {
          "output_type": "error",
          "ename": "SystemExit",
          "evalue": "ignored",
          "traceback": [
            "An exception has occurred, use %tb to see the full traceback.\n",
            "\u001b[0;31mSystemExit\u001b[0m\u001b[0;31m:\u001b[0m 2\n"
          ]
        },
        {
          "output_type": "stream",
          "name": "stderr",
          "text": [
            "/usr/local/lib/python3.7/dist-packages/IPython/core/interactiveshell.py:3334: UserWarning: To exit: use 'exit', 'quit', or Ctrl-D.\n",
            "  warn(\"To exit: use 'exit', 'quit', or Ctrl-D.\", stacklevel=1)\n"
          ]
        }
      ]
    },
    {
      "cell_type": "code",
      "source": [
        "import spacy\n",
        "from spacy.lang.da.examples import sentences \n",
        "\n",
        "nlp = spacy.load(\"da_core_news_lg\")\n",
        "doc = nlp(sentences[0])\n",
        "print(doc.text)\n",
        "for token in doc:\n",
        "    print(token.text, token.pos_, token.dep_)"
      ],
      "metadata": {
        "id": "7lnKgXpcW_V_",
        "outputId": "568e496e-eed6-498e-913e-f2fa83e73154",
        "colab": {
          "base_uri": "https://localhost:8080/"
        }
      },
      "execution_count": 58,
      "outputs": [
        {
          "output_type": "stream",
          "name": "stdout",
          "text": [
            "Apple overvejer at købe et britisk startup for 1 milliard dollar.\n",
            "Apple PROPN nsubj\n",
            "overvejer VERB ROOT\n",
            "at PART mark\n",
            "købe VERB obj\n",
            "et DET det\n",
            "britisk ADJ amod\n",
            "startup NOUN obj\n",
            "for ADP case\n",
            "1 NUM nummod\n",
            "milliard NOUN nmod\n",
            "dollar PROPN nmod\n",
            ". PUNCT punct\n"
          ]
        }
      ]
    },
    {
      "cell_type": "markdown",
      "source": [
        "# FRIDA Food Composition Database\n",
        "***FRIDA Food Composition Database  contain mainly Nutrition value of the each food items***\n",
        "\n",
        "*   ***Category list:*** https://frida.fooddata.dk/food/lists/grouped?lang=en\n",
        "*   ***Data display inspiration:*** https://foodb.ca/foods/FOOD00011\n",
        "*   ***Display on FRIDA:*** https://frida.fooddata.dk/food/754?lang=en"
      ],
      "metadata": {
        "id": "SkyZhlg2Quda"
      }
    },
    {
      "cell_type": "code",
      "source": [
        "# Import FRIDA Nutrient data\n",
        "path_frida_data=\"https://github.com/mrchapagain/ConsumerDataAnalytics/raw/main/FridaNutrientData.xlsx\"\n",
        "\n",
        "# Lets open data as they are but only 26 columns out of 201 columns\n",
        "data_frida= pd.read_excel(path_frida_data, sheet_name=1, index_col=0, header=0, skiprows=0).round(decimals = 2).iloc[:, :25]\n",
        "data_frida.head(3)"
      ],
      "metadata": {
        "id": "9Upaz_BKJoKt"
      },
      "execution_count": null,
      "outputs": []
    },
    {
      "cell_type": "code",
      "source": [
        "# Lets define columns name that are readeable\n",
        "column_names= ['Gruppe', 'Navn', 'Svind_%', 'Energy_kj', 'Energy_kcal', 'Nitrogen_til_protein_faktor', 'Nitrogen_total_g', 'Protein_videnskabelign_g', 'Protein_deklaration_g', 'Kulhydrat_difference_g', 'Kulhydrat_tilgængelig_g', 'Kulhydrat_deklaration_g', 'Tilsat_sukker_g', 'Kostfibre_g', 'Fedt_total_g', 'FCF', 'Alkohol_g', 'Aske_g', 'Tørstof_g', 'Vand_g', 'A_vitamin_RE', 'Retinol_µg', 'beta_caroten_µg', 'D_vitamin_µg', 'D3_vitamin_µg']\n",
        "\n",
        "# Lets open with little modificaton so easy to read and understand\n",
        "data_frida= pd.read_excel(path_frida_data, sheet_name=1, index_col=0, header=None, skiprows=2).round(decimals = 2).iloc[:, :25].reset_index(drop=True)\n",
        "# Assign columns name that defined just above\n",
        "data_frida.columns= column_names\n",
        "\n",
        "# lets see frist 3 and last 3 rows od the dataset\n",
        "data_frida.head(3).append(data_frida.tail(3))\n",
        "data_frida[data_frida.Gruppe == 'Sydfrugt'] #\"Frugt\"-grøntsager, Sydfrugt, Bærfrugt\n",
        "#data_frida[data_frida.Navn == \"Banan, rå\"]\n"
      ],
      "metadata": {
        "id": "LRfCNCdyd3Gy"
      },
      "execution_count": null,
      "outputs": []
    },
    {
      "cell_type": "code",
      "source": [
        "row=data_frida[data_frida.Navn== \"Banan, rå\"]   # Kylling, bryst (filet), kogt, pålæg,  ØKO BANANER, LØSE\n",
        "print(\"Id: \", row.index[0])\n",
        "print(\"Category: \", row.Gruppe.values[0])\n",
        "print(\"Name: \", row.Navn.values[0])\n",
        "print(\"Total Energy: \", row.Energy_kj.values[0], \"Kj (\", row.Energy_kcal.values[0], \"Kacl)\")\n",
        "print(\"Total Energy: \", row.Energy_kcal.values[0])\n",
        "print(\"Total Energy: \", row.Energy_kj.values[0])"
      ],
      "metadata": {
        "id": "tZWSNdW7GH1A"
      },
      "execution_count": null,
      "outputs": []
    },
    {
      "cell_type": "code",
      "source": [
        "# To see NAN value and data types of each columns\n",
        "#data_frida.info()"
      ],
      "metadata": {
        "id": "-jEo-rf3TG8x"
      },
      "execution_count": null,
      "outputs": []
    },
    {
      "cell_type": "markdown",
      "source": [
        "***Above dataset do not contain NAN value and all of the columns are object type, so some of the columns need to be changed to interger or float data type to work as numbers value***"
      ],
      "metadata": {
        "id": "7XLSXEhGvd2w"
      }
    },
    {
      "cell_type": "code",
      "source": [
        ""
      ],
      "metadata": {
        "id": "vxTNSVj7etHj"
      },
      "execution_count": null,
      "outputs": []
    },
    {
      "cell_type": "markdown",
      "source": [
        "# Recipt from my personal Storebox account\n",
        "- This data set i download from my own storebox account. Lets see what kind of information we can extract from storebox account\n",
        "\n",
        "***The Store-box dataset contain one dataset of recieptand another dataset of the actual list of itemspurchaged each time***"
      ],
      "metadata": {
        "id": "ovo_8I1bRkGU"
      }
    },
    {
      "cell_type": "code",
      "source": [
        "#Import data\n",
        "path_storebox_data= \"https://github.com/mrchapagain/ConsumerDataAnalytics/raw/main/storbox_recipts.json\"\n",
        "\n",
        "#Loading dat in dataframe \n",
        "data_storebox= pd.read_json(path_storebox_data)\n",
        "# ['id', 'type', 'receiptId', 'purchaseDate', 'purchaseDateTimeString', 'orderNumber', 'price', 'merchant', 'receiptLines', 'terminalId', 'payments', 'cards', \n",
        "#     'barcode', 'headerTexts', 'footerTexts', 'userIds', 'imageId', 'receiptImage', 'note', 'tags', 'headerText', 'footerText', 'purchaseDateTimeZoneOffset', 'legalReceipt']\n",
        "\n",
        "# Lets open only columns that make sence\n",
        "data_storebox= data_storebox[[\"id\", \"receiptId\", \"purchaseDate\", \"orderNumber\", \"price\", \"merchant\",'barcode']]\n",
        "data_storebox.head(3)"
      ],
      "metadata": {
        "id": "Y2Cd6QEERkxB"
      },
      "execution_count": null,
      "outputs": []
    },
    {
      "cell_type": "markdown",
      "source": [
        "***With the receiptId i can go to indiviisual reciept and extract list of purchage items. However the reciept is in PDF so need little advance RegEx code so i have not done it yet but will update soon.***"
      ],
      "metadata": {
        "id": "lIJ-Sa_-6SKN"
      }
    },
    {
      "cell_type": "markdown",
      "source": [
        "\n",
        "**Now lets  open reciept of  of the very first column (receiptId= \"05jrqpia3ofdzsbq773yme4on0ko1f87\") of above data**"
      ],
      "metadata": {
        "id": "EyHf0fzlVVGp"
      }
    },
    {
      "cell_type": "code",
      "source": [
        "# Lets open reciept of very first columns (receiptId= \"05jrqpia3ofdzsbq773yme4on0ko1f87\") of above dataset (data_storbox)\n",
        "data_storbox_reciept= \"/content/05jrqpia3ofdzsbq773yme4on0ko1f87-14736470631022876123.pdf\" # \"https://github.com/mrchapagain/food_ontology/raw/main/storbox_recipt_pdf.pdf\"\n",
        "\n",
        "# read information from PDF file (open it in read binary mode)\n",
        "pdfFileObj = open(data_storbox_reciept, 'rb')\n",
        "\n",
        "# call and store PdfFileReader\n",
        "# object in pdfReader\n",
        "pdfReader = PyPDF2.PdfFileReader(pdfFileObj)\n",
        "\n",
        "# to access first page if the PDF file have multiple pages, pass 0\n",
        "pageObj = pdfReader.getPage(0)\n",
        "\n",
        "# extract the page object by extractText() function\n",
        "texts = pageObj.extractText()\n",
        "\n",
        "# print the extracted texts\n",
        "print(texts)"
      ],
      "metadata": {
        "id": "67U1XSezT_eI"
      },
      "execution_count": null,
      "outputs": []
    },
    {
      "cell_type": "markdown",
      "source": [
        "***I have extracted data from PDF file now first need to turn it to dictionary and then DataFrame.***"
      ],
      "metadata": {
        "id": "crvky8OYbuwk"
      }
    },
    {
      "cell_type": "code",
      "source": [
        "lines= texts.rstrip(\"\\n\")\n",
        "lines"
      ],
      "metadata": {
        "id": "nDMTQxqPhLJK"
      },
      "execution_count": null,
      "outputs": []
    },
    {
      "cell_type": "markdown",
      "source": [
        "# Climate Data from Concito"
      ],
      "metadata": {
        "id": "s0ZhiLarTyRZ"
      }
    },
    {
      "cell_type": "code",
      "source": [
        "#Import data\n",
        "path_climate_data=\"https://github.com/mrchapagain/ConsumerDataAnalytics/raw/main/ClimateData.xlsx\"\n",
        "\n",
        "# Loading the data into the data-frame\n",
        "col_names= [\"id\", \"Product_dk\", \"Category_dk\", \"Product_en\", \"Category_en\", \"Unit\", \"Agriculture\", \"iLUC\", \"Processing\", \"Packaging\", \"Transport\", \"Retail\", \"Total_CO2_eq/kg\", \"Energy_KJ\", \"Fat_g\", \"Carb_g\", \"Protein_g\", \"Data_Source\", \"Comments\", \"GPC_Level4_en\", \"ID_Food\", \"ID_Pack\", \"ID_Retail\", \"GPC_Category_en\", \"GPC_Category_dk\", \"GPC_Level4_dk\", \"product_type\", \"GPC_level1\", \"Food_group\", \"GPC_level2\", \"Un/Processed\", \"GPC_Level3\", \"Extra_category\"]\n",
        "\n",
        "# Original columns name are replaced with ralavant names (col_names)\n",
        "data_climate= pd.read_excel(path_climate_data, sheet_name=1, index_col=False, header=None, skiprows=1, names= col_names).round(decimals = 2)\n",
        "data_climate.head(3)"
      ],
      "metadata": {
        "id": "lGbi_RinwtrU"
      },
      "execution_count": null,
      "outputs": []
    },
    {
      "cell_type": "markdown",
      "source": [
        "***The reason to open this climate dataset is to see if it is possible link other dataset with column name \"GPC_Level\" which is releted to GS1 Trade Sync code.***"
      ],
      "metadata": {
        "id": "D4cI2aCjx_R5"
      }
    },
    {
      "cell_type": "markdown",
      "source": [
        "**Let´s have a look dataset with only selected columns that might make sense\\**"
      ],
      "metadata": {
        "id": "SUqnDbqvyzHL"
      }
    },
    {
      "cell_type": "code",
      "source": [
        "cols_to_use= [\"Product_en\", \"Category_en\", \"ID_Food\", \"ID_Pack\", \"ID_Retail\", \"GPC_level1\", \"GPC_level2\", \"GPC_Level3\", \"GPC_Level4_dk\", \"Fat_g\", \"Carb_g\", \"Protein_g\", \"Energy_KJ\", \"Agriculture\", \"iLUC\", \"Processing\", \"Packaging\", \"Transport\", \"Retail\", \"Total_CO2_eq/kg\"]\n",
        "\n",
        "data_climate_selected= data_climate.loc[:, cols_to_use].round(decimals = 2)\n",
        "data_climate_selected.head()"
      ],
      "metadata": {
        "id": "83dq2-gHyeoz"
      },
      "execution_count": null,
      "outputs": []
    },
    {
      "cell_type": "markdown",
      "source": [
        "# Data from COOP store (store data)"
      ],
      "metadata": {
        "id": "C-_TxNg0QyiB"
      }
    },
    {
      "cell_type": "code",
      "source": [
        "path_coop_data= \"https://raw.githubusercontent.com/mrchapagain/ConsumerDataAnalytics/main/storedata/storedata_csv.csv\"\n",
        "#data_coop= pd.read_excel(path_coop_data, sheet_name=1, header=0, skiprows=0).round(decimals = 2)\n",
        "\n",
        "data_coop= pd.read_csv(path_coop_data, index_col=0, sep= \";\", on_bad_lines='skip', engine='python')\n",
        "\n",
        "data_coop.head()"
      ],
      "metadata": {
        "id": "pPbpjHGCQ11S"
      },
      "execution_count": null,
      "outputs": []
    },
    {
      "cell_type": "markdown",
      "source": [
        "***These information are saved wrong way; all the columns of csv in one column so it open like one column***\n",
        "\n",
        "So i am going to open with string split method with comma \" ,\""
      ],
      "metadata": {
        "id": "9b0pSdv28y6C"
      }
    },
    {
      "cell_type": "markdown",
      "source": [
        "# TradeSync data from GS1 "
      ],
      "metadata": {
        "id": "l8Titj-1RNty"
      }
    },
    {
      "cell_type": "code",
      "source": [
        "import os\n",
        "import xml.etree.ElementTree as ET\n",
        "from bs4 import BeautifulSoup"
      ],
      "metadata": {
        "id": "Xu9g3dMz8IvB"
      },
      "execution_count": null,
      "outputs": []
    },
    {
      "cell_type": "code",
      "source": [
        "#Import data\n",
        "path_tradesync_data= \"/content/testdata_gs1.xml\" # \"https://github.com/mrchapagain/food_ontology/blob/main/gs1_data/testdata.xml\""
      ],
      "metadata": {
        "id": "bYVqtP-Z8JhE"
      },
      "execution_count": null,
      "outputs": []
    },
    {
      "cell_type": "code",
      "source": [
        "tree = ET.parse(path_tradesync_data)\n",
        "root = tree.getroot()\n",
        "print(\"Roots:\", root.tag)\n",
        "print(\"Attrib:\", root.attrib)\n",
        "print(\"Childerns: \", list(root))\n"
      ],
      "metadata": {
        "id": "Wi0hm7mgBH6B"
      },
      "execution_count": null,
      "outputs": []
    },
    {
      "cell_type": "markdown",
      "source": [
        "***This part is hidden because the datast is very big and  take somany lines***"
      ],
      "metadata": {
        "id": "c-82yeP6S0Rk"
      }
    },
    {
      "cell_type": "code",
      "source": [
        "# Code to have a look whole data\n",
        "\"\"\"# Reading the data inside the xml file to a variable under the name  data\n",
        "with open(path_tradesync_data, 'r') as f:\n",
        "    for line in f.readlines():\n",
        "      print(line)\n",
        "\"\"\"\n",
        "\n",
        "# Code to explore tags\n",
        "\"\"\"# The xml file has a LOT of tags!\n",
        "list_of_items= []\n",
        "stopAt = 200\n",
        "for elem in root.iter():\n",
        "    print(elem.tag)\n",
        "    list_of_items.append(elem.tag)\n",
        "    #print(elem.attrib)\n",
        "    if stopAt==0:\n",
        "        break\n",
        "    stopAt -= 1\"\"\""
      ],
      "metadata": {
        "id": "wVEjbHEJ-4f8"
      },
      "execution_count": null,
      "outputs": []
    },
    {
      "cell_type": "code",
      "source": [
        "#print(ET.tostring(root, encoding='utf8').decode('utf8'))\n",
        "list_of_items_to_find= [\"entityIdentification\", \"brandName\", \"functionalName\", \"gln\", \"gtin\", \"creationDateTime\", \"dataRecipient\", \"contactDescription\", \"partyAddress\", \"gpcCategoryCode\", \"grossWeight\", \"descriptionShort\", \"allergenSpecificationName\", \"ingredientStatement\", \"tradeItemTemperatureConditionTypeCode\", \"uniformResourceIdentifier\"]\n",
        "#  \"additionalTradeItemIdentification\", \"partyName\",\n",
        "\n",
        "#Lets start the dictionary to collecct items\n",
        "dict_item_text = {}\n",
        "\n",
        "# Loop over the tags that make sense (from list above)\n",
        "for list_item in list_of_items_to_find:\n",
        "  \n",
        "  # Again  looping to get the text value\n",
        "  for item in root.iter(list_item):\n",
        "    dict_item_text[list_item] = item.text\n",
        "\n",
        "# Lets see what we have c collected from the loop\n",
        "dict_item_text"
      ],
      "metadata": {
        "id": "mjG6vhzwEeZO"
      },
      "execution_count": null,
      "outputs": []
    },
    {
      "cell_type": "markdown",
      "source": [
        "***Above dictinary are the information extracted from GS1 xml file associated with each item from the purchage list***\n",
        "\n",
        "*We can grasp a lot of infoation about the item*"
      ],
      "metadata": {
        "id": "SbSNajOqYdjk"
      }
    },
    {
      "cell_type": "code",
      "source": [
        ""
      ],
      "metadata": {
        "id": "jrMR2f0nYfAJ"
      },
      "execution_count": null,
      "outputs": []
    },
    {
      "cell_type": "code",
      "source": [
        ""
      ],
      "metadata": {
        "id": "krgmlxhV-92_"
      },
      "execution_count": null,
      "outputs": []
    }
  ]
}