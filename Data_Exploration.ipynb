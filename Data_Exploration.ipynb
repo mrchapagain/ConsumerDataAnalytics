{
  "nbformat": 4,
  "nbformat_minor": 0,
  "metadata": {
    "colab": {
      "name": "Data_Exploration.ipynb",
      "provenance": [],
      "collapsed_sections": [],
      "authorship_tag": "ABX9TyPKCcOiz8E22XYvkT4ZnFGW",
      "include_colab_link": true
    },
    "kernelspec": {
      "name": "python3",
      "display_name": "Python 3"
    },
    "language_info": {
      "name": "python"
    }
  },
  "cells": [
    {
      "cell_type": "markdown",
      "metadata": {
        "id": "view-in-github",
        "colab_type": "text"
      },
      "source": [
        "<a href=\"https://colab.research.google.com/github/mrchapagain/ConsumerDataAnalytics/blob/main/Data_Exploration.ipynb\" target=\"_parent\"><img src=\"https://colab.research.google.com/assets/colab-badge.svg\" alt=\"Open In Colab\"/></a>"
      ]
    },
    {
      "cell_type": "markdown",
      "source": [
        "**Here i try to explore different dataset to look if they can be connected, linked or somehow can talk to eachother.**\n",
        "*   *Data by Frederik*\n",
        "*   *Frida dataset of Nutrient content of food items*\n",
        "*   *Reciept from my personal Storebox account*\n",
        "*   *link from TradeSync data from GS1*\n",
        "*   *Climate Data from Concito*"
      ],
      "metadata": {
        "id": "IWr_8-ODRq4t"
      }
    },
    {
      "cell_type": "code",
      "source": [
        "#!pip install PyPDF2"
      ],
      "metadata": {
        "id": "jOAhLKFfVELu"
      },
      "execution_count": 5,
      "outputs": []
    },
    {
      "cell_type": "code",
      "source": [
        "# Necessary libaries\n",
        "import pandas as pd\n",
        "import os\n",
        "import PyPDF2"
      ],
      "metadata": {
        "id": "Jll6mDv_8jWe"
      },
      "execution_count": 40,
      "outputs": []
    },
    {
      "cell_type": "markdown",
      "source": [
        "# Data by Frederik\n",
        "\n",
        "***Columns description***\n",
        "\n",
        "*   **itemname:** name provided by the merchant. It often, but not always, contains a enough information to ID the product.  Sometimes weight, or other information is also provided here.\n",
        "*   **itemnumber:** the product itemnumber. It can be a standardized GTIN 13 number ( 12-13 digits) supported by GS1 or a non standard number created by the retailer to identify i.e. Bananas\n",
        "*   **category:** a category code not sure how to interpret and often missing\n",
        "*   **percent_purchases:** Percent off all receipt lines in the dataset where each line is a purchas"
      ],
      "metadata": {
        "id": "GNbikMt8QiaM"
      }
    },
    {
      "cell_type": "code",
      "source": [
        "# Import data\n",
        "path_iss_data=\"https://github.com/mrchapagain/ConsumerDataAnalytics/raw/main/cpd_summary.csv\"\n",
        "\n",
        "# Open data as csv file\n",
        "data_iss= pd.read_csv(path_iss_data, sep= \";\", index_col=False, encoding='latin-1')\n",
        "\n",
        "# lets see frist 3 and last 3 rows od the dataset\n",
        "data_iss.head(3).append(data_iss.tail(5))"
      ],
      "metadata": {
        "colab": {
          "base_uri": "https://localhost:8080/",
          "height": 301
        },
        "id": "SG3NKZPF8cGd",
        "outputId": "651e7488-5de0-4b1f-d0da-749bb1100e21"
      },
      "execution_count": 86,
      "outputs": [
        {
          "output_type": "execute_result",
          "data": {
            "text/plain": [
              "                    itemname     itemnumber category percent_purchases\n",
              "0                       PANT        8880171      845             3,369\n",
              "1                       PANT        8880171      NaN             2,055\n",
              "2                       PANT        8880172      845             1,497\n",
              "112761  PINOTEX SUPERDEC SOR    61009053404     6100            -0,002\n",
              "112762       QUICK GEVINSTER         214196      926            -0,002\n",
              "112763   UKRUDTSDUG BASIC 1X    42139019916     4213            -0,002\n",
              "112764           TRAPPEVANGE  5708832546219      600            -0,004\n",
              "112765       BR MÆRKER RETUR  5766183013538       21            -0,005"
            ],
            "text/html": [
              "\n",
              "  <div id=\"df-19072009-4923-43db-8e9e-6f76cd0c688a\">\n",
              "    <div class=\"colab-df-container\">\n",
              "      <div>\n",
              "<style scoped>\n",
              "    .dataframe tbody tr th:only-of-type {\n",
              "        vertical-align: middle;\n",
              "    }\n",
              "\n",
              "    .dataframe tbody tr th {\n",
              "        vertical-align: top;\n",
              "    }\n",
              "\n",
              "    .dataframe thead th {\n",
              "        text-align: right;\n",
              "    }\n",
              "</style>\n",
              "<table border=\"1\" class=\"dataframe\">\n",
              "  <thead>\n",
              "    <tr style=\"text-align: right;\">\n",
              "      <th></th>\n",
              "      <th>itemname</th>\n",
              "      <th>itemnumber</th>\n",
              "      <th>category</th>\n",
              "      <th>percent_purchases</th>\n",
              "    </tr>\n",
              "  </thead>\n",
              "  <tbody>\n",
              "    <tr>\n",
              "      <th>0</th>\n",
              "      <td>PANT</td>\n",
              "      <td>8880171</td>\n",
              "      <td>845</td>\n",
              "      <td>3,369</td>\n",
              "    </tr>\n",
              "    <tr>\n",
              "      <th>1</th>\n",
              "      <td>PANT</td>\n",
              "      <td>8880171</td>\n",
              "      <td>NaN</td>\n",
              "      <td>2,055</td>\n",
              "    </tr>\n",
              "    <tr>\n",
              "      <th>2</th>\n",
              "      <td>PANT</td>\n",
              "      <td>8880172</td>\n",
              "      <td>845</td>\n",
              "      <td>1,497</td>\n",
              "    </tr>\n",
              "    <tr>\n",
              "      <th>112761</th>\n",
              "      <td>PINOTEX SUPERDEC SOR</td>\n",
              "      <td>61009053404</td>\n",
              "      <td>6100</td>\n",
              "      <td>-0,002</td>\n",
              "    </tr>\n",
              "    <tr>\n",
              "      <th>112762</th>\n",
              "      <td>QUICK GEVINSTER</td>\n",
              "      <td>214196</td>\n",
              "      <td>926</td>\n",
              "      <td>-0,002</td>\n",
              "    </tr>\n",
              "    <tr>\n",
              "      <th>112763</th>\n",
              "      <td>UKRUDTSDUG BASIC 1X</td>\n",
              "      <td>42139019916</td>\n",
              "      <td>4213</td>\n",
              "      <td>-0,002</td>\n",
              "    </tr>\n",
              "    <tr>\n",
              "      <th>112764</th>\n",
              "      <td>TRAPPEVANGE</td>\n",
              "      <td>5708832546219</td>\n",
              "      <td>600</td>\n",
              "      <td>-0,004</td>\n",
              "    </tr>\n",
              "    <tr>\n",
              "      <th>112765</th>\n",
              "      <td>BR MÆRKER RETUR</td>\n",
              "      <td>5766183013538</td>\n",
              "      <td>21</td>\n",
              "      <td>-0,005</td>\n",
              "    </tr>\n",
              "  </tbody>\n",
              "</table>\n",
              "</div>\n",
              "      <button class=\"colab-df-convert\" onclick=\"convertToInteractive('df-19072009-4923-43db-8e9e-6f76cd0c688a')\"\n",
              "              title=\"Convert this dataframe to an interactive table.\"\n",
              "              style=\"display:none;\">\n",
              "        \n",
              "  <svg xmlns=\"http://www.w3.org/2000/svg\" height=\"24px\"viewBox=\"0 0 24 24\"\n",
              "       width=\"24px\">\n",
              "    <path d=\"M0 0h24v24H0V0z\" fill=\"none\"/>\n",
              "    <path d=\"M18.56 5.44l.94 2.06.94-2.06 2.06-.94-2.06-.94-.94-2.06-.94 2.06-2.06.94zm-11 1L8.5 8.5l.94-2.06 2.06-.94-2.06-.94L8.5 2.5l-.94 2.06-2.06.94zm10 10l.94 2.06.94-2.06 2.06-.94-2.06-.94-.94-2.06-.94 2.06-2.06.94z\"/><path d=\"M17.41 7.96l-1.37-1.37c-.4-.4-.92-.59-1.43-.59-.52 0-1.04.2-1.43.59L10.3 9.45l-7.72 7.72c-.78.78-.78 2.05 0 2.83L4 21.41c.39.39.9.59 1.41.59.51 0 1.02-.2 1.41-.59l7.78-7.78 2.81-2.81c.8-.78.8-2.07 0-2.86zM5.41 20L4 18.59l7.72-7.72 1.47 1.35L5.41 20z\"/>\n",
              "  </svg>\n",
              "      </button>\n",
              "      \n",
              "  <style>\n",
              "    .colab-df-container {\n",
              "      display:flex;\n",
              "      flex-wrap:wrap;\n",
              "      gap: 12px;\n",
              "    }\n",
              "\n",
              "    .colab-df-convert {\n",
              "      background-color: #E8F0FE;\n",
              "      border: none;\n",
              "      border-radius: 50%;\n",
              "      cursor: pointer;\n",
              "      display: none;\n",
              "      fill: #1967D2;\n",
              "      height: 32px;\n",
              "      padding: 0 0 0 0;\n",
              "      width: 32px;\n",
              "    }\n",
              "\n",
              "    .colab-df-convert:hover {\n",
              "      background-color: #E2EBFA;\n",
              "      box-shadow: 0px 1px 2px rgba(60, 64, 67, 0.3), 0px 1px 3px 1px rgba(60, 64, 67, 0.15);\n",
              "      fill: #174EA6;\n",
              "    }\n",
              "\n",
              "    [theme=dark] .colab-df-convert {\n",
              "      background-color: #3B4455;\n",
              "      fill: #D2E3FC;\n",
              "    }\n",
              "\n",
              "    [theme=dark] .colab-df-convert:hover {\n",
              "      background-color: #434B5C;\n",
              "      box-shadow: 0px 1px 3px 1px rgba(0, 0, 0, 0.15);\n",
              "      filter: drop-shadow(0px 1px 2px rgba(0, 0, 0, 0.3));\n",
              "      fill: #FFFFFF;\n",
              "    }\n",
              "  </style>\n",
              "\n",
              "      <script>\n",
              "        const buttonEl =\n",
              "          document.querySelector('#df-19072009-4923-43db-8e9e-6f76cd0c688a button.colab-df-convert');\n",
              "        buttonEl.style.display =\n",
              "          google.colab.kernel.accessAllowed ? 'block' : 'none';\n",
              "\n",
              "        async function convertToInteractive(key) {\n",
              "          const element = document.querySelector('#df-19072009-4923-43db-8e9e-6f76cd0c688a');\n",
              "          const dataTable =\n",
              "            await google.colab.kernel.invokeFunction('convertToInteractive',\n",
              "                                                     [key], {});\n",
              "          if (!dataTable) return;\n",
              "\n",
              "          const docLinkHtml = 'Like what you see? Visit the ' +\n",
              "            '<a target=\"_blank\" href=https://colab.research.google.com/notebooks/data_table.ipynb>data table notebook</a>'\n",
              "            + ' to learn more about interactive tables.';\n",
              "          element.innerHTML = '';\n",
              "          dataTable['output_type'] = 'display_data';\n",
              "          await google.colab.output.renderOutput(dataTable, element);\n",
              "          const docLink = document.createElement('div');\n",
              "          docLink.innerHTML = docLinkHtml;\n",
              "          element.appendChild(docLink);\n",
              "        }\n",
              "      </script>\n",
              "    </div>\n",
              "  </div>\n",
              "  "
            ]
          },
          "metadata": {},
          "execution_count": 86
        }
      ]
    },
    {
      "cell_type": "code",
      "source": [
        "# Only print one selective row of interest to deep deeper\n",
        "data_iss[data_iss.itemname == \"ØKO BANANER, LØSE\"] # or \"ØKO BANANER, LØSE\", HAVFRISK LAK, APPELSINER 2 KG,Agurk"
      ],
      "metadata": {
        "id": "bYBb2mlr_esC",
        "outputId": "869277ad-673b-4d2d-eaf1-40c95072a72d",
        "colab": {
          "base_uri": "https://localhost:8080/",
          "height": 520
        }
      },
      "execution_count": 125,
      "outputs": [
        {
          "output_type": "execute_result",
          "data": {
            "text/plain": [
              "                 itemname     itemnumber category percent_purchases\n",
              "11      ØKO BANANER, LØSE  5712873336944       89             0,567\n",
              "9212    ØKO BANANER, LØSE  5712580050171       89             0,002\n",
              "27542   ØKO BANANER, LØSE       20008932       89             0,001\n",
              "27543   ØKO BANANER, LØSE       20014018       89             0,001\n",
              "27544   ØKO BANANER, LØSE       20023393       89             0,001\n",
              "27545   ØKO BANANER, LØSE  5712580000114       89             0,001\n",
              "27546   ØKO BANANER, LØSE  5712580024349       89             0,001\n",
              "27547   ØKO BANANER, LØSE  5712580034065       89             0,001\n",
              "27548   ØKO BANANER, LØSE  5712580251912       89             0,001\n",
              "27549   ØKO BANANER, LØSE  5712580317717       89             0,001\n",
              "27550   ØKO BANANER, LØSE  5712580326696       89             0,001\n",
              "27551   ØKO BANANER, LØSE  5712580549842       89             0,001\n",
              "110757  ØKO BANANER, LØSE       20027643       89                 0\n",
              "110758  ØKO BANANER, LØSE  5712580034669       89                 0\n",
              "110759  ØKO BANANER, LØSE  5712580111056       89                 0"
            ],
            "text/html": [
              "\n",
              "  <div id=\"df-e9331c98-ae7a-443e-9929-3bd25cb742cc\">\n",
              "    <div class=\"colab-df-container\">\n",
              "      <div>\n",
              "<style scoped>\n",
              "    .dataframe tbody tr th:only-of-type {\n",
              "        vertical-align: middle;\n",
              "    }\n",
              "\n",
              "    .dataframe tbody tr th {\n",
              "        vertical-align: top;\n",
              "    }\n",
              "\n",
              "    .dataframe thead th {\n",
              "        text-align: right;\n",
              "    }\n",
              "</style>\n",
              "<table border=\"1\" class=\"dataframe\">\n",
              "  <thead>\n",
              "    <tr style=\"text-align: right;\">\n",
              "      <th></th>\n",
              "      <th>itemname</th>\n",
              "      <th>itemnumber</th>\n",
              "      <th>category</th>\n",
              "      <th>percent_purchases</th>\n",
              "    </tr>\n",
              "  </thead>\n",
              "  <tbody>\n",
              "    <tr>\n",
              "      <th>11</th>\n",
              "      <td>ØKO BANANER, LØSE</td>\n",
              "      <td>5712873336944</td>\n",
              "      <td>89</td>\n",
              "      <td>0,567</td>\n",
              "    </tr>\n",
              "    <tr>\n",
              "      <th>9212</th>\n",
              "      <td>ØKO BANANER, LØSE</td>\n",
              "      <td>5712580050171</td>\n",
              "      <td>89</td>\n",
              "      <td>0,002</td>\n",
              "    </tr>\n",
              "    <tr>\n",
              "      <th>27542</th>\n",
              "      <td>ØKO BANANER, LØSE</td>\n",
              "      <td>20008932</td>\n",
              "      <td>89</td>\n",
              "      <td>0,001</td>\n",
              "    </tr>\n",
              "    <tr>\n",
              "      <th>27543</th>\n",
              "      <td>ØKO BANANER, LØSE</td>\n",
              "      <td>20014018</td>\n",
              "      <td>89</td>\n",
              "      <td>0,001</td>\n",
              "    </tr>\n",
              "    <tr>\n",
              "      <th>27544</th>\n",
              "      <td>ØKO BANANER, LØSE</td>\n",
              "      <td>20023393</td>\n",
              "      <td>89</td>\n",
              "      <td>0,001</td>\n",
              "    </tr>\n",
              "    <tr>\n",
              "      <th>27545</th>\n",
              "      <td>ØKO BANANER, LØSE</td>\n",
              "      <td>5712580000114</td>\n",
              "      <td>89</td>\n",
              "      <td>0,001</td>\n",
              "    </tr>\n",
              "    <tr>\n",
              "      <th>27546</th>\n",
              "      <td>ØKO BANANER, LØSE</td>\n",
              "      <td>5712580024349</td>\n",
              "      <td>89</td>\n",
              "      <td>0,001</td>\n",
              "    </tr>\n",
              "    <tr>\n",
              "      <th>27547</th>\n",
              "      <td>ØKO BANANER, LØSE</td>\n",
              "      <td>5712580034065</td>\n",
              "      <td>89</td>\n",
              "      <td>0,001</td>\n",
              "    </tr>\n",
              "    <tr>\n",
              "      <th>27548</th>\n",
              "      <td>ØKO BANANER, LØSE</td>\n",
              "      <td>5712580251912</td>\n",
              "      <td>89</td>\n",
              "      <td>0,001</td>\n",
              "    </tr>\n",
              "    <tr>\n",
              "      <th>27549</th>\n",
              "      <td>ØKO BANANER, LØSE</td>\n",
              "      <td>5712580317717</td>\n",
              "      <td>89</td>\n",
              "      <td>0,001</td>\n",
              "    </tr>\n",
              "    <tr>\n",
              "      <th>27550</th>\n",
              "      <td>ØKO BANANER, LØSE</td>\n",
              "      <td>5712580326696</td>\n",
              "      <td>89</td>\n",
              "      <td>0,001</td>\n",
              "    </tr>\n",
              "    <tr>\n",
              "      <th>27551</th>\n",
              "      <td>ØKO BANANER, LØSE</td>\n",
              "      <td>5712580549842</td>\n",
              "      <td>89</td>\n",
              "      <td>0,001</td>\n",
              "    </tr>\n",
              "    <tr>\n",
              "      <th>110757</th>\n",
              "      <td>ØKO BANANER, LØSE</td>\n",
              "      <td>20027643</td>\n",
              "      <td>89</td>\n",
              "      <td>0</td>\n",
              "    </tr>\n",
              "    <tr>\n",
              "      <th>110758</th>\n",
              "      <td>ØKO BANANER, LØSE</td>\n",
              "      <td>5712580034669</td>\n",
              "      <td>89</td>\n",
              "      <td>0</td>\n",
              "    </tr>\n",
              "    <tr>\n",
              "      <th>110759</th>\n",
              "      <td>ØKO BANANER, LØSE</td>\n",
              "      <td>5712580111056</td>\n",
              "      <td>89</td>\n",
              "      <td>0</td>\n",
              "    </tr>\n",
              "  </tbody>\n",
              "</table>\n",
              "</div>\n",
              "      <button class=\"colab-df-convert\" onclick=\"convertToInteractive('df-e9331c98-ae7a-443e-9929-3bd25cb742cc')\"\n",
              "              title=\"Convert this dataframe to an interactive table.\"\n",
              "              style=\"display:none;\">\n",
              "        \n",
              "  <svg xmlns=\"http://www.w3.org/2000/svg\" height=\"24px\"viewBox=\"0 0 24 24\"\n",
              "       width=\"24px\">\n",
              "    <path d=\"M0 0h24v24H0V0z\" fill=\"none\"/>\n",
              "    <path d=\"M18.56 5.44l.94 2.06.94-2.06 2.06-.94-2.06-.94-.94-2.06-.94 2.06-2.06.94zm-11 1L8.5 8.5l.94-2.06 2.06-.94-2.06-.94L8.5 2.5l-.94 2.06-2.06.94zm10 10l.94 2.06.94-2.06 2.06-.94-2.06-.94-.94-2.06-.94 2.06-2.06.94z\"/><path d=\"M17.41 7.96l-1.37-1.37c-.4-.4-.92-.59-1.43-.59-.52 0-1.04.2-1.43.59L10.3 9.45l-7.72 7.72c-.78.78-.78 2.05 0 2.83L4 21.41c.39.39.9.59 1.41.59.51 0 1.02-.2 1.41-.59l7.78-7.78 2.81-2.81c.8-.78.8-2.07 0-2.86zM5.41 20L4 18.59l7.72-7.72 1.47 1.35L5.41 20z\"/>\n",
              "  </svg>\n",
              "      </button>\n",
              "      \n",
              "  <style>\n",
              "    .colab-df-container {\n",
              "      display:flex;\n",
              "      flex-wrap:wrap;\n",
              "      gap: 12px;\n",
              "    }\n",
              "\n",
              "    .colab-df-convert {\n",
              "      background-color: #E8F0FE;\n",
              "      border: none;\n",
              "      border-radius: 50%;\n",
              "      cursor: pointer;\n",
              "      display: none;\n",
              "      fill: #1967D2;\n",
              "      height: 32px;\n",
              "      padding: 0 0 0 0;\n",
              "      width: 32px;\n",
              "    }\n",
              "\n",
              "    .colab-df-convert:hover {\n",
              "      background-color: #E2EBFA;\n",
              "      box-shadow: 0px 1px 2px rgba(60, 64, 67, 0.3), 0px 1px 3px 1px rgba(60, 64, 67, 0.15);\n",
              "      fill: #174EA6;\n",
              "    }\n",
              "\n",
              "    [theme=dark] .colab-df-convert {\n",
              "      background-color: #3B4455;\n",
              "      fill: #D2E3FC;\n",
              "    }\n",
              "\n",
              "    [theme=dark] .colab-df-convert:hover {\n",
              "      background-color: #434B5C;\n",
              "      box-shadow: 0px 1px 3px 1px rgba(0, 0, 0, 0.15);\n",
              "      filter: drop-shadow(0px 1px 2px rgba(0, 0, 0, 0.3));\n",
              "      fill: #FFFFFF;\n",
              "    }\n",
              "  </style>\n",
              "\n",
              "      <script>\n",
              "        const buttonEl =\n",
              "          document.querySelector('#df-e9331c98-ae7a-443e-9929-3bd25cb742cc button.colab-df-convert');\n",
              "        buttonEl.style.display =\n",
              "          google.colab.kernel.accessAllowed ? 'block' : 'none';\n",
              "\n",
              "        async function convertToInteractive(key) {\n",
              "          const element = document.querySelector('#df-e9331c98-ae7a-443e-9929-3bd25cb742cc');\n",
              "          const dataTable =\n",
              "            await google.colab.kernel.invokeFunction('convertToInteractive',\n",
              "                                                     [key], {});\n",
              "          if (!dataTable) return;\n",
              "\n",
              "          const docLinkHtml = 'Like what you see? Visit the ' +\n",
              "            '<a target=\"_blank\" href=https://colab.research.google.com/notebooks/data_table.ipynb>data table notebook</a>'\n",
              "            + ' to learn more about interactive tables.';\n",
              "          element.innerHTML = '';\n",
              "          dataTable['output_type'] = 'display_data';\n",
              "          await google.colab.output.renderOutput(dataTable, element);\n",
              "          const docLink = document.createElement('div');\n",
              "          docLink.innerHTML = docLinkHtml;\n",
              "          element.appendChild(docLink);\n",
              "        }\n",
              "      </script>\n",
              "    </div>\n",
              "  </div>\n",
              "  "
            ]
          },
          "metadata": {},
          "execution_count": 125
        }
      ]
    },
    {
      "cell_type": "markdown",
      "source": [
        "***In above ddataset, only one food itemname (fx `\"ØKO BANANER, LØSE\"`) is appear in different rows with;***\n",
        "*   Many different itemnumber, even some are 13 digits and other are 8 digits\n",
        "*   NULL percent purchage"
      ],
      "metadata": {
        "id": "tQfUbWhMCK0R"
      }
    },
    {
      "cell_type": "code",
      "source": [
        "data_iss.itemnumber.unique()"
      ],
      "metadata": {
        "id": "n3PPjsh1I6c3",
        "outputId": "6e4598bc-5080-4438-d6b0-89b300401e95",
        "colab": {
          "base_uri": "https://localhost:8080/"
        }
      },
      "execution_count": 58,
      "outputs": [
        {
          "output_type": "execute_result",
          "data": {
            "text/plain": [
              "array(['8880171', '8880172', '4', ..., '4006676002924', '61009053404',\n",
              "       '5708832546219'], dtype=object)"
            ]
          },
          "metadata": {},
          "execution_count": 58
        }
      ]
    },
    {
      "cell_type": "markdown",
      "source": [
        "# FRIDA Food Composition Database\n",
        "***FRIDA Food Composition Database  contain mainly Nutrition value of the each food items***\n",
        "\n",
        "*   ***Category list:*** https://frida.fooddata.dk/food/lists/grouped?lang=en\n",
        "*   ***Data display inspiration:*** https://foodb.ca/foods/FOOD00011\n",
        "*   ***Display on FRIDA:*** https://frida.fooddata.dk/food/754?lang=en"
      ],
      "metadata": {
        "id": "SkyZhlg2Quda"
      }
    },
    {
      "cell_type": "code",
      "source": [
        "# Import FRIDA Nutrient data\n",
        "path_frida_data=\"https://github.com/mrchapagain/ConsumerDataAnalytics/raw/main/FridaNutrientData.xlsx\"\n",
        "\n",
        "# Lets open data as they are but only 26 columns out of 201 columns\n",
        "data_frida= pd.read_excel(path_frida_data, sheet_name=1, index_col=0, header=0, skiprows=0).round(decimals = 2).iloc[:, :25]\n",
        "data_frida.head(3)"
      ],
      "metadata": {
        "colab": {
          "base_uri": "https://localhost:8080/",
          "height": 173
        },
        "id": "9Upaz_BKJoKt",
        "outputId": "79db462c-3989-4dce-e7b8-7ae4ceebda80"
      },
      "execution_count": 44,
      "outputs": [
        {
          "output_type": "execute_result",
          "data": {
            "text/plain": [
              "        Unnamed: 1         Unnamed: 2 Svind Energi, kJ Energi, kcal  \\\n",
              "Nummer      gruppe               Navn     %         kJ         kcal   \n",
              "1         Bærfrugt        Jordbær, rå     4        162           38   \n",
              "2       Kernefrugt  Æble, uspec., råt    10        233           55   \n",
              "\n",
              "       Nitrogen-til-protein faktor Nitrogen, total Protein, videnskabelig  \\\n",
              "Nummer                           -               g                      g   \n",
              "1                             6.25           0.106                    0.7   \n",
              "2                             6.25           0.043                    0.3   \n",
              "\n",
              "       Protein, deklaration Kulhydrat, difference   ...  FCF Alkohol Aske  \\\n",
              "Nummer                    g                      g  ...    -       g    g   \n",
              "1                       0.7                    8.3  ...  0.8       0  0.4   \n",
              "2                       0.3                   14.3  ...  0.8       0  0.3   \n",
              "\n",
              "       Tørstof  Vand A-vitamin Retinol beta-caroten D-vitamin D3-vitamin  \n",
              "Nummer       g     g        RE      µg           µg        µg         µg  \n",
              "1           10    90      3.33       0           40         0          0  \n",
              "2         15.1  84.9      2.08       0           25         0          0  \n",
              "\n",
              "[3 rows x 25 columns]"
            ],
            "text/html": [
              "\n",
              "  <div id=\"df-c7a98055-c5d6-4594-ae23-71dd75f6fea3\">\n",
              "    <div class=\"colab-df-container\">\n",
              "      <div>\n",
              "<style scoped>\n",
              "    .dataframe tbody tr th:only-of-type {\n",
              "        vertical-align: middle;\n",
              "    }\n",
              "\n",
              "    .dataframe tbody tr th {\n",
              "        vertical-align: top;\n",
              "    }\n",
              "\n",
              "    .dataframe thead th {\n",
              "        text-align: right;\n",
              "    }\n",
              "</style>\n",
              "<table border=\"1\" class=\"dataframe\">\n",
              "  <thead>\n",
              "    <tr style=\"text-align: right;\">\n",
              "      <th></th>\n",
              "      <th>Unnamed: 1</th>\n",
              "      <th>Unnamed: 2</th>\n",
              "      <th>Svind</th>\n",
              "      <th>Energi, kJ</th>\n",
              "      <th>Energi, kcal</th>\n",
              "      <th>Nitrogen-til-protein faktor</th>\n",
              "      <th>Nitrogen, total</th>\n",
              "      <th>Protein, videnskabelig</th>\n",
              "      <th>Protein, deklaration</th>\n",
              "      <th>Kulhydrat, difference</th>\n",
              "      <th>...</th>\n",
              "      <th>FCF</th>\n",
              "      <th>Alkohol</th>\n",
              "      <th>Aske</th>\n",
              "      <th>Tørstof</th>\n",
              "      <th>Vand</th>\n",
              "      <th>A-vitamin</th>\n",
              "      <th>Retinol</th>\n",
              "      <th>beta-caroten</th>\n",
              "      <th>D-vitamin</th>\n",
              "      <th>D3-vitamin</th>\n",
              "    </tr>\n",
              "  </thead>\n",
              "  <tbody>\n",
              "    <tr>\n",
              "      <th>Nummer</th>\n",
              "      <td>gruppe</td>\n",
              "      <td>Navn</td>\n",
              "      <td>%</td>\n",
              "      <td>kJ</td>\n",
              "      <td>kcal</td>\n",
              "      <td>-</td>\n",
              "      <td>g</td>\n",
              "      <td>g</td>\n",
              "      <td>g</td>\n",
              "      <td>g</td>\n",
              "      <td>...</td>\n",
              "      <td>-</td>\n",
              "      <td>g</td>\n",
              "      <td>g</td>\n",
              "      <td>g</td>\n",
              "      <td>g</td>\n",
              "      <td>RE</td>\n",
              "      <td>µg</td>\n",
              "      <td>µg</td>\n",
              "      <td>µg</td>\n",
              "      <td>µg</td>\n",
              "    </tr>\n",
              "    <tr>\n",
              "      <th>1</th>\n",
              "      <td>Bærfrugt</td>\n",
              "      <td>Jordbær, rå</td>\n",
              "      <td>4</td>\n",
              "      <td>162</td>\n",
              "      <td>38</td>\n",
              "      <td>6.25</td>\n",
              "      <td>0.106</td>\n",
              "      <td>0.7</td>\n",
              "      <td>0.7</td>\n",
              "      <td>8.3</td>\n",
              "      <td>...</td>\n",
              "      <td>0.8</td>\n",
              "      <td>0</td>\n",
              "      <td>0.4</td>\n",
              "      <td>10</td>\n",
              "      <td>90</td>\n",
              "      <td>3.33</td>\n",
              "      <td>0</td>\n",
              "      <td>40</td>\n",
              "      <td>0</td>\n",
              "      <td>0</td>\n",
              "    </tr>\n",
              "    <tr>\n",
              "      <th>2</th>\n",
              "      <td>Kernefrugt</td>\n",
              "      <td>Æble, uspec., råt</td>\n",
              "      <td>10</td>\n",
              "      <td>233</td>\n",
              "      <td>55</td>\n",
              "      <td>6.25</td>\n",
              "      <td>0.043</td>\n",
              "      <td>0.3</td>\n",
              "      <td>0.3</td>\n",
              "      <td>14.3</td>\n",
              "      <td>...</td>\n",
              "      <td>0.8</td>\n",
              "      <td>0</td>\n",
              "      <td>0.3</td>\n",
              "      <td>15.1</td>\n",
              "      <td>84.9</td>\n",
              "      <td>2.08</td>\n",
              "      <td>0</td>\n",
              "      <td>25</td>\n",
              "      <td>0</td>\n",
              "      <td>0</td>\n",
              "    </tr>\n",
              "  </tbody>\n",
              "</table>\n",
              "<p>3 rows × 25 columns</p>\n",
              "</div>\n",
              "      <button class=\"colab-df-convert\" onclick=\"convertToInteractive('df-c7a98055-c5d6-4594-ae23-71dd75f6fea3')\"\n",
              "              title=\"Convert this dataframe to an interactive table.\"\n",
              "              style=\"display:none;\">\n",
              "        \n",
              "  <svg xmlns=\"http://www.w3.org/2000/svg\" height=\"24px\"viewBox=\"0 0 24 24\"\n",
              "       width=\"24px\">\n",
              "    <path d=\"M0 0h24v24H0V0z\" fill=\"none\"/>\n",
              "    <path d=\"M18.56 5.44l.94 2.06.94-2.06 2.06-.94-2.06-.94-.94-2.06-.94 2.06-2.06.94zm-11 1L8.5 8.5l.94-2.06 2.06-.94-2.06-.94L8.5 2.5l-.94 2.06-2.06.94zm10 10l.94 2.06.94-2.06 2.06-.94-2.06-.94-.94-2.06-.94 2.06-2.06.94z\"/><path d=\"M17.41 7.96l-1.37-1.37c-.4-.4-.92-.59-1.43-.59-.52 0-1.04.2-1.43.59L10.3 9.45l-7.72 7.72c-.78.78-.78 2.05 0 2.83L4 21.41c.39.39.9.59 1.41.59.51 0 1.02-.2 1.41-.59l7.78-7.78 2.81-2.81c.8-.78.8-2.07 0-2.86zM5.41 20L4 18.59l7.72-7.72 1.47 1.35L5.41 20z\"/>\n",
              "  </svg>\n",
              "      </button>\n",
              "      \n",
              "  <style>\n",
              "    .colab-df-container {\n",
              "      display:flex;\n",
              "      flex-wrap:wrap;\n",
              "      gap: 12px;\n",
              "    }\n",
              "\n",
              "    .colab-df-convert {\n",
              "      background-color: #E8F0FE;\n",
              "      border: none;\n",
              "      border-radius: 50%;\n",
              "      cursor: pointer;\n",
              "      display: none;\n",
              "      fill: #1967D2;\n",
              "      height: 32px;\n",
              "      padding: 0 0 0 0;\n",
              "      width: 32px;\n",
              "    }\n",
              "\n",
              "    .colab-df-convert:hover {\n",
              "      background-color: #E2EBFA;\n",
              "      box-shadow: 0px 1px 2px rgba(60, 64, 67, 0.3), 0px 1px 3px 1px rgba(60, 64, 67, 0.15);\n",
              "      fill: #174EA6;\n",
              "    }\n",
              "\n",
              "    [theme=dark] .colab-df-convert {\n",
              "      background-color: #3B4455;\n",
              "      fill: #D2E3FC;\n",
              "    }\n",
              "\n",
              "    [theme=dark] .colab-df-convert:hover {\n",
              "      background-color: #434B5C;\n",
              "      box-shadow: 0px 1px 3px 1px rgba(0, 0, 0, 0.15);\n",
              "      filter: drop-shadow(0px 1px 2px rgba(0, 0, 0, 0.3));\n",
              "      fill: #FFFFFF;\n",
              "    }\n",
              "  </style>\n",
              "\n",
              "      <script>\n",
              "        const buttonEl =\n",
              "          document.querySelector('#df-c7a98055-c5d6-4594-ae23-71dd75f6fea3 button.colab-df-convert');\n",
              "        buttonEl.style.display =\n",
              "          google.colab.kernel.accessAllowed ? 'block' : 'none';\n",
              "\n",
              "        async function convertToInteractive(key) {\n",
              "          const element = document.querySelector('#df-c7a98055-c5d6-4594-ae23-71dd75f6fea3');\n",
              "          const dataTable =\n",
              "            await google.colab.kernel.invokeFunction('convertToInteractive',\n",
              "                                                     [key], {});\n",
              "          if (!dataTable) return;\n",
              "\n",
              "          const docLinkHtml = 'Like what you see? Visit the ' +\n",
              "            '<a target=\"_blank\" href=https://colab.research.google.com/notebooks/data_table.ipynb>data table notebook</a>'\n",
              "            + ' to learn more about interactive tables.';\n",
              "          element.innerHTML = '';\n",
              "          dataTable['output_type'] = 'display_data';\n",
              "          await google.colab.output.renderOutput(dataTable, element);\n",
              "          const docLink = document.createElement('div');\n",
              "          docLink.innerHTML = docLinkHtml;\n",
              "          element.appendChild(docLink);\n",
              "        }\n",
              "      </script>\n",
              "    </div>\n",
              "  </div>\n",
              "  "
            ]
          },
          "metadata": {},
          "execution_count": 44
        }
      ]
    },
    {
      "cell_type": "code",
      "source": [
        "# Lets define columns name that are readeable\n",
        "column_names= ['Gruppe', 'Navn', 'Svind_%', 'Energy_kj', 'Energy_kcal', 'Nitrogen_til_protein_faktor', 'Nitrogen_total_g', 'Protein_videnskabelign_g', 'Protein_deklaration_g', 'Kulhydrat_difference_g', 'Kulhydrat_tilgængelig_g', 'Kulhydrat_deklaration_g', 'Tilsat_sukker_g', 'Kostfibre_g', 'Fedt_total_g', 'FCF', 'Alkohol_g', 'Aske_g', 'Tørstof_g', 'Vand_g', 'A_vitamin_RE', 'Retinol_µg', 'beta_caroten_µg', 'D_vitamin_µg', 'D3_vitamin_µg']\n",
        "\n",
        "# Lets open with little modificaton so easy to read and understand\n",
        "data_frida= pd.read_excel(path_frida_data, sheet_name=1, index_col=0, header=None, skiprows=2).round(decimals = 2).iloc[:, :25].reset_index(drop=True)\n",
        "# Assign columns name that defined just above\n",
        "data_frida.columns= column_names\n",
        "\n",
        "# lets see frist 3 and last 3 rows od the dataset\n",
        "data_frida.head(3).append(data_frida.tail(3))\n",
        "#data_frida[data_frida.Gruppe == '\"Frugt\"-grøntsager']\n",
        "data_frida[data_frida.Navn == \"Banan, rå\"]\n"
      ],
      "metadata": {
        "colab": {
          "base_uri": "https://localhost:8080/",
          "height": 110
        },
        "id": "LRfCNCdyd3Gy",
        "outputId": "1fe6bd58-9415-46a4-d75f-69557826d2f8"
      },
      "execution_count": 134,
      "outputs": [
        {
          "output_type": "execute_result",
          "data": {
            "text/plain": [
              "     Gruppe       Navn Svind_% Energy_kj Energy_kcal  \\\n",
              "2  Sydfrugt  Banan, rå      41       396          93   \n",
              "\n",
              "  Nitrogen_til_protein_faktor Nitrogen_total_g Protein_videnskabelign_g  \\\n",
              "2                        6.25            0.183                      1.1   \n",
              "\n",
              "  Protein_deklaration_g Kulhydrat_difference_g  ...   FCF Alkohol_g Aske_g  \\\n",
              "2                   1.1                   22.6  ...  0.73         0    0.7   \n",
              "\n",
              "  Tørstof_g Vand_g A_vitamin_RE Retinol_µg beta_caroten_µg D_vitamin_µg  \\\n",
              "2      24.6   75.3         4.42          0              53            0   \n",
              "\n",
              "  D3_vitamin_µg  \n",
              "2             0  \n",
              "\n",
              "[1 rows x 25 columns]"
            ],
            "text/html": [
              "\n",
              "  <div id=\"df-1f1ac281-d2bd-4721-9f68-d9cc79415e12\">\n",
              "    <div class=\"colab-df-container\">\n",
              "      <div>\n",
              "<style scoped>\n",
              "    .dataframe tbody tr th:only-of-type {\n",
              "        vertical-align: middle;\n",
              "    }\n",
              "\n",
              "    .dataframe tbody tr th {\n",
              "        vertical-align: top;\n",
              "    }\n",
              "\n",
              "    .dataframe thead th {\n",
              "        text-align: right;\n",
              "    }\n",
              "</style>\n",
              "<table border=\"1\" class=\"dataframe\">\n",
              "  <thead>\n",
              "    <tr style=\"text-align: right;\">\n",
              "      <th></th>\n",
              "      <th>Gruppe</th>\n",
              "      <th>Navn</th>\n",
              "      <th>Svind_%</th>\n",
              "      <th>Energy_kj</th>\n",
              "      <th>Energy_kcal</th>\n",
              "      <th>Nitrogen_til_protein_faktor</th>\n",
              "      <th>Nitrogen_total_g</th>\n",
              "      <th>Protein_videnskabelign_g</th>\n",
              "      <th>Protein_deklaration_g</th>\n",
              "      <th>Kulhydrat_difference_g</th>\n",
              "      <th>...</th>\n",
              "      <th>FCF</th>\n",
              "      <th>Alkohol_g</th>\n",
              "      <th>Aske_g</th>\n",
              "      <th>Tørstof_g</th>\n",
              "      <th>Vand_g</th>\n",
              "      <th>A_vitamin_RE</th>\n",
              "      <th>Retinol_µg</th>\n",
              "      <th>beta_caroten_µg</th>\n",
              "      <th>D_vitamin_µg</th>\n",
              "      <th>D3_vitamin_µg</th>\n",
              "    </tr>\n",
              "  </thead>\n",
              "  <tbody>\n",
              "    <tr>\n",
              "      <th>2</th>\n",
              "      <td>Sydfrugt</td>\n",
              "      <td>Banan, rå</td>\n",
              "      <td>41</td>\n",
              "      <td>396</td>\n",
              "      <td>93</td>\n",
              "      <td>6.25</td>\n",
              "      <td>0.183</td>\n",
              "      <td>1.1</td>\n",
              "      <td>1.1</td>\n",
              "      <td>22.6</td>\n",
              "      <td>...</td>\n",
              "      <td>0.73</td>\n",
              "      <td>0</td>\n",
              "      <td>0.7</td>\n",
              "      <td>24.6</td>\n",
              "      <td>75.3</td>\n",
              "      <td>4.42</td>\n",
              "      <td>0</td>\n",
              "      <td>53</td>\n",
              "      <td>0</td>\n",
              "      <td>0</td>\n",
              "    </tr>\n",
              "  </tbody>\n",
              "</table>\n",
              "<p>1 rows × 25 columns</p>\n",
              "</div>\n",
              "      <button class=\"colab-df-convert\" onclick=\"convertToInteractive('df-1f1ac281-d2bd-4721-9f68-d9cc79415e12')\"\n",
              "              title=\"Convert this dataframe to an interactive table.\"\n",
              "              style=\"display:none;\">\n",
              "        \n",
              "  <svg xmlns=\"http://www.w3.org/2000/svg\" height=\"24px\"viewBox=\"0 0 24 24\"\n",
              "       width=\"24px\">\n",
              "    <path d=\"M0 0h24v24H0V0z\" fill=\"none\"/>\n",
              "    <path d=\"M18.56 5.44l.94 2.06.94-2.06 2.06-.94-2.06-.94-.94-2.06-.94 2.06-2.06.94zm-11 1L8.5 8.5l.94-2.06 2.06-.94-2.06-.94L8.5 2.5l-.94 2.06-2.06.94zm10 10l.94 2.06.94-2.06 2.06-.94-2.06-.94-.94-2.06-.94 2.06-2.06.94z\"/><path d=\"M17.41 7.96l-1.37-1.37c-.4-.4-.92-.59-1.43-.59-.52 0-1.04.2-1.43.59L10.3 9.45l-7.72 7.72c-.78.78-.78 2.05 0 2.83L4 21.41c.39.39.9.59 1.41.59.51 0 1.02-.2 1.41-.59l7.78-7.78 2.81-2.81c.8-.78.8-2.07 0-2.86zM5.41 20L4 18.59l7.72-7.72 1.47 1.35L5.41 20z\"/>\n",
              "  </svg>\n",
              "      </button>\n",
              "      \n",
              "  <style>\n",
              "    .colab-df-container {\n",
              "      display:flex;\n",
              "      flex-wrap:wrap;\n",
              "      gap: 12px;\n",
              "    }\n",
              "\n",
              "    .colab-df-convert {\n",
              "      background-color: #E8F0FE;\n",
              "      border: none;\n",
              "      border-radius: 50%;\n",
              "      cursor: pointer;\n",
              "      display: none;\n",
              "      fill: #1967D2;\n",
              "      height: 32px;\n",
              "      padding: 0 0 0 0;\n",
              "      width: 32px;\n",
              "    }\n",
              "\n",
              "    .colab-df-convert:hover {\n",
              "      background-color: #E2EBFA;\n",
              "      box-shadow: 0px 1px 2px rgba(60, 64, 67, 0.3), 0px 1px 3px 1px rgba(60, 64, 67, 0.15);\n",
              "      fill: #174EA6;\n",
              "    }\n",
              "\n",
              "    [theme=dark] .colab-df-convert {\n",
              "      background-color: #3B4455;\n",
              "      fill: #D2E3FC;\n",
              "    }\n",
              "\n",
              "    [theme=dark] .colab-df-convert:hover {\n",
              "      background-color: #434B5C;\n",
              "      box-shadow: 0px 1px 3px 1px rgba(0, 0, 0, 0.15);\n",
              "      filter: drop-shadow(0px 1px 2px rgba(0, 0, 0, 0.3));\n",
              "      fill: #FFFFFF;\n",
              "    }\n",
              "  </style>\n",
              "\n",
              "      <script>\n",
              "        const buttonEl =\n",
              "          document.querySelector('#df-1f1ac281-d2bd-4721-9f68-d9cc79415e12 button.colab-df-convert');\n",
              "        buttonEl.style.display =\n",
              "          google.colab.kernel.accessAllowed ? 'block' : 'none';\n",
              "\n",
              "        async function convertToInteractive(key) {\n",
              "          const element = document.querySelector('#df-1f1ac281-d2bd-4721-9f68-d9cc79415e12');\n",
              "          const dataTable =\n",
              "            await google.colab.kernel.invokeFunction('convertToInteractive',\n",
              "                                                     [key], {});\n",
              "          if (!dataTable) return;\n",
              "\n",
              "          const docLinkHtml = 'Like what you see? Visit the ' +\n",
              "            '<a target=\"_blank\" href=https://colab.research.google.com/notebooks/data_table.ipynb>data table notebook</a>'\n",
              "            + ' to learn more about interactive tables.';\n",
              "          element.innerHTML = '';\n",
              "          dataTable['output_type'] = 'display_data';\n",
              "          await google.colab.output.renderOutput(dataTable, element);\n",
              "          const docLink = document.createElement('div');\n",
              "          docLink.innerHTML = docLinkHtml;\n",
              "          element.appendChild(docLink);\n",
              "        }\n",
              "      </script>\n",
              "    </div>\n",
              "  </div>\n",
              "  "
            ]
          },
          "metadata": {},
          "execution_count": 134
        }
      ]
    },
    {
      "cell_type": "code",
      "source": [
        "row=data_frida[data_frida.Navn== \"Kylling, bryst (filet), kogt, pålæg\"]   # Kylling, bryst (filet), kogt, pålæg,  ØKO BANANER, LØSE\n",
        "print(\"Id: \", row.index[0])\n",
        "print(\"Category: \", row.Gruppe.values[0])\n",
        "print(\"Name: \", row.Navn.values[0])\n",
        "print(\"Total Energy: \", row.Energy_kj.values[0], \"Kj (\", row.Energy_kcal.values[0], \"Kacl)\")\n",
        "print(\"Total Energy: \", row.Energy_kcal.values[0])\n",
        "print(\"Total Energy: \", row.Energy_kj.values[0])"
      ],
      "metadata": {
        "id": "tZWSNdW7GH1A",
        "outputId": "2bcc52e9-6d17-426d-e99e-d8683d4d1d15",
        "colab": {
          "base_uri": "https://localhost:8080/"
        }
      },
      "execution_count": 92,
      "outputs": [
        {
          "output_type": "stream",
          "name": "stdout",
          "text": [
            "Id:  561\n",
            "Category:  Kylling og høne\n",
            "Name:  Kylling, bryst (filet), kogt, pålæg\n",
            "Total Energy:  475 Kj ( 113 Kacl)\n",
            "Total Energy:  113\n",
            "Total Energy:  475\n"
          ]
        }
      ]
    },
    {
      "cell_type": "code",
      "source": [
        "# To see NAN value and data types of each columns\n",
        "#data_frida.info()"
      ],
      "metadata": {
        "id": "-jEo-rf3TG8x"
      },
      "execution_count": 85,
      "outputs": []
    },
    {
      "cell_type": "markdown",
      "source": [
        "***Above dataset do not contain NAN value and all of the columns are object type, so some of the columns need to be changed to interger or float data type to work as numbers value***"
      ],
      "metadata": {
        "id": "7XLSXEhGvd2w"
      }
    },
    {
      "cell_type": "code",
      "source": [
        ""
      ],
      "metadata": {
        "id": "vxTNSVj7etHj"
      },
      "execution_count": 78,
      "outputs": []
    },
    {
      "cell_type": "markdown",
      "source": [
        "# Recipt from my personal Storebox account\n",
        "- This data set i download from my own storebox account. Lets see what kind of information we can extract from storebox account\n",
        "\n",
        "***The Store-box dataset contain one dataset of recieptand another dataset of the actual list of itemspurchaged each time***"
      ],
      "metadata": {
        "id": "ovo_8I1bRkGU"
      }
    },
    {
      "cell_type": "code",
      "source": [
        "#Import data\n",
        "path_storebox_data= \"https://github.com/mrchapagain/ConsumerDataAnalytics/raw/main/storbox_recipts.json\"\n",
        "\n",
        "#Loading dat in dataframe \n",
        "data_storebox= pd.read_json(path_storebox_data)\n",
        "# ['id', 'type', 'receiptId', 'purchaseDate', 'purchaseDateTimeString', 'orderNumber', 'price', 'merchant', 'receiptLines', 'terminalId', 'payments', 'cards', \n",
        "#     'barcode', 'headerTexts', 'footerTexts', 'userIds', 'imageId', 'receiptImage', 'note', 'tags', 'headerText', 'footerText', 'purchaseDateTimeZoneOffset', 'legalReceipt']\n",
        "\n",
        "# Lets open only columns that make sence\n",
        "data_storebox= data_storebox[[\"id\", \"receiptId\", \"purchaseDate\", \"orderNumber\", \"price\", \"merchant\",'barcode']]\n",
        "data_storebox.head(3)"
      ],
      "metadata": {
        "id": "Y2Cd6QEERkxB",
        "colab": {
          "base_uri": "https://localhost:8080/",
          "height": 144
        },
        "outputId": "97b5ec21-da8c-4a4e-b750-d5554ab62d06"
      },
      "execution_count": 100,
      "outputs": [
        {
          "output_type": "execute_result",
          "data": {
            "text/plain": [
              "          id                         receiptId   purchaseDate orderNumber  \\\n",
              "0  236769820  05jrqpia3ofdzsbq773yme4on0ko1f87  1520106179000  5320020898   \n",
              "1  323704901  0dtsbqbwkirnyxfjqwdaogf5bli877yi  1546781345000  8190010157   \n",
              "2  230788984  0of79b19he9g7g5wazomg1tdoc3yh0xk  1518030461000  5080021069   \n",
              "\n",
              "                                               price  \\\n",
              "0  {'amount': 229.29, 'vat': 45.86, 'currency': '...   \n",
              "1  {'amount': 19.15, 'vat': 3.83, 'currency': 'DK...   \n",
              "2  {'amount': 115.22, 'vat': 23.04, 'currency': '...   \n",
              "\n",
              "                                            merchant  \\\n",
              "0  {'merchantId': 'netto', 'storeId': None, 'name...   \n",
              "1  {'merchantId': 'netto', 'storeId': '7345', 'na...   \n",
              "2  {'merchantId': 'netto', 'storeId': None, 'name...   \n",
              "\n",
              "                                             barcode  \n",
              "0  {'type': 'interleaved2of5', 'value': '07344180...  \n",
              "1  {'type': 'interleaved2of5', 'value': '07345190...  \n",
              "2  {'type': 'interleaved2of5', 'value': '07344180...  "
            ],
            "text/html": [
              "\n",
              "  <div id=\"df-00b88779-b848-4550-a6b0-58f66c2643cd\">\n",
              "    <div class=\"colab-df-container\">\n",
              "      <div>\n",
              "<style scoped>\n",
              "    .dataframe tbody tr th:only-of-type {\n",
              "        vertical-align: middle;\n",
              "    }\n",
              "\n",
              "    .dataframe tbody tr th {\n",
              "        vertical-align: top;\n",
              "    }\n",
              "\n",
              "    .dataframe thead th {\n",
              "        text-align: right;\n",
              "    }\n",
              "</style>\n",
              "<table border=\"1\" class=\"dataframe\">\n",
              "  <thead>\n",
              "    <tr style=\"text-align: right;\">\n",
              "      <th></th>\n",
              "      <th>id</th>\n",
              "      <th>receiptId</th>\n",
              "      <th>purchaseDate</th>\n",
              "      <th>orderNumber</th>\n",
              "      <th>price</th>\n",
              "      <th>merchant</th>\n",
              "      <th>barcode</th>\n",
              "    </tr>\n",
              "  </thead>\n",
              "  <tbody>\n",
              "    <tr>\n",
              "      <th>0</th>\n",
              "      <td>236769820</td>\n",
              "      <td>05jrqpia3ofdzsbq773yme4on0ko1f87</td>\n",
              "      <td>1520106179000</td>\n",
              "      <td>5320020898</td>\n",
              "      <td>{'amount': 229.29, 'vat': 45.86, 'currency': '...</td>\n",
              "      <td>{'merchantId': 'netto', 'storeId': None, 'name...</td>\n",
              "      <td>{'type': 'interleaved2of5', 'value': '07344180...</td>\n",
              "    </tr>\n",
              "    <tr>\n",
              "      <th>1</th>\n",
              "      <td>323704901</td>\n",
              "      <td>0dtsbqbwkirnyxfjqwdaogf5bli877yi</td>\n",
              "      <td>1546781345000</td>\n",
              "      <td>8190010157</td>\n",
              "      <td>{'amount': 19.15, 'vat': 3.83, 'currency': 'DK...</td>\n",
              "      <td>{'merchantId': 'netto', 'storeId': '7345', 'na...</td>\n",
              "      <td>{'type': 'interleaved2of5', 'value': '07345190...</td>\n",
              "    </tr>\n",
              "    <tr>\n",
              "      <th>2</th>\n",
              "      <td>230788984</td>\n",
              "      <td>0of79b19he9g7g5wazomg1tdoc3yh0xk</td>\n",
              "      <td>1518030461000</td>\n",
              "      <td>5080021069</td>\n",
              "      <td>{'amount': 115.22, 'vat': 23.04, 'currency': '...</td>\n",
              "      <td>{'merchantId': 'netto', 'storeId': None, 'name...</td>\n",
              "      <td>{'type': 'interleaved2of5', 'value': '07344180...</td>\n",
              "    </tr>\n",
              "  </tbody>\n",
              "</table>\n",
              "</div>\n",
              "      <button class=\"colab-df-convert\" onclick=\"convertToInteractive('df-00b88779-b848-4550-a6b0-58f66c2643cd')\"\n",
              "              title=\"Convert this dataframe to an interactive table.\"\n",
              "              style=\"display:none;\">\n",
              "        \n",
              "  <svg xmlns=\"http://www.w3.org/2000/svg\" height=\"24px\"viewBox=\"0 0 24 24\"\n",
              "       width=\"24px\">\n",
              "    <path d=\"M0 0h24v24H0V0z\" fill=\"none\"/>\n",
              "    <path d=\"M18.56 5.44l.94 2.06.94-2.06 2.06-.94-2.06-.94-.94-2.06-.94 2.06-2.06.94zm-11 1L8.5 8.5l.94-2.06 2.06-.94-2.06-.94L8.5 2.5l-.94 2.06-2.06.94zm10 10l.94 2.06.94-2.06 2.06-.94-2.06-.94-.94-2.06-.94 2.06-2.06.94z\"/><path d=\"M17.41 7.96l-1.37-1.37c-.4-.4-.92-.59-1.43-.59-.52 0-1.04.2-1.43.59L10.3 9.45l-7.72 7.72c-.78.78-.78 2.05 0 2.83L4 21.41c.39.39.9.59 1.41.59.51 0 1.02-.2 1.41-.59l7.78-7.78 2.81-2.81c.8-.78.8-2.07 0-2.86zM5.41 20L4 18.59l7.72-7.72 1.47 1.35L5.41 20z\"/>\n",
              "  </svg>\n",
              "      </button>\n",
              "      \n",
              "  <style>\n",
              "    .colab-df-container {\n",
              "      display:flex;\n",
              "      flex-wrap:wrap;\n",
              "      gap: 12px;\n",
              "    }\n",
              "\n",
              "    .colab-df-convert {\n",
              "      background-color: #E8F0FE;\n",
              "      border: none;\n",
              "      border-radius: 50%;\n",
              "      cursor: pointer;\n",
              "      display: none;\n",
              "      fill: #1967D2;\n",
              "      height: 32px;\n",
              "      padding: 0 0 0 0;\n",
              "      width: 32px;\n",
              "    }\n",
              "\n",
              "    .colab-df-convert:hover {\n",
              "      background-color: #E2EBFA;\n",
              "      box-shadow: 0px 1px 2px rgba(60, 64, 67, 0.3), 0px 1px 3px 1px rgba(60, 64, 67, 0.15);\n",
              "      fill: #174EA6;\n",
              "    }\n",
              "\n",
              "    [theme=dark] .colab-df-convert {\n",
              "      background-color: #3B4455;\n",
              "      fill: #D2E3FC;\n",
              "    }\n",
              "\n",
              "    [theme=dark] .colab-df-convert:hover {\n",
              "      background-color: #434B5C;\n",
              "      box-shadow: 0px 1px 3px 1px rgba(0, 0, 0, 0.15);\n",
              "      filter: drop-shadow(0px 1px 2px rgba(0, 0, 0, 0.3));\n",
              "      fill: #FFFFFF;\n",
              "    }\n",
              "  </style>\n",
              "\n",
              "      <script>\n",
              "        const buttonEl =\n",
              "          document.querySelector('#df-00b88779-b848-4550-a6b0-58f66c2643cd button.colab-df-convert');\n",
              "        buttonEl.style.display =\n",
              "          google.colab.kernel.accessAllowed ? 'block' : 'none';\n",
              "\n",
              "        async function convertToInteractive(key) {\n",
              "          const element = document.querySelector('#df-00b88779-b848-4550-a6b0-58f66c2643cd');\n",
              "          const dataTable =\n",
              "            await google.colab.kernel.invokeFunction('convertToInteractive',\n",
              "                                                     [key], {});\n",
              "          if (!dataTable) return;\n",
              "\n",
              "          const docLinkHtml = 'Like what you see? Visit the ' +\n",
              "            '<a target=\"_blank\" href=https://colab.research.google.com/notebooks/data_table.ipynb>data table notebook</a>'\n",
              "            + ' to learn more about interactive tables.';\n",
              "          element.innerHTML = '';\n",
              "          dataTable['output_type'] = 'display_data';\n",
              "          await google.colab.output.renderOutput(dataTable, element);\n",
              "          const docLink = document.createElement('div');\n",
              "          docLink.innerHTML = docLinkHtml;\n",
              "          element.appendChild(docLink);\n",
              "        }\n",
              "      </script>\n",
              "    </div>\n",
              "  </div>\n",
              "  "
            ]
          },
          "metadata": {},
          "execution_count": 100
        }
      ]
    },
    {
      "cell_type": "markdown",
      "source": [
        "***With the receiptId i can go to indiviisual reciept and extract list of purchage items. However the reciept is in PDF so need little advance RegEx code so i have not done it yet but will update soon.***"
      ],
      "metadata": {
        "id": "lIJ-Sa_-6SKN"
      }
    },
    {
      "cell_type": "markdown",
      "source": [
        "\n",
        "**Now lets  open reciept of  of the very first column (receiptId= \"05jrqpia3ofdzsbq773yme4on0ko1f87\") of above data**"
      ],
      "metadata": {
        "id": "EyHf0fzlVVGp"
      }
    },
    {
      "cell_type": "code",
      "source": [
        "# Lets open reciept of very first columns (receiptId= \"05jrqpia3ofdzsbq773yme4on0ko1f87\") of above dataset (data_storbox)\n",
        "data_storbox_reciept= \"/content/05jrqpia3ofdzsbq773yme4on0ko1f87-14736470631022876123.pdf\" # \"https://github.com/mrchapagain/food_ontology/raw/main/storbox_recipt_pdf.pdf\"\n",
        "\n",
        "# read information from PDF file (open it in read binary mode)\n",
        "pdfFileObj = open(data_storbox_reciept, 'rb')\n",
        "\n",
        "# call and store PdfFileReader\n",
        "# object in pdfReader\n",
        "pdfReader = PyPDF2.PdfFileReader(pdfFileObj)\n",
        "\n",
        "# to access first page if the PDF file have multiple pages, pass 0\n",
        "pageObj = pdfReader.getPage(0)\n",
        "\n",
        "# extract the page object by extractText() function\n",
        "texts = pageObj.extractText()\n",
        "\n",
        "# print the extracted texts\n",
        "print(texts)"
      ],
      "metadata": {
        "id": "67U1XSezT_eI",
        "outputId": "f1060bb7-767f-4762-9ae3-2688d634a27a",
        "colab": {
          "base_uri": "https://localhost:8080/"
        }
      },
      "execution_count": 81,
      "outputs": [
        {
          "output_type": "stream",
          "name": "stdout",
          "text": [
            "UTTERSLEVVEJ 11\n",
            "2400 Kbh. NV\n",
            "SØDMÆLK 8,50\n",
            "SØDMÆLK 8,50\n",
            "OLLINEO SOLSIKKE OL 9,95\n",
            "CRYSLI 4 NØD 32,85\n",
            "DANONINO 14,50\n",
            "BACON I SKV. 2-PAK 17,90\n",
            "SPINAT 12,09\n",
            "5 BANANER,LØSE\n",
            "A 2,00 10,00\n",
            "RABAT 5,00-\n",
            "RØDLØG 8,00\n",
            "UDL. AGURK 5,00\n",
            "HAVFRISK LAK 89,00\n",
            "RABAT 20,00-\n",
            "5 PÆRER, LØSE\n",
            "A 2,00 10,00\n",
            "APPELSINER 2 KG 18,00\n",
            "GRANATÆBLE, LØS 10,00\n",
            "TOTAL 229,29\n",
            "KONTANT 31,50\n",
            "TOTAL 197,79\n",
            "DANKORT 197,79\n",
            "MOMS UDGØR 45,86\n",
            "Du blev betjent af:\n",
            "Kevin\n",
            "9 2 898 03 03 18 20:44\n",
            "Butik 7344 MOMSNR.35954716\n",
            "KIG FORBI WWW.NETTO.DK\n",
            "OG WWW.JOB.NETTO.DK\n",
            "8-22 ALLE UGENS 7 DAGE\n",
            "2018-03-03 20:44\n",
            "Køb DKK 197,79\n",
            "_________\n",
            "Dankort PSN: 00\n",
            "Contactless\n",
            "XXXX XXXX XXXX 4955\n",
            "Term: 80471832-143669\n",
            "NETS A/S\n",
            "4815734\n",
            "KC1 Nets no:0004815734\n",
            "ATC:00292 AED:000000\n",
            "AID: A0000001214711\n",
            "PSAM: 5374978-0000544044\n",
            "ARC:00 STATUS:0000\n"
          ]
        }
      ]
    },
    {
      "cell_type": "markdown",
      "source": [
        "***I have extracted data from PDF file now first need to turn it to dictionary and then DataFrame.***"
      ],
      "metadata": {
        "id": "crvky8OYbuwk"
      }
    },
    {
      "cell_type": "code",
      "source": [
        "lines= texts.rstrip(\"\\n\")\n",
        "lines"
      ],
      "metadata": {
        "id": "nDMTQxqPhLJK",
        "outputId": "df334e28-dee9-4aa8-d569-fe579018f387",
        "colab": {
          "base_uri": "https://localhost:8080/",
          "height": 70
        }
      },
      "execution_count": 82,
      "outputs": [
        {
          "output_type": "execute_result",
          "data": {
            "text/plain": [
              "'UTTERSLEVVEJ 11\\n2400 Kbh. NV\\nSØDMÆLK 8,50\\nSØDMÆLK 8,50\\nOLLINEO SOLSIKKE OL 9,95\\nCRYSLI 4 NØD 32,85\\nDANONINO 14,50\\nBACON I SKV. 2-PAK 17,90\\nSPINAT 12,09\\n5 BANANER,LØSE\\nA 2,00 10,00\\nRABAT 5,00-\\nRØDLØG 8,00\\nUDL. AGURK 5,00\\nHAVFRISK LAK 89,00\\nRABAT 20,00-\\n5 PÆRER, LØSE\\nA 2,00 10,00\\nAPPELSINER 2 KG 18,00\\nGRANATÆBLE, LØS 10,00\\nTOTAL 229,29\\nKONTANT 31,50\\nTOTAL 197,79\\nDANKORT 197,79\\nMOMS UDGØR 45,86\\nDu blev betjent af:\\nKevin\\n9 2 898 03 03 18 20:44\\nButik 7344 MOMSNR.35954716\\nKIG FORBI WWW.NETTO.DK\\nOG WWW.JOB.NETTO.DK\\n8-22 ALLE UGENS 7 DAGE\\n2018-03-03 20:44\\nKøb DKK 197,79\\n_________\\nDankort PSN: 00\\nContactless\\nXXXX XXXX XXXX 4955\\nTerm: 80471832-143669\\nNETS A/S\\n4815734\\nKC1 Nets no:0004815734\\nATC:00292 AED:000000\\nAID: A0000001214711\\nPSAM: 5374978-0000544044\\nARC:00 STATUS:0000'"
            ],
            "application/vnd.google.colaboratory.intrinsic+json": {
              "type": "string"
            }
          },
          "metadata": {},
          "execution_count": 82
        }
      ]
    },
    {
      "cell_type": "markdown",
      "source": [
        "# Climate Data from Concito"
      ],
      "metadata": {
        "id": "s0ZhiLarTyRZ"
      }
    },
    {
      "cell_type": "code",
      "source": [
        "#Import data\n",
        "path_climate_data=\"https://github.com/mrchapagain/ConsumerDataAnalytics/raw/main/ClimateData.xlsx\"\n",
        "\n",
        "# Loading the data into the data-frame\n",
        "col_names= [\"id\", \"Product_dk\", \"Category_dk\", \"Product_en\", \"Category_en\", \"Unit\", \"Agriculture\", \"iLUC\", \"Processing\", \"Packaging\", \"Transport\", \"Retail\", \"Total_CO2_eq/kg\", \"Energy_KJ\", \"Fat_g\", \"Carb_g\", \"Protein_g\", \"Data_Source\", \"Comments\", \"GPC_Level4_en\", \"ID_Food\", \"ID_Pack\", \"ID_Retail\", \"GPC_Category_en\", \"GPC_Category_dk\", \"GPC_Level4_dk\", \"product_type\", \"GPC_level1\", \"Food_group\", \"GPC_level2\", \"Un/Processed\", \"GPC_Level3\", \"Extra_category\"]\n",
        "\n",
        "# Original columns name are replaced with ralavant names (col_names)\n",
        "data_climate= pd.read_excel(path_climate_data, sheet_name=1, index_col=False, header=None, skiprows=1, names= col_names).round(decimals = 2)\n",
        "data_climate.head(3)"
      ],
      "metadata": {
        "id": "lGbi_RinwtrU"
      },
      "execution_count": null,
      "outputs": []
    },
    {
      "cell_type": "markdown",
      "source": [
        "***The reason to open this climate dataset is to see if it is possible link other dataset with column name \"GPC_Level\" which is releted to GS1 Trade Sync code.***"
      ],
      "metadata": {
        "id": "D4cI2aCjx_R5"
      }
    },
    {
      "cell_type": "markdown",
      "source": [
        "**Let´s have a look dataset with only selected columns that might make sense\\**"
      ],
      "metadata": {
        "id": "SUqnDbqvyzHL"
      }
    },
    {
      "cell_type": "code",
      "source": [
        "cols_to_use= [\"Product_en\", \"Category_en\", \"ID_Food\", \"ID_Pack\", \"ID_Retail\", \"GPC_level1\", \"GPC_level2\", \"GPC_Level3\", \"GPC_Level4_dk\", \"Fat_g\", \"Carb_g\", \"Protein_g\", \"Energy_KJ\", \"Agriculture\", \"iLUC\", \"Processing\", \"Packaging\", \"Transport\", \"Retail\", \"Total_CO2_eq/kg\"]\n",
        "\n",
        "data_climate_selected= data_climate.loc[:, cols_to_use].round(decimals = 2)\n",
        "data_climate_selected.head()"
      ],
      "metadata": {
        "id": "83dq2-gHyeoz"
      },
      "execution_count": null,
      "outputs": []
    },
    {
      "cell_type": "markdown",
      "source": [
        "# Data from COOP store (store data)"
      ],
      "metadata": {
        "id": "C-_TxNg0QyiB"
      }
    },
    {
      "cell_type": "code",
      "source": [
        "path_coop_data= \"https://raw.githubusercontent.com/mrchapagain/ConsumerDataAnalytics/main/storedata/storedata_csv.csv\"\n",
        "#data_coop= pd.read_excel(path_coop_data, sheet_name=1, header=0, skiprows=0).round(decimals = 2)\n",
        "\n",
        "data_coop= pd.read_csv(path_coop_data, index_col=0, sep= \";\", on_bad_lines='skip', engine='python')\n",
        "\n",
        "data_coop.head()"
      ],
      "metadata": {
        "id": "pPbpjHGCQ11S",
        "colab": {
          "base_uri": "https://localhost:8080/",
          "height": 220
        },
        "outputId": "10eb5984-783c-4f42-926e-f0b31752ef2e"
      },
      "execution_count": 78,
      "outputs": [
        {
          "output_type": "execute_result",
          "data": {
            "text/plain": [
              "Empty DataFrame\n",
              "Columns: []\n",
              "Index: [1,20000101,2017-08-11T12:23:38.802Z,3,SuperBrugsen,6598,1,SuperBrugsen Plukbutik (Ringe),\"Skovvej 21, Espe\",RINGE,5750,false,26770970,41287519,2000-01-01T00:00:00.000Z,09:00,19:00,09:00,19:00,09:00,19:00,09:00,19:00,09:00,19:00,08:00,16:00,Lukket,Lukket, 10,20000101,2017-08-11T12:23:37.542Z,3,SuperBrugsen,4155,10,SuperBrugsen Herfølge,Billesborgvej 26,HERFØLGE,4681,true,56274026,26259495,2000-01-01T00:00:00.000Z,08:00,20:00,08:00,20:00,08:00,20:00,08:00,20:00,08:00,20:00,08:00,20:00,08:00,20:00, 10,20180405,2018-04-04T13:23:36.870Z,3,SuperBrugsen,4155,10,SuperBrugsen Herfølge,Billesborgvej 26,HERFØLGE,4681,true,56274026,26259495,2018-04-05T00:00:00.000Z,08:00,20:45,08:00,20:45,08:00,20:45,08:00,20:45,08:00,20:45,08:00,20:45,08:00,20:45, 100,20000101,2017-08-11T12:23:43.921Z,2,Kvickly,6160,100,Kvickly Svendborg City,Gerritsgade 33,SVENDBORG,5700,true,62176600,26259495,2000-01-01T00:00:00.000Z,08:00,20:00,08:00,20:00,08:00,20:00,08:00,20:00,08:00,20:00,08:00,20:00,08:00,20:00, 100,20180820,2018-08-20T09:23:37.808Z,2,Kvickly,6160,100,Kvickly Svendborg City,Gerritsgade 33,SVENDBORG,5700,true,62176600,26259495,2018-08-20T00:00:00.000Z,08:00,21:00,08:00,21:00,08:00,21:00,08:00,21:00,08:00,21:00,08:00,21:00,08:00,21:00]"
            ],
            "text/html": [
              "\n",
              "  <div id=\"df-446fc6f9-63b2-4063-95ed-762ec8e6da56\">\n",
              "    <div class=\"colab-df-container\">\n",
              "      <div>\n",
              "<style scoped>\n",
              "    .dataframe tbody tr th:only-of-type {\n",
              "        vertical-align: middle;\n",
              "    }\n",
              "\n",
              "    .dataframe tbody tr th {\n",
              "        vertical-align: top;\n",
              "    }\n",
              "\n",
              "    .dataframe thead th {\n",
              "        text-align: right;\n",
              "    }\n",
              "</style>\n",
              "<table border=\"1\" class=\"dataframe\">\n",
              "  <thead>\n",
              "    <tr style=\"text-align: right;\">\n",
              "      <th></th>\n",
              "    </tr>\n",
              "    <tr>\n",
              "      <th>PartitionKey,RowKey,Timestamp,ChainId,ChainName,Kardex,StoreId,StoreName,Address,City,Zipcode,Active,Phone,CvrNumber,ValidFrom,MondayFrom,MondayTo,TuesdayFrom,TuesdayTo,WednesdayFrom,WednesdayTo,ThursdayFrom,ThursdayTo,FridayFrom,FridayTo,SaturdayFrom,SaturdayTo,SundayFrom,SundayTo</th>\n",
              "    </tr>\n",
              "  </thead>\n",
              "  <tbody>\n",
              "    <tr>\n",
              "      <th>1,20000101,2017-08-11T12:23:38.802Z,3,SuperBrugsen,6598,1,SuperBrugsen Plukbutik (Ringe),\"Skovvej 21, Espe\",RINGE,5750,false,26770970,41287519,2000-01-01T00:00:00.000Z,09:00,19:00,09:00,19:00,09:00,19:00,09:00,19:00,09:00,19:00,08:00,16:00,Lukket,Lukket</th>\n",
              "    </tr>\n",
              "    <tr>\n",
              "      <th>10,20000101,2017-08-11T12:23:37.542Z,3,SuperBrugsen,4155,10,SuperBrugsen Herfølge,Billesborgvej 26,HERFØLGE,4681,true,56274026,26259495,2000-01-01T00:00:00.000Z,08:00,20:00,08:00,20:00,08:00,20:00,08:00,20:00,08:00,20:00,08:00,20:00,08:00,20:00</th>\n",
              "    </tr>\n",
              "    <tr>\n",
              "      <th>10,20180405,2018-04-04T13:23:36.870Z,3,SuperBrugsen,4155,10,SuperBrugsen Herfølge,Billesborgvej 26,HERFØLGE,4681,true,56274026,26259495,2018-04-05T00:00:00.000Z,08:00,20:45,08:00,20:45,08:00,20:45,08:00,20:45,08:00,20:45,08:00,20:45,08:00,20:45</th>\n",
              "    </tr>\n",
              "    <tr>\n",
              "      <th>100,20000101,2017-08-11T12:23:43.921Z,2,Kvickly,6160,100,Kvickly Svendborg City,Gerritsgade 33,SVENDBORG,5700,true,62176600,26259495,2000-01-01T00:00:00.000Z,08:00,20:00,08:00,20:00,08:00,20:00,08:00,20:00,08:00,20:00,08:00,20:00,08:00,20:00</th>\n",
              "    </tr>\n",
              "    <tr>\n",
              "      <th>100,20180820,2018-08-20T09:23:37.808Z,2,Kvickly,6160,100,Kvickly Svendborg City,Gerritsgade 33,SVENDBORG,5700,true,62176600,26259495,2018-08-20T00:00:00.000Z,08:00,21:00,08:00,21:00,08:00,21:00,08:00,21:00,08:00,21:00,08:00,21:00,08:00,21:00</th>\n",
              "    </tr>\n",
              "  </tbody>\n",
              "</table>\n",
              "</div>\n",
              "      <button class=\"colab-df-convert\" onclick=\"convertToInteractive('df-446fc6f9-63b2-4063-95ed-762ec8e6da56')\"\n",
              "              title=\"Convert this dataframe to an interactive table.\"\n",
              "              style=\"display:none;\">\n",
              "        \n",
              "  <svg xmlns=\"http://www.w3.org/2000/svg\" height=\"24px\"viewBox=\"0 0 24 24\"\n",
              "       width=\"24px\">\n",
              "    <path d=\"M0 0h24v24H0V0z\" fill=\"none\"/>\n",
              "    <path d=\"M18.56 5.44l.94 2.06.94-2.06 2.06-.94-2.06-.94-.94-2.06-.94 2.06-2.06.94zm-11 1L8.5 8.5l.94-2.06 2.06-.94-2.06-.94L8.5 2.5l-.94 2.06-2.06.94zm10 10l.94 2.06.94-2.06 2.06-.94-2.06-.94-.94-2.06-.94 2.06-2.06.94z\"/><path d=\"M17.41 7.96l-1.37-1.37c-.4-.4-.92-.59-1.43-.59-.52 0-1.04.2-1.43.59L10.3 9.45l-7.72 7.72c-.78.78-.78 2.05 0 2.83L4 21.41c.39.39.9.59 1.41.59.51 0 1.02-.2 1.41-.59l7.78-7.78 2.81-2.81c.8-.78.8-2.07 0-2.86zM5.41 20L4 18.59l7.72-7.72 1.47 1.35L5.41 20z\"/>\n",
              "  </svg>\n",
              "      </button>\n",
              "      \n",
              "  <style>\n",
              "    .colab-df-container {\n",
              "      display:flex;\n",
              "      flex-wrap:wrap;\n",
              "      gap: 12px;\n",
              "    }\n",
              "\n",
              "    .colab-df-convert {\n",
              "      background-color: #E8F0FE;\n",
              "      border: none;\n",
              "      border-radius: 50%;\n",
              "      cursor: pointer;\n",
              "      display: none;\n",
              "      fill: #1967D2;\n",
              "      height: 32px;\n",
              "      padding: 0 0 0 0;\n",
              "      width: 32px;\n",
              "    }\n",
              "\n",
              "    .colab-df-convert:hover {\n",
              "      background-color: #E2EBFA;\n",
              "      box-shadow: 0px 1px 2px rgba(60, 64, 67, 0.3), 0px 1px 3px 1px rgba(60, 64, 67, 0.15);\n",
              "      fill: #174EA6;\n",
              "    }\n",
              "\n",
              "    [theme=dark] .colab-df-convert {\n",
              "      background-color: #3B4455;\n",
              "      fill: #D2E3FC;\n",
              "    }\n",
              "\n",
              "    [theme=dark] .colab-df-convert:hover {\n",
              "      background-color: #434B5C;\n",
              "      box-shadow: 0px 1px 3px 1px rgba(0, 0, 0, 0.15);\n",
              "      filter: drop-shadow(0px 1px 2px rgba(0, 0, 0, 0.3));\n",
              "      fill: #FFFFFF;\n",
              "    }\n",
              "  </style>\n",
              "\n",
              "      <script>\n",
              "        const buttonEl =\n",
              "          document.querySelector('#df-446fc6f9-63b2-4063-95ed-762ec8e6da56 button.colab-df-convert');\n",
              "        buttonEl.style.display =\n",
              "          google.colab.kernel.accessAllowed ? 'block' : 'none';\n",
              "\n",
              "        async function convertToInteractive(key) {\n",
              "          const element = document.querySelector('#df-446fc6f9-63b2-4063-95ed-762ec8e6da56');\n",
              "          const dataTable =\n",
              "            await google.colab.kernel.invokeFunction('convertToInteractive',\n",
              "                                                     [key], {});\n",
              "          if (!dataTable) return;\n",
              "\n",
              "          const docLinkHtml = 'Like what you see? Visit the ' +\n",
              "            '<a target=\"_blank\" href=https://colab.research.google.com/notebooks/data_table.ipynb>data table notebook</a>'\n",
              "            + ' to learn more about interactive tables.';\n",
              "          element.innerHTML = '';\n",
              "          dataTable['output_type'] = 'display_data';\n",
              "          await google.colab.output.renderOutput(dataTable, element);\n",
              "          const docLink = document.createElement('div');\n",
              "          docLink.innerHTML = docLinkHtml;\n",
              "          element.appendChild(docLink);\n",
              "        }\n",
              "      </script>\n",
              "    </div>\n",
              "  </div>\n",
              "  "
            ]
          },
          "metadata": {},
          "execution_count": 78
        }
      ]
    },
    {
      "cell_type": "markdown",
      "source": [
        "***These information are saved wrong way; all the columns of csv in one column so it open like one column***\n",
        "\n",
        "So i am going to open with string split method with comma \" ,\""
      ],
      "metadata": {
        "id": "9b0pSdv28y6C"
      }
    },
    {
      "cell_type": "markdown",
      "source": [
        "# TradeSync data from GS1 "
      ],
      "metadata": {
        "id": "l8Titj-1RNty"
      }
    },
    {
      "cell_type": "code",
      "source": [
        "import os\n",
        "import xml.etree.ElementTree as ET\n",
        "from bs4 import BeautifulSoup"
      ],
      "metadata": {
        "id": "Xu9g3dMz8IvB"
      },
      "execution_count": 65,
      "outputs": []
    },
    {
      "cell_type": "code",
      "source": [
        "#Import data\n",
        "path_tradesync_data= \"/content/testdata_gs1.xml\" # \"https://github.com/mrchapagain/food_ontology/blob/main/gs1_data/testdata.xml\""
      ],
      "metadata": {
        "id": "bYVqtP-Z8JhE"
      },
      "execution_count": 74,
      "outputs": []
    },
    {
      "cell_type": "code",
      "source": [
        "tree = ET.parse(path_tradesync_data)\n",
        "root = tree.getroot()\n",
        "print(\"Roots:\", root.tag)\n",
        "print(\"Attrib:\", root.attrib)\n",
        "print(\"Childerns: \", list(root))\n"
      ],
      "metadata": {
        "colab": {
          "base_uri": "https://localhost:8080/"
        },
        "id": "Wi0hm7mgBH6B",
        "outputId": "9976befd-4ae8-492c-d857-52829a670f9b"
      },
      "execution_count": 75,
      "outputs": [
        {
          "output_type": "stream",
          "name": "stdout",
          "text": [
            "Roots: {urn:gs1:gdsn:catalogue_item_notification:xsd:3}catalogueItemNotificationMessage\n",
            "Attrib: {'{http://www.w3.org/2001/XMLSchema-instance}schemaLocation': 'urn:gs1:gdsn:catalogue_item_notification:xsd:3 http://www.gdsregistry.org/3.1/schemas/gs1/gdsn/CatalogueItemNotification.xsd'}\n",
            "Childerns:  [<Element '{http://www.unece.org/cefact/namespaces/StandardBusinessDocumentHeader}StandardBusinessDocumentHeader' at 0x7f8e8d162f50>, <Element 'transaction' at 0x7f8e8cce3590>]\n"
          ]
        }
      ]
    },
    {
      "cell_type": "markdown",
      "source": [
        "***This part is hidden because the datast is very big and  take somany lines***"
      ],
      "metadata": {
        "id": "c-82yeP6S0Rk"
      }
    },
    {
      "cell_type": "code",
      "source": [
        "# Code to have a look whole data\n",
        "\"\"\"# Reading the data inside the xml file to a variable under the name  data\n",
        "with open(path_tradesync_data, 'r') as f:\n",
        "    for line in f.readlines():\n",
        "      print(line)\n",
        "\"\"\"\n",
        "\n",
        "# Code to explore tags\n",
        "\"\"\"# The xml file has a LOT of tags!\n",
        "list_of_items= []\n",
        "stopAt = 200\n",
        "for elem in root.iter():\n",
        "    print(elem.tag)\n",
        "    list_of_items.append(elem.tag)\n",
        "    #print(elem.attrib)\n",
        "    if stopAt==0:\n",
        "        break\n",
        "    stopAt -= 1\"\"\""
      ],
      "metadata": {
        "colab": {
          "base_uri": "https://localhost:8080/",
          "height": 35
        },
        "id": "wVEjbHEJ-4f8",
        "outputId": "f71d33fa-5ea1-45aa-9786-2c4c4a9c6e11"
      },
      "execution_count": 76,
      "outputs": [
        {
          "output_type": "execute_result",
          "data": {
            "text/plain": [
              "'# The xml file has a LOT of tags!\\nlist_of_items= []\\nstopAt = 200\\nfor elem in root.iter():\\n    print(elem.tag)\\n    list_of_items.append(elem.tag)\\n    #print(elem.attrib)\\n    if stopAt==0:\\n        break\\n    stopAt -= 1'"
            ],
            "application/vnd.google.colaboratory.intrinsic+json": {
              "type": "string"
            }
          },
          "metadata": {},
          "execution_count": 76
        }
      ]
    },
    {
      "cell_type": "code",
      "source": [
        "#print(ET.tostring(root, encoding='utf8').decode('utf8'))\n",
        "list_of_items_to_find= [\"entityIdentification\", \"brandName\", \"functionalName\", \"gln\", \"gtin\", \"creationDateTime\", \"dataRecipient\", \"contactDescription\", \"partyAddress\", \"gpcCategoryCode\", \"grossWeight\", \"descriptionShort\", \"allergenSpecificationName\", \"ingredientStatement\", \"tradeItemTemperatureConditionTypeCode\", \"uniformResourceIdentifier\"]\n",
        "#  \"additionalTradeItemIdentification\", \"partyName\",\n",
        "\n",
        "#Lets start the dictionary to collecct items\n",
        "dict_item_text = {}\n",
        "\n",
        "# Loop over the tags that make sense (from list above)\n",
        "for list_item in list_of_items_to_find:\n",
        "  \n",
        "  # Again  looping to get the text value\n",
        "  for item in root.iter(list_item):\n",
        "    dict_item_text[list_item] = item.text\n",
        "\n",
        "# Lets see what we have c collected from the loop\n",
        "dict_item_text"
      ],
      "metadata": {
        "colab": {
          "base_uri": "https://localhost:8080/"
        },
        "id": "mjG6vhzwEeZO",
        "outputId": "f876f0d4-ab41-48a2-eac5-9e22059543be"
      },
      "execution_count": 77,
      "outputs": [
        {
          "output_type": "execute_result",
          "data": {
            "text/plain": [
              "{'allergenSpecificationName': '2003/89/EC',\n",
              " 'brandName': 'Gammeldags Flødeis',\n",
              " 'contactDescription': 'Premier Is, Mejerigaarden A/S',\n",
              " 'creationDateTime': '2019-11-05T11:35:49.3113569+01:00',\n",
              " 'dataRecipient': '5790000050000',\n",
              " 'descriptionShort': 'Karamel ',\n",
              " 'entityIdentification': 'CatalogueItemNotification-b10a17fc-ef9b-42b1-a0b1-76857c8a26b9',\n",
              " 'functionalName': 'Fløde is',\n",
              " 'gln': '5790000701247',\n",
              " 'gpcCategoryCode': '10000215',\n",
              " 'grossWeight': '350',\n",
              " 'gtin': '05766632526800',\n",
              " 'ingredientStatement': 'Ingredienser: 35 % FLØDE, SKUMMETMÆLK, sukker, glukosesirup, sheaolie, rapsolie, sødet kondenseret SKUMMETMÆLK, SKUMMETMÆLKSPULVER, vand, kokosolie, fedtfattigt kakaopulver, Bourbon vaniljeekstrakt, ekstraherede vaniljekorn, SMØR, palmeolie, majsstivelse, helt hærdet kokosfedt, naturlig vaniljearoma, salt, aroma, paprikaekstrakt, emulgatorer (E 322 (af SOJA), E 471), stabilisatorer (E 466, E 412, E 407, E 440), surhedsregulerende midler (E 331, E 334).\\xa0 Kan indeholde spor af: æg, gluten (hvede, byg), hasselnødder, mandler og pistacienødder.',\n",
              " 'partyAddress': 'Sennelsvej 1\\n7700 Thisted',\n",
              " 'tradeItemTemperatureConditionTypeCode': 'DEEP_FROZEN',\n",
              " 'uniformResourceIdentifier': 'https://gdsnprodwebstorage.blob.core.windows.net/gdsnprodwebfileblob/5790000701247/05766632526800/208/ReferencedFileDetailInformationModule/05766632526800_C1R1.png'}"
            ]
          },
          "metadata": {},
          "execution_count": 77
        }
      ]
    },
    {
      "cell_type": "markdown",
      "source": [
        "***Above dictinary are the information extracted from GS1 xml file associated with each item from the purchage list***\n",
        "\n",
        "*We can grasp a lot of infoation about the item*"
      ],
      "metadata": {
        "id": "SbSNajOqYdjk"
      }
    },
    {
      "cell_type": "code",
      "source": [
        ""
      ],
      "metadata": {
        "id": "jrMR2f0nYfAJ"
      },
      "execution_count": null,
      "outputs": []
    },
    {
      "cell_type": "code",
      "source": [
        ""
      ],
      "metadata": {
        "id": "krgmlxhV-92_"
      },
      "execution_count": null,
      "outputs": []
    }
  ]
}