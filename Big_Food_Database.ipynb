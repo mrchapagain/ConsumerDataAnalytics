{
  "nbformat": 4,
  "nbformat_minor": 0,
  "metadata": {
    "colab": {
      "name": "Data_Exploration.ipynb",
      "provenance": [],
      "collapsed_sections": [],
      "authorship_tag": "ABX9TyOQbOAWVjK0wBRaEasS+Mf6",
      "include_colab_link": true
    },
    "kernelspec": {
      "name": "python3",
      "display_name": "Python 3"
    },
    "language_info": {
      "name": "python"
    }
  },
  "cells": [
    {
      "cell_type": "markdown",
      "metadata": {
        "id": "view-in-github",
        "colab_type": "text"
      },
      "source": [
        "<a href=\"https://colab.research.google.com/github/mrchapagain/ConsumerDataAnalytics/blob/main/Big_Food_Database.ipynb\" target=\"_parent\"><img src=\"https://colab.research.google.com/assets/colab-badge.svg\" alt=\"Open In Colab\"/></a>"
      ]
    },
    {
      "cell_type": "code",
      "source": [
        "# pips install\n",
        "#!pip install evidently\n",
        "#!pip install facets-overview\n",
        "#!pip install yfinance\n",
        "#!pip install itables # for interactive dataframe display"
      ],
      "metadata": {
        "id": "Bh6mnzYxAm5a",
        "outputId": "952da5c9-9f1b-400f-b757-23ff5cd57014",
        "colab": {
          "base_uri": "https://localhost:8080/",
          "height": 1736
        }
      },
      "execution_count": 2,
      "outputs": [
        {
          "output_type": "stream",
          "name": "stdout",
          "text": [
            "Looking in indexes: https://pypi.org/simple, https://us-python.pkg.dev/colab-wheels/public/simple/\n",
            "Collecting evidently\n",
            "  Downloading evidently-0.1.58.dev0-py3-none-any.whl (12.0 MB)\n",
            "\u001b[K     |████████████████████████████████| 12.0 MB 5.2 MB/s \n",
            "\u001b[?25hRequirement already satisfied: plotly>=5.5.0 in /usr/local/lib/python3.7/dist-packages (from evidently) (5.5.0)\n",
            "Collecting PyYAML~=5.1\n",
            "  Downloading PyYAML-5.4.1-cp37-cp37m-manylinux1_x86_64.whl (636 kB)\n",
            "\u001b[K     |████████████████████████████████| 636 kB 51.5 MB/s \n",
            "\u001b[?25hRequirement already satisfied: scipy>=1.5.4 in /usr/local/lib/python3.7/dist-packages (from evidently) (1.7.3)\n",
            "Requirement already satisfied: statsmodels>=0.12.2 in /usr/local/lib/python3.7/dist-packages (from evidently) (0.12.2)\n",
            "Requirement already satisfied: scikit-learn>=0.24.0 in /usr/local/lib/python3.7/dist-packages (from evidently) (1.0.2)\n",
            "Collecting dataclasses>=0.6\n",
            "  Downloading dataclasses-0.6-py3-none-any.whl (14 kB)\n",
            "Requirement already satisfied: requests>=2.19.0 in /usr/local/lib/python3.7/dist-packages (from evidently) (2.23.0)\n",
            "Requirement already satisfied: numpy>=1.19.5 in /usr/local/lib/python3.7/dist-packages (from evidently) (1.21.6)\n",
            "Requirement already satisfied: pandas>=1.1.5 in /usr/local/lib/python3.7/dist-packages (from evidently) (1.3.5)\n",
            "Requirement already satisfied: python-dateutil>=2.7.3 in /usr/local/lib/python3.7/dist-packages (from pandas>=1.1.5->evidently) (2.8.2)\n",
            "Requirement already satisfied: pytz>=2017.3 in /usr/local/lib/python3.7/dist-packages (from pandas>=1.1.5->evidently) (2022.4)\n",
            "Requirement already satisfied: tenacity>=6.2.0 in /usr/local/lib/python3.7/dist-packages (from plotly>=5.5.0->evidently) (8.1.0)\n",
            "Requirement already satisfied: six in /usr/local/lib/python3.7/dist-packages (from plotly>=5.5.0->evidently) (1.15.0)\n",
            "Requirement already satisfied: chardet<4,>=3.0.2 in /usr/local/lib/python3.7/dist-packages (from requests>=2.19.0->evidently) (3.0.4)\n",
            "Requirement already satisfied: urllib3!=1.25.0,!=1.25.1,<1.26,>=1.21.1 in /usr/local/lib/python3.7/dist-packages (from requests>=2.19.0->evidently) (1.24.3)\n",
            "Requirement already satisfied: idna<3,>=2.5 in /usr/local/lib/python3.7/dist-packages (from requests>=2.19.0->evidently) (2.10)\n",
            "Requirement already satisfied: certifi>=2017.4.17 in /usr/local/lib/python3.7/dist-packages (from requests>=2.19.0->evidently) (2022.9.24)\n",
            "Requirement already satisfied: threadpoolctl>=2.0.0 in /usr/local/lib/python3.7/dist-packages (from scikit-learn>=0.24.0->evidently) (3.1.0)\n",
            "Requirement already satisfied: joblib>=0.11 in /usr/local/lib/python3.7/dist-packages (from scikit-learn>=0.24.0->evidently) (1.2.0)\n",
            "Requirement already satisfied: patsy>=0.5 in /usr/local/lib/python3.7/dist-packages (from statsmodels>=0.12.2->evidently) (0.5.3)\n",
            "Installing collected packages: PyYAML, dataclasses, evidently\n",
            "  Attempting uninstall: PyYAML\n",
            "    Found existing installation: PyYAML 6.0\n",
            "    Uninstalling PyYAML-6.0:\n",
            "      Successfully uninstalled PyYAML-6.0\n",
            "Successfully installed PyYAML-5.4.1 dataclasses-0.6 evidently-0.1.58.dev0\n"
          ]
        },
        {
          "output_type": "display_data",
          "data": {
            "application/vnd.colab-display-data+json": {
              "pip_warning": {
                "packages": [
                  "dataclasses"
                ]
              }
            }
          },
          "metadata": {}
        },
        {
          "output_type": "stream",
          "name": "stdout",
          "text": [
            "Looking in indexes: https://pypi.org/simple, https://us-python.pkg.dev/colab-wheels/public/simple/\n",
            "Collecting facets-overview\n",
            "  Downloading facets_overview-1.0.0-py2.py3-none-any.whl (24 kB)\n",
            "Requirement already satisfied: numpy>=1.16.0 in /usr/local/lib/python3.7/dist-packages (from facets-overview) (1.21.6)\n",
            "Requirement already satisfied: pandas>=0.22.0 in /usr/local/lib/python3.7/dist-packages (from facets-overview) (1.3.5)\n",
            "Requirement already satisfied: protobuf>=3.7.0 in /usr/local/lib/python3.7/dist-packages (from facets-overview) (3.17.3)\n",
            "Requirement already satisfied: python-dateutil>=2.7.3 in /usr/local/lib/python3.7/dist-packages (from pandas>=0.22.0->facets-overview) (2.8.2)\n",
            "Requirement already satisfied: pytz>=2017.3 in /usr/local/lib/python3.7/dist-packages (from pandas>=0.22.0->facets-overview) (2022.4)\n",
            "Requirement already satisfied: six>=1.9 in /usr/local/lib/python3.7/dist-packages (from protobuf>=3.7.0->facets-overview) (1.15.0)\n",
            "Installing collected packages: facets-overview\n",
            "Successfully installed facets-overview-1.0.0\n",
            "Looking in indexes: https://pypi.org/simple, https://us-python.pkg.dev/colab-wheels/public/simple/\n",
            "Collecting yfinance\n",
            "  Downloading yfinance-0.1.77-py2.py3-none-any.whl (28 kB)\n",
            "Requirement already satisfied: multitasking>=0.0.7 in /usr/local/lib/python3.7/dist-packages (from yfinance) (0.0.11)\n",
            "Requirement already satisfied: pandas>=0.24.0 in /usr/local/lib/python3.7/dist-packages (from yfinance) (1.3.5)\n",
            "Requirement already satisfied: numpy>=1.15 in /usr/local/lib/python3.7/dist-packages (from yfinance) (1.21.6)\n",
            "Requirement already satisfied: appdirs>=1.4.4 in /usr/local/lib/python3.7/dist-packages (from yfinance) (1.4.4)\n",
            "Collecting requests>=2.26\n",
            "  Downloading requests-2.28.1-py3-none-any.whl (62 kB)\n",
            "\u001b[K     |████████████████████████████████| 62 kB 1.0 MB/s \n",
            "\u001b[?25hRequirement already satisfied: lxml>=4.5.1 in /usr/local/lib/python3.7/dist-packages (from yfinance) (4.9.1)\n",
            "Requirement already satisfied: pytz>=2017.3 in /usr/local/lib/python3.7/dist-packages (from pandas>=0.24.0->yfinance) (2022.4)\n",
            "Requirement already satisfied: python-dateutil>=2.7.3 in /usr/local/lib/python3.7/dist-packages (from pandas>=0.24.0->yfinance) (2.8.2)\n",
            "Requirement already satisfied: six>=1.5 in /usr/local/lib/python3.7/dist-packages (from python-dateutil>=2.7.3->pandas>=0.24.0->yfinance) (1.15.0)\n",
            "Requirement already satisfied: charset-normalizer<3,>=2 in /usr/local/lib/python3.7/dist-packages (from requests>=2.26->yfinance) (2.1.1)\n",
            "Requirement already satisfied: certifi>=2017.4.17 in /usr/local/lib/python3.7/dist-packages (from requests>=2.26->yfinance) (2022.9.24)\n",
            "Requirement already satisfied: urllib3<1.27,>=1.21.1 in /usr/local/lib/python3.7/dist-packages (from requests>=2.26->yfinance) (1.24.3)\n",
            "Requirement already satisfied: idna<4,>=2.5 in /usr/local/lib/python3.7/dist-packages (from requests>=2.26->yfinance) (2.10)\n",
            "Installing collected packages: requests, yfinance\n",
            "  Attempting uninstall: requests\n",
            "    Found existing installation: requests 2.23.0\n",
            "    Uninstalling requests-2.23.0:\n",
            "      Successfully uninstalled requests-2.23.0\n",
            "Successfully installed requests-2.28.1 yfinance-0.1.77\n",
            "Looking in indexes: https://pypi.org/simple, https://us-python.pkg.dev/colab-wheels/public/simple/\n",
            "Collecting itables\n",
            "  Downloading itables-1.3.0-py3-none-any.whl (193 kB)\n",
            "\u001b[K     |████████████████████████████████| 193 kB 5.1 MB/s \n",
            "\u001b[?25hRequirement already satisfied: pandas in /usr/local/lib/python3.7/dist-packages (from itables) (1.3.5)\n",
            "Requirement already satisfied: IPython in /usr/local/lib/python3.7/dist-packages (from itables) (7.9.0)\n",
            "Requirement already satisfied: pygments in /usr/local/lib/python3.7/dist-packages (from IPython->itables) (2.6.1)\n",
            "Requirement already satisfied: backcall in /usr/local/lib/python3.7/dist-packages (from IPython->itables) (0.2.0)\n",
            "Requirement already satisfied: prompt-toolkit<2.1.0,>=2.0.0 in /usr/local/lib/python3.7/dist-packages (from IPython->itables) (2.0.10)\n",
            "Requirement already satisfied: setuptools>=18.5 in /usr/local/lib/python3.7/dist-packages (from IPython->itables) (57.4.0)\n",
            "Requirement already satisfied: pickleshare in /usr/local/lib/python3.7/dist-packages (from IPython->itables) (0.7.5)\n",
            "Requirement already satisfied: pexpect in /usr/local/lib/python3.7/dist-packages (from IPython->itables) (4.8.0)\n",
            "Collecting jedi>=0.10\n",
            "  Downloading jedi-0.18.1-py2.py3-none-any.whl (1.6 MB)\n",
            "\u001b[K     |████████████████████████████████| 1.6 MB 60.9 MB/s \n",
            "\u001b[?25hRequirement already satisfied: traitlets>=4.2 in /usr/local/lib/python3.7/dist-packages (from IPython->itables) (5.1.1)\n",
            "Requirement already satisfied: decorator in /usr/local/lib/python3.7/dist-packages (from IPython->itables) (4.4.2)\n",
            "Requirement already satisfied: parso<0.9.0,>=0.8.0 in /usr/local/lib/python3.7/dist-packages (from jedi>=0.10->IPython->itables) (0.8.3)\n",
            "Requirement already satisfied: wcwidth in /usr/local/lib/python3.7/dist-packages (from prompt-toolkit<2.1.0,>=2.0.0->IPython->itables) (0.2.5)\n",
            "Requirement already satisfied: six>=1.9.0 in /usr/local/lib/python3.7/dist-packages (from prompt-toolkit<2.1.0,>=2.0.0->IPython->itables) (1.15.0)\n",
            "Requirement already satisfied: python-dateutil>=2.7.3 in /usr/local/lib/python3.7/dist-packages (from pandas->itables) (2.8.2)\n",
            "Requirement already satisfied: pytz>=2017.3 in /usr/local/lib/python3.7/dist-packages (from pandas->itables) (2022.4)\n",
            "Requirement already satisfied: numpy>=1.17.3 in /usr/local/lib/python3.7/dist-packages (from pandas->itables) (1.21.6)\n",
            "Requirement already satisfied: ptyprocess>=0.5 in /usr/local/lib/python3.7/dist-packages (from pexpect->IPython->itables) (0.7.0)\n",
            "Installing collected packages: jedi, itables\n",
            "Successfully installed itables-1.3.0 jedi-0.18.1\n"
          ]
        }
      ]
    },
    {
      "cell_type": "code",
      "source": [
        "import  pandas as pd\n",
        "\n",
        "#libaries for display and interactivity\n",
        "from itables import init_notebook_mode\n",
        "init_notebook_mode(all_interactive=True)\n",
        "\n",
        "from IPython.core.display import display, HTML\n",
        "from google.colab import output\n",
        "#output.enable_custom_widget_managet()\n",
        "\n",
        "from ipywidgets import interact, interactive\n",
        "import ipywidgets as widgets\n",
        "\n",
        "from evidently.dashboard import Dashboard\n",
        "from evidently.dashboard.tabs import DataDriftTab\n"
      ],
      "metadata": {
        "id": "Uskl0vaDxpo2"
      },
      "execution_count": 3,
      "outputs": []
    },
    {
      "cell_type": "markdown",
      "source": [
        "#Open Data-set on Food-Nutrition-health from research sector"
      ],
      "metadata": {
        "id": "BxaAPlmZqc5D"
      }
    },
    {
      "cell_type": "markdown",
      "source": [
        "***FRIDA Food Composition Database: ***\n",
        "\n",
        "*   ***Category list:*** https://frida.fooddata.dk/food/lists/grouped?lang=en\n",
        "*   ***Data display inspiration:*** https://foodb.ca/foods/FOOD00011\n",
        "*   ***Display on FRIDA:*** https://frida.fooddata.dk/food/754?lang=en"
      ],
      "metadata": {
        "id": "UHIue7JPxRGC"
      }
    },
    {
      "cell_type": "code",
      "source": [
        "# Import FRIDA NNutrient data\n",
        "path_frida_data=\"https://github.com/mrchapagain/ConsumerDataAnalytics/raw/main/FridaNutrientData.xlsx\"\n",
        "\n",
        "# Lets open data as they are but only 26 columns out of 201 columns\n",
        "data_frida= pd.read_excel(path_frida_data, sheet_name=1, index_col=0, header=0, skiprows=0).round(decimals = 2).iloc[:, :25]\n",
        "data_frida.head(3)"
      ],
      "metadata": {
        "id": "uM92QBXZxawt",
        "outputId": "93070fe4-252b-44b8-9ca6-0547f6531182",
        "colab": {
          "base_uri": "https://localhost:8080/",
          "height": 302
        }
      },
      "execution_count": 4,
      "outputs": [
        {
          "output_type": "stream",
          "name": "stderr",
          "text": [
            "WARNING:itables.downsample:showing 3x20 of 3x25 as maxColumns=20. See https://mwouts.github.io/itables/downsampling.html\n"
          ]
        },
        {
          "output_type": "execute_result",
          "data": {
            "text/plain": [
              "        Unnamed: 1         Unnamed: 2 Svind Energi, kJ Energi, kcal  \\\n",
              "Nummer      gruppe               Navn     %         kJ         kcal   \n",
              "1         Bærfrugt        Jordbær, rå     4        162           38   \n",
              "2       Kernefrugt  Æble, uspec., råt    10        233           55   \n",
              "\n",
              "       Nitrogen-til-protein faktor Nitrogen, total Protein, videnskabelig  \\\n",
              "Nummer                           -               g                      g   \n",
              "1                             6.25           0.106                    0.7   \n",
              "2                             6.25           0.043                    0.3   \n",
              "\n",
              "       Protein, deklaration Kulhydrat, difference   ...  FCF Alkohol Aske  \\\n",
              "Nummer                    g                      g  ...    -       g    g   \n",
              "1                       0.7                    8.3  ...  0.8       0  0.4   \n",
              "2                       0.3                   14.3  ...  0.8       0  0.3   \n",
              "\n",
              "       Tørstof  Vand A-vitamin Retinol beta-caroten D-vitamin D3-vitamin  \n",
              "Nummer       g     g        RE      µg           µg        µg         µg  \n",
              "1           10    90      3.33       0           40         0          0  \n",
              "2         15.1  84.9      2.08       0           25         0          0  \n",
              "\n",
              "[3 rows x 25 columns]"
            ],
            "text/html": [
              "\n",
              "  <div id=\"df-c5242471-3485-491c-b5fd-f8dae2085a7e\">\n",
              "    <div class=\"colab-df-container\">\n",
              "      <table id=\"566c9806-e644-4caf-8d2d-41617733e9bd\" class=\"display\"style=\"max-width:100%\"><thead>\n",
              "    <tr style=\"text-align: right;\">\n",
              "      <th></th>\n",
              "      <th>Unnamed: 1</th>\n",
              "      <th>Unnamed: 2</th>\n",
              "      <th>Svind</th>\n",
              "      <th>Energi, kJ</th>\n",
              "      <th>Energi, kcal</th>\n",
              "      <th>Nitrogen-til-protein faktor</th>\n",
              "      <th>Nitrogen, total</th>\n",
              "      <th>Protein, videnskabelig</th>\n",
              "      <th>Protein, deklaration</th>\n",
              "      <th>Kulhydrat, difference</th>\n",
              "      <th>FCF</th>\n",
              "      <th>Alkohol</th>\n",
              "      <th>Aske</th>\n",
              "      <th>Tørstof</th>\n",
              "      <th>Vand</th>\n",
              "      <th>A-vitamin</th>\n",
              "      <th>Retinol</th>\n",
              "      <th>beta-caroten</th>\n",
              "      <th>D-vitamin</th>\n",
              "      <th>D3-vitamin</th>\n",
              "    </tr>\n",
              "  </thead><tbody><tr><td>Loading... (need <a href=https://mwouts.github.io/itables/troubleshooting.html>help</a>?)</td></tr></tbody></table>\n",
              "<style>\n",
              "table td {\n",
              "    text-overflow: ellipsis;\n",
              "    overflow: hidden;\n",
              "}\n",
              "\n",
              "table th {\n",
              "    text-overflow: ellipsis;\n",
              "    overflow: hidden;\n",
              "}\n",
              "\n",
              "thead input {\n",
              "    width: 100%;\n",
              "    padding: 3px;\n",
              "    box-sizing: border-box;\n",
              "}\n",
              "\n",
              "tfoot input {\n",
              "    width: 100%;\n",
              "    padding: 3px;\n",
              "    box-sizing: border-box;\n",
              "}\n",
              "\n",
              "</style>\n",
              "<link rel=\"stylesheet\" type=\"text/css\" href=\"https://cdn.datatables.net/1.12.1/css/jquery.dataTables.min.css\">\n",
              "<script type=\"module\">\n",
              "    // Import jquery and DataTable\n",
              "    import 'https://code.jquery.com/jquery-3.6.0.min.js';\n",
              "    import dt from 'https://cdn.datatables.net/1.12.1/js/jquery.dataTables.mjs';\n",
              "    dt($);\n",
              "\n",
              "    // Define the table data\n",
              "    const data = [[\"Nummer\", \"gruppe\", \"Navn\", \"%\", \"kJ\", \"kcal\", \"-\", \"g\", \"g\", \"g\", \"g\", \"-\", \"g\", \"g\", \"g\", \"g\", \"RE\", \"\\u00b5g\", \"\\u00b5g\", \"\\u00b5g\", \"\\u00b5g\"], [\"1\", \"B\\u00e6rfrugt\", \"Jordb\\u00e6r, r\\u00e5\", \"4\", \"162\", \"38\", \"6.25\", \"0.106\", \"0.7\", \"0.7\", \"8.3\", \"0.8\", \"0\", \"0.4\", \"10\", \"90\", \"3.33\", \"0\", \"40\", \"0\", \"0\"], [\"2\", \"Kernefrugt\", \"\\u00c6ble, uspec., r\\u00e5t\", \"10\", \"233\", \"55\", \"6.25\", \"0.043\", \"0.3\", \"0.3\", \"14.3\", \"0.8\", \"0\", \"0.3\", \"15.1\", \"84.9\", \"2.08\", \"0\", \"25\", \"0\", \"0\"]];\n",
              "\n",
              "    // Define the dt_args\n",
              "    let dt_args = {\"paging\": false, \"order\": []};\n",
              "    dt_args[\"data\"] = data;\n",
              "\n",
              "    $(document).ready(function () {\n",
              "        \n",
              "        $('#566c9806-e644-4caf-8d2d-41617733e9bd').DataTable(dt_args);\n",
              "    });\n",
              "</script>\n",
              "\n",
              "      <button class=\"colab-df-convert\" onclick=\"convertToInteractive('df-c5242471-3485-491c-b5fd-f8dae2085a7e')\"\n",
              "              title=\"Convert this dataframe to an interactive table.\"\n",
              "              style=\"display:none;\">\n",
              "        \n",
              "  <svg xmlns=\"http://www.w3.org/2000/svg\" height=\"24px\"viewBox=\"0 0 24 24\"\n",
              "       width=\"24px\">\n",
              "    <path d=\"M0 0h24v24H0V0z\" fill=\"none\"/>\n",
              "    <path d=\"M18.56 5.44l.94 2.06.94-2.06 2.06-.94-2.06-.94-.94-2.06-.94 2.06-2.06.94zm-11 1L8.5 8.5l.94-2.06 2.06-.94-2.06-.94L8.5 2.5l-.94 2.06-2.06.94zm10 10l.94 2.06.94-2.06 2.06-.94-2.06-.94-.94-2.06-.94 2.06-2.06.94z\"/><path d=\"M17.41 7.96l-1.37-1.37c-.4-.4-.92-.59-1.43-.59-.52 0-1.04.2-1.43.59L10.3 9.45l-7.72 7.72c-.78.78-.78 2.05 0 2.83L4 21.41c.39.39.9.59 1.41.59.51 0 1.02-.2 1.41-.59l7.78-7.78 2.81-2.81c.8-.78.8-2.07 0-2.86zM5.41 20L4 18.59l7.72-7.72 1.47 1.35L5.41 20z\"/>\n",
              "  </svg>\n",
              "      </button>\n",
              "      \n",
              "  <style>\n",
              "    .colab-df-container {\n",
              "      display:flex;\n",
              "      flex-wrap:wrap;\n",
              "      gap: 12px;\n",
              "    }\n",
              "\n",
              "    .colab-df-convert {\n",
              "      background-color: #E8F0FE;\n",
              "      border: none;\n",
              "      border-radius: 50%;\n",
              "      cursor: pointer;\n",
              "      display: none;\n",
              "      fill: #1967D2;\n",
              "      height: 32px;\n",
              "      padding: 0 0 0 0;\n",
              "      width: 32px;\n",
              "    }\n",
              "\n",
              "    .colab-df-convert:hover {\n",
              "      background-color: #E2EBFA;\n",
              "      box-shadow: 0px 1px 2px rgba(60, 64, 67, 0.3), 0px 1px 3px 1px rgba(60, 64, 67, 0.15);\n",
              "      fill: #174EA6;\n",
              "    }\n",
              "\n",
              "    [theme=dark] .colab-df-convert {\n",
              "      background-color: #3B4455;\n",
              "      fill: #D2E3FC;\n",
              "    }\n",
              "\n",
              "    [theme=dark] .colab-df-convert:hover {\n",
              "      background-color: #434B5C;\n",
              "      box-shadow: 0px 1px 3px 1px rgba(0, 0, 0, 0.15);\n",
              "      filter: drop-shadow(0px 1px 2px rgba(0, 0, 0, 0.3));\n",
              "      fill: #FFFFFF;\n",
              "    }\n",
              "  </style>\n",
              "\n",
              "      <script>\n",
              "        const buttonEl =\n",
              "          document.querySelector('#df-c5242471-3485-491c-b5fd-f8dae2085a7e button.colab-df-convert');\n",
              "        buttonEl.style.display =\n",
              "          google.colab.kernel.accessAllowed ? 'block' : 'none';\n",
              "\n",
              "        async function convertToInteractive(key) {\n",
              "          const element = document.querySelector('#df-c5242471-3485-491c-b5fd-f8dae2085a7e');\n",
              "          const dataTable =\n",
              "            await google.colab.kernel.invokeFunction('convertToInteractive',\n",
              "                                                     [key], {});\n",
              "          if (!dataTable) return;\n",
              "\n",
              "          const docLinkHtml = 'Like what you see? Visit the ' +\n",
              "            '<a target=\"_blank\" href=https://colab.research.google.com/notebooks/data_table.ipynb>data table notebook</a>'\n",
              "            + ' to learn more about interactive tables.';\n",
              "          element.innerHTML = '';\n",
              "          dataTable['output_type'] = 'display_data';\n",
              "          await google.colab.output.renderOutput(dataTable, element);\n",
              "          const docLink = document.createElement('div');\n",
              "          docLink.innerHTML = docLinkHtml;\n",
              "          element.appendChild(docLink);\n",
              "        }\n",
              "      </script>\n",
              "    </div>\n",
              "  </div>\n",
              "  "
            ]
          },
          "metadata": {},
          "execution_count": 4
        }
      ]
    },
    {
      "cell_type": "code",
      "source": [
        "# Lets define columns name that are readeable\n",
        "column_names= ['Gruppe', 'Navn', 'Svind_%', 'Energy_kj', 'Energy_kcal', 'Nitrogen_til_protein_faktor', 'Nitrogen_total_g', 'Protein_videnskabelign_g', 'Protein_deklaration_g', 'Kulhydrat_difference_g', 'Kulhydrat_tilgængelig_g', \n",
        "               'Kulhydrat_deklaration_g', 'Tilsat_sukker_g', 'Kostfibre_g', 'Fedt_total_g', 'FCF', 'Alkohol_g', 'Aske_g', 'Tørstof_g', 'Vand_g', 'A_vitamin_RE', 'Retinol_µg', 'beta_caroten_µg', 'D_vitamin_µg', 'D3_vitamin_µg']\n",
        "\n",
        "# Lets open with little modificaton so easy to read and understand\n",
        "data_frida= pd.read_excel(path_frida_data, sheet_name=1, index_col=0, header=None, skiprows=2).round(decimals = 2).iloc[:, :25].reset_index(drop=True)\n",
        "\n",
        "# Assign columns name that defined just above\n",
        "data_frida.columns= column_names\n",
        "\n",
        "# lets see somerowsof the data\n",
        "data_frida.head(3)"
      ],
      "metadata": {
        "id": "I69R6GhbxifS",
        "outputId": "d5da168a-ad4b-4d6c-868a-c8dfddea5b33",
        "colab": {
          "base_uri": "https://localhost:8080/",
          "height": 366
        }
      },
      "execution_count": 5,
      "outputs": [
        {
          "output_type": "stream",
          "name": "stderr",
          "text": [
            "WARNING:itables.downsample:showing 3x20 of 3x25 as maxColumns=20. See https://mwouts.github.io/itables/downsampling.html\n"
          ]
        },
        {
          "output_type": "execute_result",
          "data": {
            "text/plain": [
              "       Gruppe               Navn Svind_% Energy_kj Energy_kcal  \\\n",
              "0    Bærfrugt        Jordbær, rå       4       162          38   \n",
              "1  Kernefrugt  Æble, uspec., råt      10       233          55   \n",
              "2    Sydfrugt          Banan, rå      41       396          93   \n",
              "\n",
              "  Nitrogen_til_protein_faktor Nitrogen_total_g Protein_videnskabelign_g  \\\n",
              "0                        6.25            0.106                      0.7   \n",
              "1                        6.25            0.043                      0.3   \n",
              "2                        6.25            0.183                      1.1   \n",
              "\n",
              "  Protein_deklaration_g Kulhydrat_difference_g  ...   FCF Alkohol_g Aske_g  \\\n",
              "0                   0.7                    8.3  ...   0.8         0    0.4   \n",
              "1                   0.3                   14.3  ...   0.8         0    0.3   \n",
              "2                   1.1                   22.6  ...  0.73         0    0.7   \n",
              "\n",
              "  Tørstof_g Vand_g A_vitamin_RE Retinol_µg beta_caroten_µg D_vitamin_µg  \\\n",
              "0        10     90         3.33          0              40            0   \n",
              "1      15.1   84.9         2.08          0              25            0   \n",
              "2      24.6   75.3         4.42          0              53            0   \n",
              "\n",
              "  D3_vitamin_µg  \n",
              "0             0  \n",
              "1             0  \n",
              "2             0  \n",
              "\n",
              "[3 rows x 25 columns]"
            ],
            "text/html": [
              "\n",
              "  <div id=\"df-07883a72-b26f-41bd-b6cc-620f323201d7\">\n",
              "    <div class=\"colab-df-container\">\n",
              "      <table id=\"e0b23d5e-e93e-4c96-87a7-082922e69ac3\" class=\"display\"style=\"max-width:100%\"><thead>\n",
              "    <tr style=\"text-align: right;\">\n",
              "      \n",
              "      <th>Gruppe</th>\n",
              "      <th>Navn</th>\n",
              "      <th>Svind_%</th>\n",
              "      <th>Energy_kj</th>\n",
              "      <th>Energy_kcal</th>\n",
              "      <th>Nitrogen_til_protein_faktor</th>\n",
              "      <th>Nitrogen_total_g</th>\n",
              "      <th>Protein_videnskabelign_g</th>\n",
              "      <th>Protein_deklaration_g</th>\n",
              "      <th>Kulhydrat_difference_g</th>\n",
              "      <th>FCF</th>\n",
              "      <th>Alkohol_g</th>\n",
              "      <th>Aske_g</th>\n",
              "      <th>Tørstof_g</th>\n",
              "      <th>Vand_g</th>\n",
              "      <th>A_vitamin_RE</th>\n",
              "      <th>Retinol_µg</th>\n",
              "      <th>beta_caroten_µg</th>\n",
              "      <th>D_vitamin_µg</th>\n",
              "      <th>D3_vitamin_µg</th>\n",
              "    </tr>\n",
              "  </thead><tbody><tr><td>Loading... (need <a href=https://mwouts.github.io/itables/troubleshooting.html>help</a>?)</td></tr></tbody></table>\n",
              "<style>\n",
              "table td {\n",
              "    text-overflow: ellipsis;\n",
              "    overflow: hidden;\n",
              "}\n",
              "\n",
              "table th {\n",
              "    text-overflow: ellipsis;\n",
              "    overflow: hidden;\n",
              "}\n",
              "\n",
              "thead input {\n",
              "    width: 100%;\n",
              "    padding: 3px;\n",
              "    box-sizing: border-box;\n",
              "}\n",
              "\n",
              "tfoot input {\n",
              "    width: 100%;\n",
              "    padding: 3px;\n",
              "    box-sizing: border-box;\n",
              "}\n",
              "\n",
              "</style>\n",
              "<link rel=\"stylesheet\" type=\"text/css\" href=\"https://cdn.datatables.net/1.12.1/css/jquery.dataTables.min.css\">\n",
              "<script type=\"module\">\n",
              "    // Import jquery and DataTable\n",
              "    import 'https://code.jquery.com/jquery-3.6.0.min.js';\n",
              "    import dt from 'https://cdn.datatables.net/1.12.1/js/jquery.dataTables.mjs';\n",
              "    dt($);\n",
              "\n",
              "    // Define the table data\n",
              "    const data = [[\"B\\u00e6rfrugt\", \"Jordb\\u00e6r, r\\u00e5\", \"4\", \"162\", \"38\", \"6.25\", \"0.106\", \"0.7\", \"0.7\", \"8.3\", \"0.8\", \"0\", \"0.4\", \"10\", \"90\", \"3.33\", \"0\", \"40\", \"0\", \"0\"], [\"Kernefrugt\", \"\\u00c6ble, uspec., r\\u00e5t\", \"10\", \"233\", \"55\", \"6.25\", \"0.043\", \"0.3\", \"0.3\", \"14.3\", \"0.8\", \"0\", \"0.3\", \"15.1\", \"84.9\", \"2.08\", \"0\", \"25\", \"0\", \"0\"], [\"Sydfrugt\", \"Banan, r\\u00e5\", \"41\", \"396\", \"93\", \"6.25\", \"0.183\", \"1.1\", \"1.1\", \"22.6\", \"0.73\", \"0\", \"0.7\", \"24.6\", \"75.3\", \"4.42\", \"0\", \"53\", \"0\", \"0\"]];\n",
              "\n",
              "    // Define the dt_args\n",
              "    let dt_args = {\"paging\": false, \"order\": []};\n",
              "    dt_args[\"data\"] = data;\n",
              "\n",
              "    $(document).ready(function () {\n",
              "        \n",
              "        $('#e0b23d5e-e93e-4c96-87a7-082922e69ac3').DataTable(dt_args);\n",
              "    });\n",
              "</script>\n",
              "\n",
              "      <button class=\"colab-df-convert\" onclick=\"convertToInteractive('df-07883a72-b26f-41bd-b6cc-620f323201d7')\"\n",
              "              title=\"Convert this dataframe to an interactive table.\"\n",
              "              style=\"display:none;\">\n",
              "        \n",
              "  <svg xmlns=\"http://www.w3.org/2000/svg\" height=\"24px\"viewBox=\"0 0 24 24\"\n",
              "       width=\"24px\">\n",
              "    <path d=\"M0 0h24v24H0V0z\" fill=\"none\"/>\n",
              "    <path d=\"M18.56 5.44l.94 2.06.94-2.06 2.06-.94-2.06-.94-.94-2.06-.94 2.06-2.06.94zm-11 1L8.5 8.5l.94-2.06 2.06-.94-2.06-.94L8.5 2.5l-.94 2.06-2.06.94zm10 10l.94 2.06.94-2.06 2.06-.94-2.06-.94-.94-2.06-.94 2.06-2.06.94z\"/><path d=\"M17.41 7.96l-1.37-1.37c-.4-.4-.92-.59-1.43-.59-.52 0-1.04.2-1.43.59L10.3 9.45l-7.72 7.72c-.78.78-.78 2.05 0 2.83L4 21.41c.39.39.9.59 1.41.59.51 0 1.02-.2 1.41-.59l7.78-7.78 2.81-2.81c.8-.78.8-2.07 0-2.86zM5.41 20L4 18.59l7.72-7.72 1.47 1.35L5.41 20z\"/>\n",
              "  </svg>\n",
              "      </button>\n",
              "      \n",
              "  <style>\n",
              "    .colab-df-container {\n",
              "      display:flex;\n",
              "      flex-wrap:wrap;\n",
              "      gap: 12px;\n",
              "    }\n",
              "\n",
              "    .colab-df-convert {\n",
              "      background-color: #E8F0FE;\n",
              "      border: none;\n",
              "      border-radius: 50%;\n",
              "      cursor: pointer;\n",
              "      display: none;\n",
              "      fill: #1967D2;\n",
              "      height: 32px;\n",
              "      padding: 0 0 0 0;\n",
              "      width: 32px;\n",
              "    }\n",
              "\n",
              "    .colab-df-convert:hover {\n",
              "      background-color: #E2EBFA;\n",
              "      box-shadow: 0px 1px 2px rgba(60, 64, 67, 0.3), 0px 1px 3px 1px rgba(60, 64, 67, 0.15);\n",
              "      fill: #174EA6;\n",
              "    }\n",
              "\n",
              "    [theme=dark] .colab-df-convert {\n",
              "      background-color: #3B4455;\n",
              "      fill: #D2E3FC;\n",
              "    }\n",
              "\n",
              "    [theme=dark] .colab-df-convert:hover {\n",
              "      background-color: #434B5C;\n",
              "      box-shadow: 0px 1px 3px 1px rgba(0, 0, 0, 0.15);\n",
              "      filter: drop-shadow(0px 1px 2px rgba(0, 0, 0, 0.3));\n",
              "      fill: #FFFFFF;\n",
              "    }\n",
              "  </style>\n",
              "\n",
              "      <script>\n",
              "        const buttonEl =\n",
              "          document.querySelector('#df-07883a72-b26f-41bd-b6cc-620f323201d7 button.colab-df-convert');\n",
              "        buttonEl.style.display =\n",
              "          google.colab.kernel.accessAllowed ? 'block' : 'none';\n",
              "\n",
              "        async function convertToInteractive(key) {\n",
              "          const element = document.querySelector('#df-07883a72-b26f-41bd-b6cc-620f323201d7');\n",
              "          const dataTable =\n",
              "            await google.colab.kernel.invokeFunction('convertToInteractive',\n",
              "                                                     [key], {});\n",
              "          if (!dataTable) return;\n",
              "\n",
              "          const docLinkHtml = 'Like what you see? Visit the ' +\n",
              "            '<a target=\"_blank\" href=https://colab.research.google.com/notebooks/data_table.ipynb>data table notebook</a>'\n",
              "            + ' to learn more about interactive tables.';\n",
              "          element.innerHTML = '';\n",
              "          dataTable['output_type'] = 'display_data';\n",
              "          await google.colab.output.renderOutput(dataTable, element);\n",
              "          const docLink = document.createElement('div');\n",
              "          docLink.innerHTML = docLinkHtml;\n",
              "          element.appendChild(docLink);\n",
              "        }\n",
              "      </script>\n",
              "    </div>\n",
              "  </div>\n",
              "  "
            ]
          },
          "metadata": {},
          "execution_count": 5
        }
      ]
    },
    {
      "cell_type": "code",
      "source": [
        "row=data_frida[data_frida.Navn== \"Kylling, bryst (filet), kogt, pålæg\"]\n",
        "print(\"Id: \", row.index[0])\n",
        "print(\"Category: \", row.Gruppe.values[0])\n",
        "print(\"Name: \", row.Navn.values[0])\n",
        "print(\"Total Energy: \", row.Energy_kj.values[0], \"Kj (\", row.Energy_kcal.values[0], \"Kacl)\")\n",
        "print(\"Total Energy: \", row.Energy_kcal.values[0])\n",
        "print(\"Total Energy: \", row.Energy_kj.values[0])\n",
        "print(\"Total Energy: \", row.Energy_kj.values[0])\n",
        "print(\"Total Energy: \", row.Energy_kj.values[0])\n",
        "print(\"Total Energy: \", row.Energy_kj.values[0])\n",
        "print(\"Total Energy: \", row.Energy_kj.values[0])\n",
        "print(\"Total Energy: \", row.Energy_kj.values[0])"
      ],
      "metadata": {
        "id": "IHGIKIS0x6LT",
        "outputId": "b001ed36-ce85-4934-fd7b-3a6afeb7fa6d",
        "colab": {
          "base_uri": "https://localhost:8080/",
          "height": 0
        }
      },
      "execution_count": 6,
      "outputs": [
        {
          "output_type": "stream",
          "name": "stdout",
          "text": [
            "Id:  561\n",
            "Category:  Kylling og høne\n",
            "Name:  Kylling, bryst (filet), kogt, pålæg\n",
            "Total Energy:  475 Kj ( 113 Kacl)\n",
            "Total Energy:  113\n",
            "Total Energy:  475\n",
            "Total Energy:  475\n",
            "Total Energy:  475\n",
            "Total Energy:  475\n",
            "Total Energy:  475\n",
            "Total Energy:  475\n"
          ]
        }
      ]
    },
    {
      "cell_type": "markdown",
      "source": [
        "**FlavourDB: Database of flavor molecules**\n",
        "*   link =\"https://www.ars.usda.gov/northeast-area/beltsville-md-bhnrc/beltsville-human-nutrition-research-center/methods-and-application-of-food-composition-laboratory/mafcl-site-pages/flavonoids/\"\n",
        "*   Academic Article= https://academic.oup.com/nar/article/46/D1/D1210/4559748\n",
        "*   *FlavourDB= https://cosylab.iiitd.edu.in/flavordb/*"
      ],
      "metadata": {
        "id": "R9zioUx3XDEc"
      }
    },
    {
      "cell_type": "markdown",
      "source": [
        "***Food Database called \"FoodDB\"***\n",
        "\n",
        "for inspiiration\n",
        "Link= https://foodb.ca/foods/FOOD00008\n"
      ],
      "metadata": {
        "id": "-x-OVIc9PTNC"
      }
    },
    {
      "cell_type": "code",
      "source": [
        "from google.colab import files\n",
        "uploaded = files.upload()"
      ],
      "metadata": {
        "colab": {
          "resources": {
            "http://localhost:8080/nbextensions/google.colab/files.js": {
              "data": "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",
              "ok": true,
              "headers": [
                [
                  "content-type",
                  "application/javascript"
                ]
              ],
              "status": 200,
              "status_text": ""
            }
          },
          "base_uri": "https://localhost:8080/",
          "height": 73
        },
        "id": "jGW7E5ZUh45v",
        "outputId": "f51941a6-481b-4512-bd0f-3df8084e5366"
      },
      "execution_count": null,
      "outputs": [
        {
          "output_type": "display_data",
          "data": {
            "text/plain": [
              "<IPython.core.display.HTML object>"
            ],
            "text/html": [
              "\n",
              "     <input type=\"file\" id=\"files-82823f39-02cf-4ca2-bd56-e6f93ca5d5c5\" name=\"files[]\" multiple disabled\n",
              "        style=\"border:none\" />\n",
              "     <output id=\"result-82823f39-02cf-4ca2-bd56-e6f93ca5d5c5\">\n",
              "      Upload widget is only available when the cell has been executed in the\n",
              "      current browser session. Please rerun this cell to enable.\n",
              "      </output>\n",
              "      <script src=\"/nbextensions/google.colab/files.js\"></script> "
            ]
          },
          "metadata": {}
        },
        {
          "output_type": "stream",
          "name": "stdout",
          "text": [
            "Saving OntologyTerm.json to OntologyTerm.json\n"
          ]
        }
      ]
    },
    {
      "cell_type": "code",
      "source": [
        "type(uploaded)\n",
        "# # Get the list of all files and directories with JSON files\n",
        "food_db_dir= \"/content/FoodDB_JSON.zip\" #\"C:/Users/Bruger/Desktop/dataset/FoodDB_JSON/\" # The directory with the JSON files"
      ],
      "metadata": {
        "colab": {
          "base_uri": "https://localhost:8080/"
        },
        "id": "pLg2oMf2nFwe",
        "outputId": "d5e3bebd-e64e-4132-f624-d9e1dbbf5a29"
      },
      "execution_count": null,
      "outputs": [
        {
          "output_type": "execute_result",
          "data": {
            "text/plain": [
              "dict"
            ]
          },
          "metadata": {},
          "execution_count": 67
        }
      ]
    },
    {
      "cell_type": "code",
      "source": [
        "#Food Database called \"FoodDB\"\n",
        "import os\n",
        "import json\n",
        "import pandas as pd\n",
        "import urllib\n",
        "import zipfile\n",
        "\n",
        "file_url_link= \"https://fooddb.ca/public/system/downloads/foodb_2020_04_07_json.zip\"\n",
        "file_name = 'food_db.zip'\n",
        "\n",
        "urllib.request.urlretrieve(file_url_link, file_name)\n",
        "os.listdir()\n",
        "\n",
        "## Lets extract the zipped file first\n",
        "zip_ref = zipfile.ZipFile(\"food_db.zip\", \"r\")\n",
        "zip_ref.extractall()\n",
        "zip_ref.close()"
      ],
      "metadata": {
        "id": "uRmoCv5WRED1"
      },
      "execution_count": 32,
      "outputs": []
    },
    {
      "cell_type": "code",
      "source": [
        "## Lets open one of the extracted file\n",
        "file_link=\"/content/foodb_2020_04_07_json/CompoundExternalDescriptor.json\"\n",
        "\n",
        "chunks = pd.read_json(file_link, lines=True, chunksize = 10)\n",
        "\n",
        "for chunk in chunks:\n",
        "    display(chunk)\n",
        "    break"
      ],
      "metadata": {
        "id": "Q9YEm5zJRzRV",
        "outputId": "a68c888b-5f19-4d9e-ae3d-549b3e124581",
        "colab": {
          "base_uri": "https://localhost:8080/",
          "height": 457
        }
      },
      "execution_count": 76,
      "outputs": [
        {
          "output_type": "display_data",
          "data": {
            "text/plain": [
              "   id                         external_id  \\\n",
              "0   1                          CHEBI:6584   \n",
              "1   2                              C08652   \n",
              "2   3                           CPD-11945   \n",
              "3   4                        LMPK12120534   \n",
              "4   5                         CHEBI:76132   \n",
              "5   6                        LMPK12020089   \n",
              "6   7                         CHEBI:18010   \n",
              "7   8                              C01265   \n",
              "8   9                        LMPK12112731   \n",
              "9  10  345-TRIHYDROXY-37-DIMETHOXYFLAVONE   \n",
              "\n",
              "                                    annotations  compound_id  creator_id  \\\n",
              "0                        anthocyanidin cation\\n           78         NaN   \n",
              "1             Anthocyanidins and anthocyanins\\n           78         NaN   \n",
              "2                            a small molecule\\n           78         NaN   \n",
              "3              Chalcones and dihydrochalcones\\n           87         NaN   \n",
              "4         polyphenol\\ngallate ester\\ncatechin\\n           97         NaN   \n",
              "5  Flavans, Flavanols and Leucoanthocyanidins\\n           97         NaN   \n",
              "6         trihydroxyflavone\\ndimethoxyflavone\\n          176         NaN   \n",
              "7                                   flavonols\\n          176         NaN   \n",
              "8                      Flavones and Flavonols\\n          176         NaN   \n",
              "9                       a flavonol derivative\\n          176         NaN   \n",
              "\n",
              "   updater_id                created_at                updated_at  \n",
              "0         NaN 2015-02-23 22:40:02+00:00 2015-02-23 22:40:02+00:00  \n",
              "1         NaN 2015-02-23 22:40:02+00:00 2015-02-23 22:40:02+00:00  \n",
              "2         NaN 2015-02-23 22:40:02+00:00 2015-02-23 22:40:02+00:00  \n",
              "3         NaN 2015-02-23 22:40:07+00:00 2015-02-23 22:40:07+00:00  \n",
              "4         NaN 2015-02-23 22:40:09+00:00 2015-02-23 22:40:09+00:00  \n",
              "5         NaN 2015-02-23 22:40:09+00:00 2015-02-23 22:40:09+00:00  \n",
              "6         NaN 2015-02-23 22:40:15+00:00 2015-02-23 22:40:15+00:00  \n",
              "7         NaN 2015-02-23 22:40:15+00:00 2015-02-23 22:40:15+00:00  \n",
              "8         NaN 2015-02-23 22:40:15+00:00 2015-02-23 22:40:15+00:00  \n",
              "9         NaN 2015-02-23 22:40:15+00:00 2015-02-23 22:40:15+00:00  "
            ],
            "text/html": [
              "\n",
              "  <div id=\"df-65f52967-dd89-40ae-90ba-ac7b425a5580\">\n",
              "    <div class=\"colab-df-container\">\n",
              "      <table id=\"c826ecad-2888-49e9-9dbb-8124e4a85c92\" class=\"display\"style=\"max-width:100%\"><thead>\n",
              "    <tr style=\"text-align: right;\">\n",
              "      \n",
              "      <th>id</th>\n",
              "      <th>external_id</th>\n",
              "      <th>annotations</th>\n",
              "      <th>compound_id</th>\n",
              "      <th>creator_id</th>\n",
              "      <th>updater_id</th>\n",
              "      <th>created_at</th>\n",
              "      <th>updated_at</th>\n",
              "    </tr>\n",
              "  </thead><tbody><tr><td>Loading... (need <a href=https://mwouts.github.io/itables/troubleshooting.html>help</a>?)</td></tr></tbody></table>\n",
              "<style>\n",
              "table td {\n",
              "    text-overflow: ellipsis;\n",
              "    overflow: hidden;\n",
              "}\n",
              "\n",
              "table th {\n",
              "    text-overflow: ellipsis;\n",
              "    overflow: hidden;\n",
              "}\n",
              "\n",
              "thead input {\n",
              "    width: 100%;\n",
              "    padding: 3px;\n",
              "    box-sizing: border-box;\n",
              "}\n",
              "\n",
              "tfoot input {\n",
              "    width: 100%;\n",
              "    padding: 3px;\n",
              "    box-sizing: border-box;\n",
              "}\n",
              "\n",
              "</style>\n",
              "<link rel=\"stylesheet\" type=\"text/css\" href=\"https://cdn.datatables.net/1.12.1/css/jquery.dataTables.min.css\">\n",
              "<script type=\"module\">\n",
              "    // Import jquery and DataTable\n",
              "    import 'https://code.jquery.com/jquery-3.6.0.min.js';\n",
              "    import dt from 'https://cdn.datatables.net/1.12.1/js/jquery.dataTables.mjs';\n",
              "    dt($);\n",
              "\n",
              "    // Define the table data\n",
              "    const data = [[1, \"CHEBI:6584\", \"anthocyanidin cation\\n\", 78, NaN, NaN, \"2015-02-23 22:40:02\", \"2015-02-23 22:40:02\"], [2, \"C08652\", \"Anthocyanidins and anthocyanins\\n\", 78, NaN, NaN, \"2015-02-23 22:40:02\", \"2015-02-23 22:40:02\"], [3, \"CPD-11945\", \"a small molecule\\n\", 78, NaN, NaN, \"2015-02-23 22:40:02\", \"2015-02-23 22:40:02\"], [4, \"LMPK12120534\", \"Chalcones and dihydrochalcones\\n\", 87, NaN, NaN, \"2015-02-23 22:40:07\", \"2015-02-23 22:40:07\"], [5, \"CHEBI:76132\", \"polyphenol\\ngallate ester\\ncatechin\\n\", 97, NaN, NaN, \"2015-02-23 22:40:09\", \"2015-02-23 22:40:09\"], [6, \"LMPK12020089\", \"Flavans, Flavanols and Leucoanthocyanidins\\n\", 97, NaN, NaN, \"2015-02-23 22:40:09\", \"2015-02-23 22:40:09\"], [7, \"CHEBI:18010\", \"trihydroxyflavone\\ndimethoxyflavone\\n\", 176, NaN, NaN, \"2015-02-23 22:40:15\", \"2015-02-23 22:40:15\"], [8, \"C01265\", \"flavonols\\n\", 176, NaN, NaN, \"2015-02-23 22:40:15\", \"2015-02-23 22:40:15\"], [9, \"LMPK12112731\", \"Flavones and Flavonols\\n\", 176, NaN, NaN, \"2015-02-23 22:40:15\", \"2015-02-23 22:40:15\"], [10, \"345-TRIHYDROXY-37-DIMETHOXYFLAVONE\", \"a flavonol derivative\\n\", 176, NaN, NaN, \"2015-02-23 22:40:15\", \"2015-02-23 22:40:15\"]];\n",
              "\n",
              "    // Define the dt_args\n",
              "    let dt_args = {\"paging\": false, \"order\": []};\n",
              "    dt_args[\"data\"] = data;\n",
              "\n",
              "    $(document).ready(function () {\n",
              "        \n",
              "        $('#c826ecad-2888-49e9-9dbb-8124e4a85c92').DataTable(dt_args);\n",
              "    });\n",
              "</script>\n",
              "\n",
              "      <button class=\"colab-df-convert\" onclick=\"convertToInteractive('df-65f52967-dd89-40ae-90ba-ac7b425a5580')\"\n",
              "              title=\"Convert this dataframe to an interactive table.\"\n",
              "              style=\"display:none;\">\n",
              "        \n",
              "  <svg xmlns=\"http://www.w3.org/2000/svg\" height=\"24px\"viewBox=\"0 0 24 24\"\n",
              "       width=\"24px\">\n",
              "    <path d=\"M0 0h24v24H0V0z\" fill=\"none\"/>\n",
              "    <path d=\"M18.56 5.44l.94 2.06.94-2.06 2.06-.94-2.06-.94-.94-2.06-.94 2.06-2.06.94zm-11 1L8.5 8.5l.94-2.06 2.06-.94-2.06-.94L8.5 2.5l-.94 2.06-2.06.94zm10 10l.94 2.06.94-2.06 2.06-.94-2.06-.94-.94-2.06-.94 2.06-2.06.94z\"/><path d=\"M17.41 7.96l-1.37-1.37c-.4-.4-.92-.59-1.43-.59-.52 0-1.04.2-1.43.59L10.3 9.45l-7.72 7.72c-.78.78-.78 2.05 0 2.83L4 21.41c.39.39.9.59 1.41.59.51 0 1.02-.2 1.41-.59l7.78-7.78 2.81-2.81c.8-.78.8-2.07 0-2.86zM5.41 20L4 18.59l7.72-7.72 1.47 1.35L5.41 20z\"/>\n",
              "  </svg>\n",
              "      </button>\n",
              "      \n",
              "  <style>\n",
              "    .colab-df-container {\n",
              "      display:flex;\n",
              "      flex-wrap:wrap;\n",
              "      gap: 12px;\n",
              "    }\n",
              "\n",
              "    .colab-df-convert {\n",
              "      background-color: #E8F0FE;\n",
              "      border: none;\n",
              "      border-radius: 50%;\n",
              "      cursor: pointer;\n",
              "      display: none;\n",
              "      fill: #1967D2;\n",
              "      height: 32px;\n",
              "      padding: 0 0 0 0;\n",
              "      width: 32px;\n",
              "    }\n",
              "\n",
              "    .colab-df-convert:hover {\n",
              "      background-color: #E2EBFA;\n",
              "      box-shadow: 0px 1px 2px rgba(60, 64, 67, 0.3), 0px 1px 3px 1px rgba(60, 64, 67, 0.15);\n",
              "      fill: #174EA6;\n",
              "    }\n",
              "\n",
              "    [theme=dark] .colab-df-convert {\n",
              "      background-color: #3B4455;\n",
              "      fill: #D2E3FC;\n",
              "    }\n",
              "\n",
              "    [theme=dark] .colab-df-convert:hover {\n",
              "      background-color: #434B5C;\n",
              "      box-shadow: 0px 1px 3px 1px rgba(0, 0, 0, 0.15);\n",
              "      filter: drop-shadow(0px 1px 2px rgba(0, 0, 0, 0.3));\n",
              "      fill: #FFFFFF;\n",
              "    }\n",
              "  </style>\n",
              "\n",
              "      <script>\n",
              "        const buttonEl =\n",
              "          document.querySelector('#df-65f52967-dd89-40ae-90ba-ac7b425a5580 button.colab-df-convert');\n",
              "        buttonEl.style.display =\n",
              "          google.colab.kernel.accessAllowed ? 'block' : 'none';\n",
              "\n",
              "        async function convertToInteractive(key) {\n",
              "          const element = document.querySelector('#df-65f52967-dd89-40ae-90ba-ac7b425a5580');\n",
              "          const dataTable =\n",
              "            await google.colab.kernel.invokeFunction('convertToInteractive',\n",
              "                                                     [key], {});\n",
              "          if (!dataTable) return;\n",
              "\n",
              "          const docLinkHtml = 'Like what you see? Visit the ' +\n",
              "            '<a target=\"_blank\" href=https://colab.research.google.com/notebooks/data_table.ipynb>data table notebook</a>'\n",
              "            + ' to learn more about interactive tables.';\n",
              "          element.innerHTML = '';\n",
              "          dataTable['output_type'] = 'display_data';\n",
              "          await google.colab.output.renderOutput(dataTable, element);\n",
              "          const docLink = document.createElement('div');\n",
              "          docLink.innerHTML = docLinkHtml;\n",
              "          element.appendChild(docLink);\n",
              "        }\n",
              "      </script>\n",
              "    </div>\n",
              "  </div>\n",
              "  "
            ]
          },
          "metadata": {}
        }
      ]
    },
    {
      "cell_type": "markdown",
      "source": [
        "***FoodOn: A farm to fork ontology***\n",
        "\n",
        "*   link= https://foodon.org/\n",
        "\n",
        "> Application of FoodOn: https://foodon.org/wp-content/uploads/2020/11/image-768x310.png \n",
        "\n",
        "*   FoodKG: A Semantics-Driven Knowledge Graph for Food Recommendation:https://foodkg.github.io/subs.html"
      ],
      "metadata": {
        "id": "cZ0vbE9SYtQj"
      }
    },
    {
      "cell_type": "code",
      "source": [
        "# FoodOn:A harmonized food ontology to increase global food traceability\n"
      ],
      "metadata": {
        "id": "NdGN6kdC5PJc"
      },
      "execution_count": null,
      "outputs": []
    },
    {
      "cell_type": "markdown",
      "source": [
        "***FoodOntomap:* Linking food concepts across Different Food Ontologies**\n",
        "Link of Database: https://zenodo.org/record/3600619/files/FoodOntoMap_v2.zip?download=1\n"
      ],
      "metadata": {
        "id": "5LXq1bP3cWES"
      }
    },
    {
      "cell_type": "code",
      "source": [],
      "metadata": {
        "id": "bzD6dEHMd2dP"
      },
      "execution_count": null,
      "outputs": []
    },
    {
      "cell_type": "markdown",
      "source": [
        "***Food Image datasets:***\n",
        "\n",
        "*   **link:** https://www.epfl.ch/labs/mmspg/downloads/food-image-datasets/\n",
        "*   **Food-5K:** Dataset of food-imgesand non-food images, resulting in a totoal of 5,000 images\n",
        "*   **Food-11:** dataset consist of 16,643 images grouped into 11 categories, which basiically covers the major types of food that people consumer in daily life"
      ],
      "metadata": {
        "id": "yaGFIcithcVU"
      }
    },
    {
      "cell_type": "code",
      "source": [],
      "metadata": {
        "id": "V3GG48GinYwR"
      },
      "execution_count": null,
      "outputs": []
    },
    {
      "cell_type": "markdown",
      "source": [
        "*** FAO Food Composition Databases ***\n",
        "*   Link: https://www.fao.org/infoods/infoods/tables-and-databases/faoinfoods-databases/en/\n",
        "*   List item\n",
        "\n"
      ],
      "metadata": {
        "id": "xP9JsTiW8rcW"
      }
    },
    {
      "cell_type": "code",
      "source": [],
      "metadata": {
        "id": "CxSYT-o184RN"
      },
      "execution_count": null,
      "outputs": []
    },
    {
      "cell_type": "markdown",
      "source": [
        "***NutriChem 2.0:* exploring the effect of plant-based foods on human health and drug efficacy**"
      ],
      "metadata": {
        "id": "dgQ2z2DtnF_f"
      }
    },
    {
      "cell_type": "code",
      "source": [],
      "metadata": {
        "id": "QNoBSf0XnlvB"
      },
      "execution_count": null,
      "outputs": []
    },
    {
      "cell_type": "markdown",
      "source": [
        "***DietHub:* Dietary habits analysis through understanding the content of recipes**"
      ],
      "metadata": {
        "id": "9SXPKTGPsryW"
      }
    },
    {
      "cell_type": "markdown",
      "source": [
        "***US food Data central ***\n",
        "API key= https://api.nal.usda.gov/fdc/v1/foods/search?query=apple&pageSize=2&api_key=JdC6qVfCHr3AEEaiKkQrUFZGrXncNUGup7E5crN1"
      ],
      "metadata": {
        "id": "-itPAXoyvoEa"
      }
    },
    {
      "cell_type": "code",
      "source": [],
      "metadata": {
        "id": "1ZLJC8epvsun"
      },
      "execution_count": null,
      "outputs": []
    }
  ]
}